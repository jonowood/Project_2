{
 "cells": [
  {
   "cell_type": "markdown",
   "id": "8177f5b0",
   "metadata": {},
   "source": [
    "### Import Dependencies"
   ]
  },
  {
   "cell_type": "code",
   "execution_count": 1,
   "id": "8ec85c0a",
   "metadata": {},
   "outputs": [],
   "source": [
    "import os\n",
    "import pandas as pd\n",
    "from sqlalchemy import create_engine\n",
    "from sqlalchemy import inspect"
   ]
  },
  {
   "cell_type": "markdown",
   "id": "131eaf24",
   "metadata": {},
   "source": [
    "--------------------------------"
   ]
  },
  {
   "cell_type": "markdown",
   "id": "0a323e88",
   "metadata": {},
   "source": [
    "# ABS_ERP_COMP"
   ]
  },
  {
   "cell_type": "markdown",
   "id": "2f54b3db",
   "metadata": {},
   "source": [
    "### Load CSV"
   ]
  },
  {
   "cell_type": "code",
   "execution_count": null,
   "id": "ba676da4",
   "metadata": {},
   "outputs": [],
   "source": [
    "csv_file = os.path.join('..', 'Resources', 'ABS_ERP_COMP_CLEAN.csv')\n",
    "# csv_file = \"Resources/ABS_ERP_COMP_CLEAN.csv\"\n",
    "\n",
    "erp_data_df = pd.read_csv(csv_file)\n",
    "erp_data_df.head()"
   ]
  },
  {
   "cell_type": "markdown",
   "id": "0e1641d5",
   "metadata": {},
   "source": [
    "----------------------------------------"
   ]
  },
  {
   "cell_type": "markdown",
   "id": "a783cb8e",
   "metadata": {},
   "source": [
    "### Copy Region Colum to New DF - For Table 'States'"
   ]
  },
  {
   "cell_type": "code",
   "execution_count": null,
   "id": "0fd34247",
   "metadata": {},
   "outputs": [],
   "source": [
    "# Copy column to new DF\n",
    "new_test_region_df = erp_data_df[['REGION: Region']].copy()\n",
    "new_test_region_df.head()"
   ]
  },
  {
   "cell_type": "code",
   "execution_count": null,
   "id": "0c09ce38",
   "metadata": {},
   "outputs": [],
   "source": [
    "# Drop duplicates\n",
    "new_test_region_df = new_test_region_df.sort_values('REGION: Region').drop_duplicates('REGION: Region', keep='last')"
   ]
  },
  {
   "cell_type": "code",
   "execution_count": null,
   "id": "0a529186",
   "metadata": {},
   "outputs": [],
   "source": [
    "# Create Index Column with Unique Values\n",
    "new_test_region_df.reset_index(level=0, inplace=True)\n",
    "new_test_region_df"
   ]
  },
  {
   "cell_type": "code",
   "execution_count": null,
   "id": "087b62b0",
   "metadata": {},
   "outputs": [],
   "source": [
    "# Rename Column Headers to match Schemata\n",
    "new_test_region_df.rename(columns = {'index':'state_id', 'REGION: Region': 'state_name'}, inplace=True)\n",
    "new_test_region_df"
   ]
  },
  {
   "cell_type": "code",
   "execution_count": null,
   "id": "b43ec309",
   "metadata": {},
   "outputs": [],
   "source": []
  },
  {
   "cell_type": "markdown",
   "id": "abf1c830",
   "metadata": {},
   "source": [
    "### Copy Time Period Colum to New DF - For Table 'Quarters'"
   ]
  },
  {
   "cell_type": "code",
   "execution_count": null,
   "id": "df3b79f7",
   "metadata": {},
   "outputs": [],
   "source": [
    "# Copy column to new DF\n",
    "new_test_quarter_df = erp_data_df[['TIME_PERIOD: Time Period']].copy()\n",
    "new_test_quarter_df.head()"
   ]
  },
  {
   "cell_type": "code",
   "execution_count": null,
   "id": "0f095da4",
   "metadata": {},
   "outputs": [],
   "source": [
    "# Drop duplicates\n",
    "new_test_quarter_df = new_test_quarter_df.sort_values('TIME_PERIOD: Time Period').drop_duplicates('TIME_PERIOD: Time Period', keep='last')"
   ]
  },
  {
   "cell_type": "code",
   "execution_count": null,
   "id": "097322c4",
   "metadata": {},
   "outputs": [],
   "source": [
    "# Create Index Column with Unique Values\n",
    "new_test_quarter_df.reset_index(level=0, inplace=True)\n",
    "new_test_quarter_df"
   ]
  },
  {
   "cell_type": "code",
   "execution_count": null,
   "id": "cc186a9c",
   "metadata": {},
   "outputs": [],
   "source": [
    "# Rename Column Headers to match Schemata\n",
    "new_test_quarter_df.rename(columns = {'index':'quarter_id', 'TIME_PERIOD: Time Period': 'date_quarter'}, inplace=True)\n",
    "new_test_quarter_df"
   ]
  },
  {
   "cell_type": "markdown",
   "id": "3d4bcf4a",
   "metadata": {},
   "source": []
  },
  {
   "cell_type": "code",
   "execution_count": null,
   "id": "ef6ea577",
   "metadata": {},
   "outputs": [],
   "source": []
  },
  {
   "cell_type": "code",
   "execution_count": null,
   "id": "175eb523",
   "metadata": {},
   "outputs": [],
   "source": []
  },
  {
   "cell_type": "code",
   "execution_count": null,
   "id": "a6965c7b",
   "metadata": {},
   "outputs": [],
   "source": []
  },
  {
   "cell_type": "code",
   "execution_count": null,
   "id": "df40e795",
   "metadata": {},
   "outputs": [],
   "source": []
  },
  {
   "cell_type": "code",
   "execution_count": null,
   "id": "d6d157ef",
   "metadata": {},
   "outputs": [],
   "source": []
  },
  {
   "cell_type": "code",
   "execution_count": null,
   "id": "16e1f955",
   "metadata": {},
   "outputs": [],
   "source": []
  },
  {
   "cell_type": "code",
   "execution_count": null,
   "id": "5f9b433e",
   "metadata": {},
   "outputs": [],
   "source": []
  },
  {
   "cell_type": "code",
   "execution_count": null,
   "id": "3a6856d3",
   "metadata": {},
   "outputs": [],
   "source": []
  },
  {
   "cell_type": "code",
   "execution_count": null,
   "id": "99a37583",
   "metadata": {},
   "outputs": [],
   "source": []
  },
  {
   "cell_type": "code",
   "execution_count": null,
   "id": "b667ddf4",
   "metadata": {},
   "outputs": [],
   "source": []
  },
  {
   "cell_type": "code",
   "execution_count": null,
   "id": "69e0a710",
   "metadata": {},
   "outputs": [],
   "source": []
  }
 ],
 "metadata": {
  "kernelspec": {
   "display_name": "Python 3 (ipykernel)",
   "language": "python",
   "name": "python3"
  },
  "language_info": {
   "codemirror_mode": {
    "name": "ipython",
    "version": 3
   },
   "file_extension": ".py",
   "mimetype": "text/x-python",
   "name": "python",
   "nbconvert_exporter": "python",
   "pygments_lexer": "ipython3",
   "version": "3.9.12"
  }
 },
 "nbformat": 4,
 "nbformat_minor": 5
}
