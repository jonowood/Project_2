{
 "cells": [
  {
   "cell_type": "markdown",
   "id": "8fa24bc2",
   "metadata": {},
   "source": [
    "# Project 2 - Team 6"
   ]
  },
  {
   "cell_type": "markdown",
   "id": "39d61e97",
   "metadata": {},
   "source": [
    "## ETL "
   ]
  },
  {
   "cell_type": "markdown",
   "id": "8b2f29b6",
   "metadata": {},
   "source": [
    "### Import Dependencies"
   ]
  },
  {
   "cell_type": "code",
   "execution_count": 1,
   "id": "045561ce",
   "metadata": {},
   "outputs": [],
   "source": [
    "import os\n",
    "import pandas as pd\n",
    "from sqlalchemy import create_engine\n",
    "from sqlalchemy import inspect"
   ]
  },
  {
   "cell_type": "markdown",
   "id": "665b81a4",
   "metadata": {},
   "source": [
    "--------------------------------"
   ]
  },
  {
   "cell_type": "markdown",
   "id": "ff32b3fa",
   "metadata": {},
   "source": [
    "# ABS_ERP_COMP.csv"
   ]
  },
  {
   "cell_type": "markdown",
   "id": "c8dbd19a",
   "metadata": {},
   "source": [
    "### Load CSV"
   ]
  },
  {
   "cell_type": "code",
   "execution_count": 2,
   "id": "ccea0a0b",
   "metadata": {},
   "outputs": [
    {
     "data": {
      "text/html": [
       "<div>\n",
       "<style scoped>\n",
       "    .dataframe tbody tr th:only-of-type {\n",
       "        vertical-align: middle;\n",
       "    }\n",
       "\n",
       "    .dataframe tbody tr th {\n",
       "        vertical-align: top;\n",
       "    }\n",
       "\n",
       "    .dataframe thead th {\n",
       "        text-align: right;\n",
       "    }\n",
       "</style>\n",
       "<table border=\"1\" class=\"dataframe\">\n",
       "  <thead>\n",
       "    <tr style=\"text-align: right;\">\n",
       "      <th></th>\n",
       "      <th>DATAFLOW</th>\n",
       "      <th>MEASURE: Measure</th>\n",
       "      <th>REGION: Region</th>\n",
       "      <th>FREQ: Frequency</th>\n",
       "      <th>TIME_PERIOD: Time Period</th>\n",
       "      <th>OBS_VALUE</th>\n",
       "      <th>UNIT_MEASURE: Unit of Measure</th>\n",
       "      <th>UNIT_MULT: Unit of Multiplier</th>\n",
       "      <th>OBS_STATUS: Observation Status</th>\n",
       "      <th>OBS_COMMENT: Observation Comment</th>\n",
       "    </tr>\n",
       "  </thead>\n",
       "  <tbody>\n",
       "    <tr>\n",
       "      <th>0</th>\n",
       "      <td>ABS:ERP_COMP_Q(1.0.0)</td>\n",
       "      <td>Internal Arrivals</td>\n",
       "      <td>Australia</td>\n",
       "      <td>Q: Quarterly</td>\n",
       "      <td>1981-Q2</td>\n",
       "      <td>78.0</td>\n",
       "      <td>NUM: Number</td>\n",
       "      <td>3: Thousands</td>\n",
       "      <td>NaN</td>\n",
       "      <td>NaN</td>\n",
       "    </tr>\n",
       "    <tr>\n",
       "      <th>1</th>\n",
       "      <td>ABS:ERP_COMP_Q(1.0.0)</td>\n",
       "      <td>Internal Departures</td>\n",
       "      <td>Australia</td>\n",
       "      <td>Q: Quarterly</td>\n",
       "      <td>1981-Q2</td>\n",
       "      <td>78.0</td>\n",
       "      <td>NUM: Number</td>\n",
       "      <td>3: Thousands</td>\n",
       "      <td>NaN</td>\n",
       "      <td>NaN</td>\n",
       "    </tr>\n",
       "    <tr>\n",
       "      <th>2</th>\n",
       "      <td>ABS:ERP_COMP_Q(1.0.0)</td>\n",
       "      <td>Change Over Previous Quarter</td>\n",
       "      <td>Australian Capital Territory</td>\n",
       "      <td>Q: Quarterly</td>\n",
       "      <td>1981-Q2</td>\n",
       "      <td>NaN</td>\n",
       "      <td>NUM: Number</td>\n",
       "      <td>0: Units</td>\n",
       "      <td>u: not applicable</td>\n",
       "      <td>NaN</td>\n",
       "    </tr>\n",
       "    <tr>\n",
       "      <th>3</th>\n",
       "      <td>ABS:ERP_COMP_Q(1.0.0)</td>\n",
       "      <td>Net Internal Migration</td>\n",
       "      <td>Australian Capital Territory</td>\n",
       "      <td>Q: Quarterly</td>\n",
       "      <td>1981-Q2</td>\n",
       "      <td>565.0</td>\n",
       "      <td>NUM: Number</td>\n",
       "      <td>0: Units</td>\n",
       "      <td>NaN</td>\n",
       "      <td>NaN</td>\n",
       "    </tr>\n",
       "    <tr>\n",
       "      <th>4</th>\n",
       "      <td>ABS:ERP_COMP_Q(1.0.0)</td>\n",
       "      <td>Net Internal Migration</td>\n",
       "      <td>New South Wales</td>\n",
       "      <td>Q: Quarterly</td>\n",
       "      <td>1981-Q2</td>\n",
       "      <td>-6330.0</td>\n",
       "      <td>NUM: Number</td>\n",
       "      <td>0: Units</td>\n",
       "      <td>NaN</td>\n",
       "      <td>NaN</td>\n",
       "    </tr>\n",
       "  </tbody>\n",
       "</table>\n",
       "</div>"
      ],
      "text/plain": [
       "                DATAFLOW               MEASURE: Measure  \\\n",
       "0  ABS:ERP_COMP_Q(1.0.0)              Internal Arrivals   \n",
       "1  ABS:ERP_COMP_Q(1.0.0)            Internal Departures   \n",
       "2  ABS:ERP_COMP_Q(1.0.0)   Change Over Previous Quarter   \n",
       "3  ABS:ERP_COMP_Q(1.0.0)         Net Internal Migration   \n",
       "4  ABS:ERP_COMP_Q(1.0.0)         Net Internal Migration   \n",
       "\n",
       "                  REGION: Region FREQ: Frequency TIME_PERIOD: Time Period  \\\n",
       "0                      Australia    Q: Quarterly                  1981-Q2   \n",
       "1                      Australia    Q: Quarterly                  1981-Q2   \n",
       "2   Australian Capital Territory    Q: Quarterly                  1981-Q2   \n",
       "3   Australian Capital Territory    Q: Quarterly                  1981-Q2   \n",
       "4                New South Wales    Q: Quarterly                  1981-Q2   \n",
       "\n",
       "   OBS_VALUE UNIT_MEASURE: Unit of Measure UNIT_MULT: Unit of Multiplier  \\\n",
       "0       78.0                   NUM: Number                  3: Thousands   \n",
       "1       78.0                   NUM: Number                  3: Thousands   \n",
       "2        NaN                   NUM: Number                      0: Units   \n",
       "3      565.0                   NUM: Number                      0: Units   \n",
       "4    -6330.0                   NUM: Number                      0: Units   \n",
       "\n",
       "  OBS_STATUS: Observation Status  OBS_COMMENT: Observation Comment  \n",
       "0                            NaN                               NaN  \n",
       "1                            NaN                               NaN  \n",
       "2              u: not applicable                               NaN  \n",
       "3                            NaN                               NaN  \n",
       "4                            NaN                               NaN  "
      ]
     },
     "execution_count": 2,
     "metadata": {},
     "output_type": "execute_result"
    }
   ],
   "source": [
    "csv_file = os.path.join('..', 'Resources', 'ABS_ERP_COMP_CLEAN.csv')\n",
    "# csv_file = \"Resources/ABS_ERP_COMP_CLEAN.csv\"\n",
    "\n",
    "erp_data_df = pd.read_csv(csv_file)\n",
    "erp_data_df.head()"
   ]
  },
  {
   "cell_type": "markdown",
   "id": "a2c50b96",
   "metadata": {},
   "source": [
    "----------------------------------------"
   ]
  },
  {
   "cell_type": "markdown",
   "id": "4fe778a2",
   "metadata": {},
   "source": [
    "# ABS_AWE.csv"
   ]
  },
  {
   "cell_type": "markdown",
   "id": "5744e03b",
   "metadata": {},
   "source": [
    "### Load CSV"
   ]
  },
  {
   "cell_type": "code",
   "execution_count": 3,
   "id": "c253961d",
   "metadata": {},
   "outputs": [
    {
     "data": {
      "text/html": [
       "<div>\n",
       "<style scoped>\n",
       "    .dataframe tbody tr th:only-of-type {\n",
       "        vertical-align: middle;\n",
       "    }\n",
       "\n",
       "    .dataframe tbody tr th {\n",
       "        vertical-align: top;\n",
       "    }\n",
       "\n",
       "    .dataframe thead th {\n",
       "        text-align: right;\n",
       "    }\n",
       "</style>\n",
       "<table border=\"1\" class=\"dataframe\">\n",
       "  <thead>\n",
       "    <tr style=\"text-align: right;\">\n",
       "      <th></th>\n",
       "      <th>DATAFLOW</th>\n",
       "      <th>MEASURE: Measure</th>\n",
       "      <th>REGION: Region</th>\n",
       "      <th>FREQ: Frequency</th>\n",
       "      <th>TIME_PERIOD: Time Period</th>\n",
       "      <th>OBS_VALUE</th>\n",
       "      <th>UNIT_MEASURE: Unit of Measure</th>\n",
       "      <th>UNIT_MULT: Unit of Multiplier</th>\n",
       "      <th>OBS_STATUS: Observation Status</th>\n",
       "      <th>OBS_COMMENT: Observation Comment</th>\n",
       "    </tr>\n",
       "  </thead>\n",
       "  <tbody>\n",
       "    <tr>\n",
       "      <th>0</th>\n",
       "      <td>ABS:ERP_COMP_Q(1.0.0)</td>\n",
       "      <td>Internal Arrivals</td>\n",
       "      <td>Australia</td>\n",
       "      <td>Q: Quarterly</td>\n",
       "      <td>1981-Q2</td>\n",
       "      <td>78.0</td>\n",
       "      <td>NUM: Number</td>\n",
       "      <td>3: Thousands</td>\n",
       "      <td>NaN</td>\n",
       "      <td>NaN</td>\n",
       "    </tr>\n",
       "    <tr>\n",
       "      <th>1</th>\n",
       "      <td>ABS:ERP_COMP_Q(1.0.0)</td>\n",
       "      <td>Internal Departures</td>\n",
       "      <td>Australia</td>\n",
       "      <td>Q: Quarterly</td>\n",
       "      <td>1981-Q2</td>\n",
       "      <td>78.0</td>\n",
       "      <td>NUM: Number</td>\n",
       "      <td>3: Thousands</td>\n",
       "      <td>NaN</td>\n",
       "      <td>NaN</td>\n",
       "    </tr>\n",
       "    <tr>\n",
       "      <th>2</th>\n",
       "      <td>ABS:ERP_COMP_Q(1.0.0)</td>\n",
       "      <td>Change Over Previous Quarter</td>\n",
       "      <td>Australian Capital Territory</td>\n",
       "      <td>Q: Quarterly</td>\n",
       "      <td>1981-Q2</td>\n",
       "      <td>NaN</td>\n",
       "      <td>NUM: Number</td>\n",
       "      <td>0: Units</td>\n",
       "      <td>u: not applicable</td>\n",
       "      <td>NaN</td>\n",
       "    </tr>\n",
       "    <tr>\n",
       "      <th>3</th>\n",
       "      <td>ABS:ERP_COMP_Q(1.0.0)</td>\n",
       "      <td>Net Internal Migration</td>\n",
       "      <td>Australian Capital Territory</td>\n",
       "      <td>Q: Quarterly</td>\n",
       "      <td>1981-Q2</td>\n",
       "      <td>565.0</td>\n",
       "      <td>NUM: Number</td>\n",
       "      <td>0: Units</td>\n",
       "      <td>NaN</td>\n",
       "      <td>NaN</td>\n",
       "    </tr>\n",
       "    <tr>\n",
       "      <th>4</th>\n",
       "      <td>ABS:ERP_COMP_Q(1.0.0)</td>\n",
       "      <td>Net Internal Migration</td>\n",
       "      <td>New South Wales</td>\n",
       "      <td>Q: Quarterly</td>\n",
       "      <td>1981-Q2</td>\n",
       "      <td>-6330.0</td>\n",
       "      <td>NUM: Number</td>\n",
       "      <td>0: Units</td>\n",
       "      <td>NaN</td>\n",
       "      <td>NaN</td>\n",
       "    </tr>\n",
       "  </tbody>\n",
       "</table>\n",
       "</div>"
      ],
      "text/plain": [
       "                DATAFLOW               MEASURE: Measure  \\\n",
       "0  ABS:ERP_COMP_Q(1.0.0)              Internal Arrivals   \n",
       "1  ABS:ERP_COMP_Q(1.0.0)            Internal Departures   \n",
       "2  ABS:ERP_COMP_Q(1.0.0)   Change Over Previous Quarter   \n",
       "3  ABS:ERP_COMP_Q(1.0.0)         Net Internal Migration   \n",
       "4  ABS:ERP_COMP_Q(1.0.0)         Net Internal Migration   \n",
       "\n",
       "                  REGION: Region FREQ: Frequency TIME_PERIOD: Time Period  \\\n",
       "0                      Australia    Q: Quarterly                  1981-Q2   \n",
       "1                      Australia    Q: Quarterly                  1981-Q2   \n",
       "2   Australian Capital Territory    Q: Quarterly                  1981-Q2   \n",
       "3   Australian Capital Territory    Q: Quarterly                  1981-Q2   \n",
       "4                New South Wales    Q: Quarterly                  1981-Q2   \n",
       "\n",
       "   OBS_VALUE UNIT_MEASURE: Unit of Measure UNIT_MULT: Unit of Multiplier  \\\n",
       "0       78.0                   NUM: Number                  3: Thousands   \n",
       "1       78.0                   NUM: Number                  3: Thousands   \n",
       "2        NaN                   NUM: Number                      0: Units   \n",
       "3      565.0                   NUM: Number                      0: Units   \n",
       "4    -6330.0                   NUM: Number                      0: Units   \n",
       "\n",
       "  OBS_STATUS: Observation Status  OBS_COMMENT: Observation Comment  \n",
       "0                            NaN                               NaN  \n",
       "1                            NaN                               NaN  \n",
       "2              u: not applicable                               NaN  \n",
       "3                            NaN                               NaN  \n",
       "4                            NaN                               NaN  "
      ]
     },
     "execution_count": 3,
     "metadata": {},
     "output_type": "execute_result"
    }
   ],
   "source": [
    "csv_file = os.path.join('..', 'Resources', 'ABS_ERP_COMP_CLEAN.csv')\n",
    "# csv_file = \"Resources/ABS_AWE_CLEAN.csv\"\n",
    "\n",
    "awe_data_df = pd.read_csv(csv_file)\n",
    "awe_data_df.head()"
   ]
  },
  {
   "cell_type": "markdown",
   "id": "0165d9c0",
   "metadata": {},
   "source": [
    "----------------------------------------"
   ]
  },
  {
   "cell_type": "markdown",
   "id": "8f1f541e",
   "metadata": {},
   "source": [
    "# States Table"
   ]
  },
  {
   "attachments": {},
   "cell_type": "markdown",
   "id": "8f806d8d",
   "metadata": {
    "slideshow": {
     "slide_type": "slide"
    }
   },
   "source": [
    "<!-- ![states_table.png](attachment:states_table.png) -->\n",
    "\n",
    "<img src=\"../Images/states_table.png\" \n",
    "     align=\"left\" \n",
    "     width=\"250\" />"
   ]
  },
  {
   "cell_type": "markdown",
   "id": "bf61144c",
   "metadata": {},
   "source": [
    "### Copy Region Colum to New DF - For Table 'States'"
   ]
  },
  {
   "cell_type": "code",
   "execution_count": 4,
   "id": "c9d85ad8",
   "metadata": {},
   "outputs": [
    {
     "data": {
      "text/html": [
       "<div>\n",
       "<style scoped>\n",
       "    .dataframe tbody tr th:only-of-type {\n",
       "        vertical-align: middle;\n",
       "    }\n",
       "\n",
       "    .dataframe tbody tr th {\n",
       "        vertical-align: top;\n",
       "    }\n",
       "\n",
       "    .dataframe thead th {\n",
       "        text-align: right;\n",
       "    }\n",
       "</style>\n",
       "<table border=\"1\" class=\"dataframe\">\n",
       "  <thead>\n",
       "    <tr style=\"text-align: right;\">\n",
       "      <th></th>\n",
       "      <th>REGION: Region</th>\n",
       "    </tr>\n",
       "  </thead>\n",
       "  <tbody>\n",
       "    <tr>\n",
       "      <th>0</th>\n",
       "      <td>Australia</td>\n",
       "    </tr>\n",
       "    <tr>\n",
       "      <th>1</th>\n",
       "      <td>Australia</td>\n",
       "    </tr>\n",
       "    <tr>\n",
       "      <th>2</th>\n",
       "      <td>Australian Capital Territory</td>\n",
       "    </tr>\n",
       "    <tr>\n",
       "      <th>3</th>\n",
       "      <td>Australian Capital Territory</td>\n",
       "    </tr>\n",
       "    <tr>\n",
       "      <th>4</th>\n",
       "      <td>New South Wales</td>\n",
       "    </tr>\n",
       "  </tbody>\n",
       "</table>\n",
       "</div>"
      ],
      "text/plain": [
       "                  REGION: Region\n",
       "0                      Australia\n",
       "1                      Australia\n",
       "2   Australian Capital Territory\n",
       "3   Australian Capital Territory\n",
       "4                New South Wales"
      ]
     },
     "execution_count": 4,
     "metadata": {},
     "output_type": "execute_result"
    }
   ],
   "source": [
    "# Copy column to new DF\n",
    "new_test_region_df = erp_data_df[['REGION: Region']].copy()\n",
    "new_test_region_df.head()"
   ]
  },
  {
   "cell_type": "code",
   "execution_count": 5,
   "id": "d404744e",
   "metadata": {},
   "outputs": [],
   "source": [
    "# Drop duplicates\n",
    "new_test_region_df = new_test_region_df.sort_values('REGION: Region').drop_duplicates('REGION: Region', keep='last')"
   ]
  },
  {
   "cell_type": "code",
   "execution_count": 6,
   "id": "8281e1aa",
   "metadata": {},
   "outputs": [
    {
     "data": {
      "text/html": [
       "<div>\n",
       "<style scoped>\n",
       "    .dataframe tbody tr th:only-of-type {\n",
       "        vertical-align: middle;\n",
       "    }\n",
       "\n",
       "    .dataframe tbody tr th {\n",
       "        vertical-align: top;\n",
       "    }\n",
       "\n",
       "    .dataframe thead th {\n",
       "        text-align: right;\n",
       "    }\n",
       "</style>\n",
       "<table border=\"1\" class=\"dataframe\">\n",
       "  <thead>\n",
       "    <tr style=\"text-align: right;\">\n",
       "      <th></th>\n",
       "      <th>index</th>\n",
       "      <th>REGION: Region</th>\n",
       "    </tr>\n",
       "  </thead>\n",
       "  <tbody>\n",
       "    <tr>\n",
       "      <th>0</th>\n",
       "      <td>303</td>\n",
       "      <td>Australia</td>\n",
       "    </tr>\n",
       "    <tr>\n",
       "      <th>1</th>\n",
       "      <td>553</td>\n",
       "      <td>Australian Capital Territory</td>\n",
       "    </tr>\n",
       "    <tr>\n",
       "      <th>2</th>\n",
       "      <td>2854</td>\n",
       "      <td>New South Wales</td>\n",
       "    </tr>\n",
       "    <tr>\n",
       "      <th>3</th>\n",
       "      <td>747</td>\n",
       "      <td>Northern Territory</td>\n",
       "    </tr>\n",
       "    <tr>\n",
       "      <th>4</th>\n",
       "      <td>2326</td>\n",
       "      <td>Queensland</td>\n",
       "    </tr>\n",
       "    <tr>\n",
       "      <th>5</th>\n",
       "      <td>2841</td>\n",
       "      <td>South Australia</td>\n",
       "    </tr>\n",
       "    <tr>\n",
       "      <th>6</th>\n",
       "      <td>2273</td>\n",
       "      <td>Tasmania</td>\n",
       "    </tr>\n",
       "    <tr>\n",
       "      <th>7</th>\n",
       "      <td>1287</td>\n",
       "      <td>Victoria</td>\n",
       "    </tr>\n",
       "    <tr>\n",
       "      <th>8</th>\n",
       "      <td>3114</td>\n",
       "      <td>Western Australia</td>\n",
       "    </tr>\n",
       "  </tbody>\n",
       "</table>\n",
       "</div>"
      ],
      "text/plain": [
       "   index                 REGION: Region\n",
       "0    303                      Australia\n",
       "1    553   Australian Capital Territory\n",
       "2   2854                New South Wales\n",
       "3    747             Northern Territory\n",
       "4   2326                     Queensland\n",
       "5   2841                South Australia\n",
       "6   2273                       Tasmania\n",
       "7   1287                       Victoria\n",
       "8   3114              Western Australia"
      ]
     },
     "execution_count": 6,
     "metadata": {},
     "output_type": "execute_result"
    }
   ],
   "source": [
    "# Create Index Column with Unique Values\n",
    "new_test_region_df.reset_index(inplace=True)\n",
    "new_test_region_df"
   ]
  },
  {
   "cell_type": "code",
   "execution_count": 7,
   "id": "f6f2501f",
   "metadata": {},
   "outputs": [
    {
     "data": {
      "text/html": [
       "<div>\n",
       "<style scoped>\n",
       "    .dataframe tbody tr th:only-of-type {\n",
       "        vertical-align: middle;\n",
       "    }\n",
       "\n",
       "    .dataframe tbody tr th {\n",
       "        vertical-align: top;\n",
       "    }\n",
       "\n",
       "    .dataframe thead th {\n",
       "        text-align: right;\n",
       "    }\n",
       "</style>\n",
       "<table border=\"1\" class=\"dataframe\">\n",
       "  <thead>\n",
       "    <tr style=\"text-align: right;\">\n",
       "      <th></th>\n",
       "      <th>state_id</th>\n",
       "      <th>state_name</th>\n",
       "    </tr>\n",
       "  </thead>\n",
       "  <tbody>\n",
       "    <tr>\n",
       "      <th>0</th>\n",
       "      <td>303</td>\n",
       "      <td>Australia</td>\n",
       "    </tr>\n",
       "    <tr>\n",
       "      <th>1</th>\n",
       "      <td>553</td>\n",
       "      <td>Australian Capital Territory</td>\n",
       "    </tr>\n",
       "    <tr>\n",
       "      <th>2</th>\n",
       "      <td>2854</td>\n",
       "      <td>New South Wales</td>\n",
       "    </tr>\n",
       "    <tr>\n",
       "      <th>3</th>\n",
       "      <td>747</td>\n",
       "      <td>Northern Territory</td>\n",
       "    </tr>\n",
       "    <tr>\n",
       "      <th>4</th>\n",
       "      <td>2326</td>\n",
       "      <td>Queensland</td>\n",
       "    </tr>\n",
       "    <tr>\n",
       "      <th>5</th>\n",
       "      <td>2841</td>\n",
       "      <td>South Australia</td>\n",
       "    </tr>\n",
       "    <tr>\n",
       "      <th>6</th>\n",
       "      <td>2273</td>\n",
       "      <td>Tasmania</td>\n",
       "    </tr>\n",
       "    <tr>\n",
       "      <th>7</th>\n",
       "      <td>1287</td>\n",
       "      <td>Victoria</td>\n",
       "    </tr>\n",
       "    <tr>\n",
       "      <th>8</th>\n",
       "      <td>3114</td>\n",
       "      <td>Western Australia</td>\n",
       "    </tr>\n",
       "  </tbody>\n",
       "</table>\n",
       "</div>"
      ],
      "text/plain": [
       "   state_id                     state_name\n",
       "0       303                      Australia\n",
       "1       553   Australian Capital Territory\n",
       "2      2854                New South Wales\n",
       "3       747             Northern Territory\n",
       "4      2326                     Queensland\n",
       "5      2841                South Australia\n",
       "6      2273                       Tasmania\n",
       "7      1287                       Victoria\n",
       "8      3114              Western Australia"
      ]
     },
     "execution_count": 7,
     "metadata": {},
     "output_type": "execute_result"
    }
   ],
   "source": [
    "# Rename Column Headers to match Schemata\n",
    "new_test_region_df.rename(columns = {'index':'state_id', 'REGION: Region': 'state_name'}, inplace=True)\n",
    "new_test_region_df"
   ]
  },
  {
   "cell_type": "markdown",
   "id": "99c5f315",
   "metadata": {},
   "source": [
    "-------------------"
   ]
  },
  {
   "cell_type": "markdown",
   "id": "9cd95d9a",
   "metadata": {},
   "source": [
    "# Quarters Table"
   ]
  },
  {
   "cell_type": "markdown",
   "id": "91f9a2f7",
   "metadata": {},
   "source": [
    "<!-- ![states_table.png](attachment:states_table.png) -->\n",
    "<img src=\"../Images/quarters_table.png\" \n",
    "     align=\"left\" \n",
    "     width=\"250\" />"
   ]
  },
  {
   "cell_type": "markdown",
   "id": "784d6f4b",
   "metadata": {},
   "source": [
    "### Copy Time Period Colum to New DF - For Table 'Quarters'"
   ]
  },
  {
   "cell_type": "code",
   "execution_count": 8,
   "id": "ee92ccaa",
   "metadata": {},
   "outputs": [
    {
     "data": {
      "text/html": [
       "<div>\n",
       "<style scoped>\n",
       "    .dataframe tbody tr th:only-of-type {\n",
       "        vertical-align: middle;\n",
       "    }\n",
       "\n",
       "    .dataframe tbody tr th {\n",
       "        vertical-align: top;\n",
       "    }\n",
       "\n",
       "    .dataframe thead th {\n",
       "        text-align: right;\n",
       "    }\n",
       "</style>\n",
       "<table border=\"1\" class=\"dataframe\">\n",
       "  <thead>\n",
       "    <tr style=\"text-align: right;\">\n",
       "      <th></th>\n",
       "      <th>TIME_PERIOD: Time Period</th>\n",
       "    </tr>\n",
       "  </thead>\n",
       "  <tbody>\n",
       "    <tr>\n",
       "      <th>0</th>\n",
       "      <td>1981-Q2</td>\n",
       "    </tr>\n",
       "    <tr>\n",
       "      <th>1</th>\n",
       "      <td>1981-Q2</td>\n",
       "    </tr>\n",
       "    <tr>\n",
       "      <th>2</th>\n",
       "      <td>1981-Q2</td>\n",
       "    </tr>\n",
       "    <tr>\n",
       "      <th>3</th>\n",
       "      <td>1981-Q2</td>\n",
       "    </tr>\n",
       "    <tr>\n",
       "      <th>4</th>\n",
       "      <td>1981-Q2</td>\n",
       "    </tr>\n",
       "  </tbody>\n",
       "</table>\n",
       "</div>"
      ],
      "text/plain": [
       "  TIME_PERIOD: Time Period\n",
       "0                  1981-Q2\n",
       "1                  1981-Q2\n",
       "2                  1981-Q2\n",
       "3                  1981-Q2\n",
       "4                  1981-Q2"
      ]
     },
     "execution_count": 8,
     "metadata": {},
     "output_type": "execute_result"
    }
   ],
   "source": [
    "# Copy column to new DF\n",
    "new_test_quarter_df = erp_data_df[['TIME_PERIOD: Time Period']].copy()\n",
    "new_test_quarter_df.head()"
   ]
  },
  {
   "cell_type": "code",
   "execution_count": 9,
   "id": "96a6de1d",
   "metadata": {},
   "outputs": [],
   "source": [
    "# Drop duplicates\n",
    "new_test_quarter_df = new_test_quarter_df.sort_values('TIME_PERIOD: Time Period').drop_duplicates('TIME_PERIOD: Time Period', keep='last')"
   ]
  },
  {
   "cell_type": "code",
   "execution_count": 10,
   "id": "cba606b5",
   "metadata": {},
   "outputs": [
    {
     "data": {
      "text/html": [
       "<div>\n",
       "<style scoped>\n",
       "    .dataframe tbody tr th:only-of-type {\n",
       "        vertical-align: middle;\n",
       "    }\n",
       "\n",
       "    .dataframe tbody tr th {\n",
       "        vertical-align: top;\n",
       "    }\n",
       "\n",
       "    .dataframe thead th {\n",
       "        text-align: right;\n",
       "    }\n",
       "</style>\n",
       "<table border=\"1\" class=\"dataframe\">\n",
       "  <thead>\n",
       "    <tr style=\"text-align: right;\">\n",
       "      <th></th>\n",
       "      <th>index</th>\n",
       "      <th>TIME_PERIOD: Time Period</th>\n",
       "    </tr>\n",
       "  </thead>\n",
       "  <tbody>\n",
       "    <tr>\n",
       "      <th>0</th>\n",
       "      <td>8</td>\n",
       "      <td>1981-Q2</td>\n",
       "    </tr>\n",
       "    <tr>\n",
       "      <th>1</th>\n",
       "      <td>25</td>\n",
       "      <td>1981-Q3</td>\n",
       "    </tr>\n",
       "    <tr>\n",
       "      <th>2</th>\n",
       "      <td>45</td>\n",
       "      <td>1981-Q4</td>\n",
       "    </tr>\n",
       "    <tr>\n",
       "      <th>3</th>\n",
       "      <td>59</td>\n",
       "      <td>1982-Q1</td>\n",
       "    </tr>\n",
       "    <tr>\n",
       "      <th>4</th>\n",
       "      <td>83</td>\n",
       "      <td>1982-Q2</td>\n",
       "    </tr>\n",
       "  </tbody>\n",
       "</table>\n",
       "</div>"
      ],
      "text/plain": [
       "   index TIME_PERIOD: Time Period\n",
       "0      8                  1981-Q2\n",
       "1     25                  1981-Q3\n",
       "2     45                  1981-Q4\n",
       "3     59                  1982-Q1\n",
       "4     83                  1982-Q2"
      ]
     },
     "execution_count": 10,
     "metadata": {},
     "output_type": "execute_result"
    }
   ],
   "source": [
    "# Create Index Column with Unique Values\n",
    "new_test_quarter_df.reset_index(level=0, inplace=True)\n",
    "new_test_quarter_df.head()"
   ]
  },
  {
   "cell_type": "code",
   "execution_count": 11,
   "id": "8ef9ad34",
   "metadata": {},
   "outputs": [
    {
     "data": {
      "text/html": [
       "<div>\n",
       "<style scoped>\n",
       "    .dataframe tbody tr th:only-of-type {\n",
       "        vertical-align: middle;\n",
       "    }\n",
       "\n",
       "    .dataframe tbody tr th {\n",
       "        vertical-align: top;\n",
       "    }\n",
       "\n",
       "    .dataframe thead th {\n",
       "        text-align: right;\n",
       "    }\n",
       "</style>\n",
       "<table border=\"1\" class=\"dataframe\">\n",
       "  <thead>\n",
       "    <tr style=\"text-align: right;\">\n",
       "      <th></th>\n",
       "      <th>quarter_id</th>\n",
       "      <th>date_quarter</th>\n",
       "    </tr>\n",
       "  </thead>\n",
       "  <tbody>\n",
       "    <tr>\n",
       "      <th>0</th>\n",
       "      <td>8</td>\n",
       "      <td>1981-Q2</td>\n",
       "    </tr>\n",
       "    <tr>\n",
       "      <th>1</th>\n",
       "      <td>25</td>\n",
       "      <td>1981-Q3</td>\n",
       "    </tr>\n",
       "    <tr>\n",
       "      <th>2</th>\n",
       "      <td>45</td>\n",
       "      <td>1981-Q4</td>\n",
       "    </tr>\n",
       "    <tr>\n",
       "      <th>3</th>\n",
       "      <td>59</td>\n",
       "      <td>1982-Q1</td>\n",
       "    </tr>\n",
       "    <tr>\n",
       "      <th>4</th>\n",
       "      <td>83</td>\n",
       "      <td>1982-Q2</td>\n",
       "    </tr>\n",
       "  </tbody>\n",
       "</table>\n",
       "</div>"
      ],
      "text/plain": [
       "   quarter_id date_quarter\n",
       "0           8      1981-Q2\n",
       "1          25      1981-Q3\n",
       "2          45      1981-Q4\n",
       "3          59      1982-Q1\n",
       "4          83      1982-Q2"
      ]
     },
     "execution_count": 11,
     "metadata": {},
     "output_type": "execute_result"
    }
   ],
   "source": [
    "# Rename Column Headers to match Schemata\n",
    "new_test_quarter_df.rename(columns = {'index':'quarter_id', 'TIME_PERIOD: Time Period': 'date_quarter'}, inplace=True)\n",
    "new_test_quarter_df.head()"
   ]
  },
  {
   "cell_type": "markdown",
   "id": "b4f63ceb",
   "metadata": {},
   "source": [
    "----------"
   ]
  },
  {
   "cell_type": "markdown",
   "id": "ed32deb3",
   "metadata": {},
   "source": [
    "# Population_Change Table"
   ]
  },
  {
   "cell_type": "markdown",
   "id": "002906f2",
   "metadata": {},
   "source": [
    "<!-- ![states_table.png](attachment:states_table.png) -->\n",
    "<img src=\"../Images/population_change_t.png\" \n",
    "     align=\"left\" \n",
    "     width=\"250\" />"
   ]
  },
  {
   "cell_type": "code",
   "execution_count": 12,
   "id": "46f91d90",
   "metadata": {},
   "outputs": [
    {
     "data": {
      "text/html": [
       "<div>\n",
       "<style scoped>\n",
       "    .dataframe tbody tr th:only-of-type {\n",
       "        vertical-align: middle;\n",
       "    }\n",
       "\n",
       "    .dataframe tbody tr th {\n",
       "        vertical-align: top;\n",
       "    }\n",
       "\n",
       "    .dataframe thead th {\n",
       "        text-align: right;\n",
       "    }\n",
       "</style>\n",
       "<table border=\"1\" class=\"dataframe\">\n",
       "  <thead>\n",
       "    <tr style=\"text-align: right;\">\n",
       "      <th></th>\n",
       "      <th>TIME_PERIOD: Time Period</th>\n",
       "      <th>REGION: Region</th>\n",
       "      <th>OBS_VALUE</th>\n",
       "    </tr>\n",
       "  </thead>\n",
       "  <tbody>\n",
       "    <tr>\n",
       "      <th>0</th>\n",
       "      <td>1981-Q2</td>\n",
       "      <td>Australia</td>\n",
       "      <td>78.0</td>\n",
       "    </tr>\n",
       "    <tr>\n",
       "      <th>1</th>\n",
       "      <td>1981-Q2</td>\n",
       "      <td>Australia</td>\n",
       "      <td>78.0</td>\n",
       "    </tr>\n",
       "    <tr>\n",
       "      <th>2</th>\n",
       "      <td>1981-Q2</td>\n",
       "      <td>Australian Capital Territory</td>\n",
       "      <td>NaN</td>\n",
       "    </tr>\n",
       "    <tr>\n",
       "      <th>3</th>\n",
       "      <td>1981-Q2</td>\n",
       "      <td>Australian Capital Territory</td>\n",
       "      <td>565.0</td>\n",
       "    </tr>\n",
       "    <tr>\n",
       "      <th>4</th>\n",
       "      <td>1981-Q2</td>\n",
       "      <td>New South Wales</td>\n",
       "      <td>-6330.0</td>\n",
       "    </tr>\n",
       "  </tbody>\n",
       "</table>\n",
       "</div>"
      ],
      "text/plain": [
       "  TIME_PERIOD: Time Period                 REGION: Region  OBS_VALUE\n",
       "0                  1981-Q2                      Australia       78.0\n",
       "1                  1981-Q2                      Australia       78.0\n",
       "2                  1981-Q2   Australian Capital Territory        NaN\n",
       "3                  1981-Q2   Australian Capital Territory      565.0\n",
       "4                  1981-Q2                New South Wales    -6330.0"
      ]
     },
     "execution_count": 12,
     "metadata": {},
     "output_type": "execute_result"
    }
   ],
   "source": [
    "# Copy column to new DF\n",
    "population_df = erp_data_df[['TIME_PERIOD: Time Period', 'REGION: Region', 'OBS_VALUE']].copy()\n",
    "population_df.head()"
   ]
  },
  {
   "cell_type": "code",
   "execution_count": 13,
   "id": "6b169658",
   "metadata": {},
   "outputs": [
    {
     "data": {
      "text/html": [
       "<div>\n",
       "<style scoped>\n",
       "    .dataframe tbody tr th:only-of-type {\n",
       "        vertical-align: middle;\n",
       "    }\n",
       "\n",
       "    .dataframe tbody tr th {\n",
       "        vertical-align: top;\n",
       "    }\n",
       "\n",
       "    .dataframe thead th {\n",
       "        text-align: right;\n",
       "    }\n",
       "</style>\n",
       "<table border=\"1\" class=\"dataframe\">\n",
       "  <thead>\n",
       "    <tr style=\"text-align: right;\">\n",
       "      <th></th>\n",
       "      <th>quarter_id</th>\n",
       "      <th>state_id</th>\n",
       "      <th>net_change</th>\n",
       "    </tr>\n",
       "  </thead>\n",
       "  <tbody>\n",
       "    <tr>\n",
       "      <th>0</th>\n",
       "      <td>1981-Q2</td>\n",
       "      <td>Australia</td>\n",
       "      <td>78.0</td>\n",
       "    </tr>\n",
       "    <tr>\n",
       "      <th>1</th>\n",
       "      <td>1981-Q2</td>\n",
       "      <td>Australia</td>\n",
       "      <td>78.0</td>\n",
       "    </tr>\n",
       "    <tr>\n",
       "      <th>2</th>\n",
       "      <td>1981-Q2</td>\n",
       "      <td>Australian Capital Territory</td>\n",
       "      <td>NaN</td>\n",
       "    </tr>\n",
       "    <tr>\n",
       "      <th>3</th>\n",
       "      <td>1981-Q2</td>\n",
       "      <td>Australian Capital Territory</td>\n",
       "      <td>565.0</td>\n",
       "    </tr>\n",
       "    <tr>\n",
       "      <th>4</th>\n",
       "      <td>1981-Q2</td>\n",
       "      <td>New South Wales</td>\n",
       "      <td>-6330.0</td>\n",
       "    </tr>\n",
       "  </tbody>\n",
       "</table>\n",
       "</div>"
      ],
      "text/plain": [
       "  quarter_id                       state_id  net_change\n",
       "0    1981-Q2                      Australia        78.0\n",
       "1    1981-Q2                      Australia        78.0\n",
       "2    1981-Q2   Australian Capital Territory         NaN\n",
       "3    1981-Q2   Australian Capital Territory       565.0\n",
       "4    1981-Q2                New South Wales     -6330.0"
      ]
     },
     "execution_count": 13,
     "metadata": {},
     "output_type": "execute_result"
    }
   ],
   "source": [
    "# Change column headers to match shemata\n",
    "population_df.rename(columns = {'REGION: Region':'state_id', 'TIME_PERIOD: Time Period': 'quarter_id', 'OBS_VALUE':'net_change'}, inplace=True)\n",
    "population_df.head()"
   ]
  },
  {
   "cell_type": "code",
   "execution_count": 14,
   "id": "d92f744a",
   "metadata": {},
   "outputs": [
    {
     "data": {
      "text/html": [
       "<div>\n",
       "<style scoped>\n",
       "    .dataframe tbody tr th:only-of-type {\n",
       "        vertical-align: middle;\n",
       "    }\n",
       "\n",
       "    .dataframe tbody tr th {\n",
       "        vertical-align: top;\n",
       "    }\n",
       "\n",
       "    .dataframe thead th {\n",
       "        text-align: right;\n",
       "    }\n",
       "</style>\n",
       "<table border=\"1\" class=\"dataframe\">\n",
       "  <thead>\n",
       "    <tr style=\"text-align: right;\">\n",
       "      <th></th>\n",
       "      <th>quarter_id</th>\n",
       "      <th>state_id</th>\n",
       "      <th>net_change</th>\n",
       "    </tr>\n",
       "  </thead>\n",
       "  <tbody>\n",
       "    <tr>\n",
       "      <th>0</th>\n",
       "      <td>8</td>\n",
       "      <td>Australia</td>\n",
       "      <td>78.0</td>\n",
       "    </tr>\n",
       "    <tr>\n",
       "      <th>1</th>\n",
       "      <td>8</td>\n",
       "      <td>Australia</td>\n",
       "      <td>78.0</td>\n",
       "    </tr>\n",
       "    <tr>\n",
       "      <th>2</th>\n",
       "      <td>8</td>\n",
       "      <td>Australian Capital Territory</td>\n",
       "      <td>NaN</td>\n",
       "    </tr>\n",
       "    <tr>\n",
       "      <th>3</th>\n",
       "      <td>8</td>\n",
       "      <td>Australian Capital Territory</td>\n",
       "      <td>565.0</td>\n",
       "    </tr>\n",
       "    <tr>\n",
       "      <th>4</th>\n",
       "      <td>8</td>\n",
       "      <td>New South Wales</td>\n",
       "      <td>-6330.0</td>\n",
       "    </tr>\n",
       "  </tbody>\n",
       "</table>\n",
       "</div>"
      ],
      "text/plain": [
       "   quarter_id                       state_id  net_change\n",
       "0           8                      Australia        78.0\n",
       "1           8                      Australia        78.0\n",
       "2           8   Australian Capital Territory         NaN\n",
       "3           8   Australian Capital Territory       565.0\n",
       "4           8                New South Wales     -6330.0"
      ]
     },
     "execution_count": 14,
     "metadata": {},
     "output_type": "execute_result"
    }
   ],
   "source": [
    "# replace quarter_id names with keys from quarter_df\n",
    "key_list = list(population_df['quarter_id'])\n",
    "dict_lookup = dict(zip(new_test_quarter_df['date_quarter'], new_test_quarter_df['quarter_id']))\n",
    "population_df['quarter_id'] = [dict_lookup[item] for item in key_list]\n",
    "population_df.head()"
   ]
  },
  {
   "cell_type": "code",
   "execution_count": 15,
   "id": "730378cf",
   "metadata": {},
   "outputs": [
    {
     "data": {
      "text/html": [
       "<div>\n",
       "<style scoped>\n",
       "    .dataframe tbody tr th:only-of-type {\n",
       "        vertical-align: middle;\n",
       "    }\n",
       "\n",
       "    .dataframe tbody tr th {\n",
       "        vertical-align: top;\n",
       "    }\n",
       "\n",
       "    .dataframe thead th {\n",
       "        text-align: right;\n",
       "    }\n",
       "</style>\n",
       "<table border=\"1\" class=\"dataframe\">\n",
       "  <thead>\n",
       "    <tr style=\"text-align: right;\">\n",
       "      <th></th>\n",
       "      <th>quarter_id</th>\n",
       "      <th>state_id</th>\n",
       "      <th>net_change</th>\n",
       "    </tr>\n",
       "  </thead>\n",
       "  <tbody>\n",
       "    <tr>\n",
       "      <th>0</th>\n",
       "      <td>8</td>\n",
       "      <td>303</td>\n",
       "      <td>78.0</td>\n",
       "    </tr>\n",
       "    <tr>\n",
       "      <th>1</th>\n",
       "      <td>8</td>\n",
       "      <td>303</td>\n",
       "      <td>78.0</td>\n",
       "    </tr>\n",
       "    <tr>\n",
       "      <th>2</th>\n",
       "      <td>8</td>\n",
       "      <td>553</td>\n",
       "      <td>NaN</td>\n",
       "    </tr>\n",
       "    <tr>\n",
       "      <th>3</th>\n",
       "      <td>8</td>\n",
       "      <td>553</td>\n",
       "      <td>565.0</td>\n",
       "    </tr>\n",
       "    <tr>\n",
       "      <th>4</th>\n",
       "      <td>8</td>\n",
       "      <td>2854</td>\n",
       "      <td>-6330.0</td>\n",
       "    </tr>\n",
       "  </tbody>\n",
       "</table>\n",
       "</div>"
      ],
      "text/plain": [
       "   quarter_id  state_id  net_change\n",
       "0           8       303        78.0\n",
       "1           8       303        78.0\n",
       "2           8       553         NaN\n",
       "3           8       553       565.0\n",
       "4           8      2854     -6330.0"
      ]
     },
     "execution_count": 15,
     "metadata": {},
     "output_type": "execute_result"
    }
   ],
   "source": [
    "# replace state_id names with keys from region_df\n",
    "key_list = list(population_df['state_id'])\n",
    "dict_lookup = dict(zip(new_test_region_df['state_name'], new_test_region_df['state_id']))\n",
    "population_df['state_id'] = [dict_lookup[item] for item in key_list]\n",
    "population_df.head()"
   ]
  },
  {
   "cell_type": "code",
   "execution_count": 16,
   "id": "f02a3723",
   "metadata": {},
   "outputs": [
    {
     "data": {
      "text/html": [
       "<div>\n",
       "<style scoped>\n",
       "    .dataframe tbody tr th:only-of-type {\n",
       "        vertical-align: middle;\n",
       "    }\n",
       "\n",
       "    .dataframe tbody tr th {\n",
       "        vertical-align: top;\n",
       "    }\n",
       "\n",
       "    .dataframe thead th {\n",
       "        text-align: right;\n",
       "    }\n",
       "</style>\n",
       "<table border=\"1\" class=\"dataframe\">\n",
       "  <thead>\n",
       "    <tr style=\"text-align: right;\">\n",
       "      <th></th>\n",
       "      <th>quarter_id</th>\n",
       "      <th>state_id</th>\n",
       "      <th>net_change</th>\n",
       "    </tr>\n",
       "  </thead>\n",
       "  <tbody>\n",
       "    <tr>\n",
       "      <th>0</th>\n",
       "      <td>8</td>\n",
       "      <td>303</td>\n",
       "      <td>78.0</td>\n",
       "    </tr>\n",
       "    <tr>\n",
       "      <th>1</th>\n",
       "      <td>8</td>\n",
       "      <td>303</td>\n",
       "      <td>78.0</td>\n",
       "    </tr>\n",
       "    <tr>\n",
       "      <th>2</th>\n",
       "      <td>8</td>\n",
       "      <td>553</td>\n",
       "      <td>0.0</td>\n",
       "    </tr>\n",
       "    <tr>\n",
       "      <th>3</th>\n",
       "      <td>8</td>\n",
       "      <td>553</td>\n",
       "      <td>565.0</td>\n",
       "    </tr>\n",
       "    <tr>\n",
       "      <th>4</th>\n",
       "      <td>8</td>\n",
       "      <td>2854</td>\n",
       "      <td>-6330.0</td>\n",
       "    </tr>\n",
       "  </tbody>\n",
       "</table>\n",
       "</div>"
      ],
      "text/plain": [
       "   quarter_id  state_id  net_change\n",
       "0           8       303        78.0\n",
       "1           8       303        78.0\n",
       "2           8       553         0.0\n",
       "3           8       553       565.0\n",
       "4           8      2854     -6330.0"
      ]
     },
     "execution_count": 16,
     "metadata": {},
     "output_type": "execute_result"
    }
   ],
   "source": [
    "# replace NaN with 0\n",
    "population_df['net_change'] = population_df['net_change'].fillna(0)\n",
    "population_df.head()"
   ]
  },
  {
   "cell_type": "markdown",
   "id": "681598f6",
   "metadata": {},
   "source": [
    "-------------------"
   ]
  },
  {
   "cell_type": "markdown",
   "id": "54aabd67",
   "metadata": {},
   "source": [
    "# Average_Earnings Table"
   ]
  },
  {
   "cell_type": "markdown",
   "id": "a7e1dbb4",
   "metadata": {},
   "source": [
    "<!-- ![states_table.png](attachment:states_table.png) -->\n",
    "<img src=\"../Images/average_earnings_t.png\" \n",
    "     align=\"left\" \n",
    "     width=\"250\" />"
   ]
  },
  {
   "cell_type": "code",
   "execution_count": 17,
   "id": "153dc36c",
   "metadata": {},
   "outputs": [
    {
     "data": {
      "text/html": [
       "<div>\n",
       "<style scoped>\n",
       "    .dataframe tbody tr th:only-of-type {\n",
       "        vertical-align: middle;\n",
       "    }\n",
       "\n",
       "    .dataframe tbody tr th {\n",
       "        vertical-align: top;\n",
       "    }\n",
       "\n",
       "    .dataframe thead th {\n",
       "        text-align: right;\n",
       "    }\n",
       "</style>\n",
       "<table border=\"1\" class=\"dataframe\">\n",
       "  <thead>\n",
       "    <tr style=\"text-align: right;\">\n",
       "      <th></th>\n",
       "      <th>TIME_PERIOD: Time Period</th>\n",
       "      <th>REGION: Region</th>\n",
       "      <th>OBS_VALUE</th>\n",
       "    </tr>\n",
       "  </thead>\n",
       "  <tbody>\n",
       "    <tr>\n",
       "      <th>0</th>\n",
       "      <td>1981-Q2</td>\n",
       "      <td>Australia</td>\n",
       "      <td>78.0</td>\n",
       "    </tr>\n",
       "    <tr>\n",
       "      <th>1</th>\n",
       "      <td>1981-Q2</td>\n",
       "      <td>Australia</td>\n",
       "      <td>78.0</td>\n",
       "    </tr>\n",
       "    <tr>\n",
       "      <th>2</th>\n",
       "      <td>1981-Q2</td>\n",
       "      <td>Australian Capital Territory</td>\n",
       "      <td>NaN</td>\n",
       "    </tr>\n",
       "    <tr>\n",
       "      <th>3</th>\n",
       "      <td>1981-Q2</td>\n",
       "      <td>Australian Capital Territory</td>\n",
       "      <td>565.0</td>\n",
       "    </tr>\n",
       "    <tr>\n",
       "      <th>4</th>\n",
       "      <td>1981-Q2</td>\n",
       "      <td>New South Wales</td>\n",
       "      <td>-6330.0</td>\n",
       "    </tr>\n",
       "  </tbody>\n",
       "</table>\n",
       "</div>"
      ],
      "text/plain": [
       "  TIME_PERIOD: Time Period                 REGION: Region  OBS_VALUE\n",
       "0                  1981-Q2                      Australia       78.0\n",
       "1                  1981-Q2                      Australia       78.0\n",
       "2                  1981-Q2   Australian Capital Territory        NaN\n",
       "3                  1981-Q2   Australian Capital Territory      565.0\n",
       "4                  1981-Q2                New South Wales    -6330.0"
      ]
     },
     "execution_count": 17,
     "metadata": {},
     "output_type": "execute_result"
    }
   ],
   "source": [
    "# Copy column to new DF\n",
    "average_earnings_df = awe_data_df[['TIME_PERIOD: Time Period', 'REGION: Region', 'OBS_VALUE']].copy()\n",
    "average_earnings_df.head()"
   ]
  },
  {
   "cell_type": "code",
   "execution_count": 18,
   "id": "abd25f0b",
   "metadata": {},
   "outputs": [
    {
     "data": {
      "text/html": [
       "<div>\n",
       "<style scoped>\n",
       "    .dataframe tbody tr th:only-of-type {\n",
       "        vertical-align: middle;\n",
       "    }\n",
       "\n",
       "    .dataframe tbody tr th {\n",
       "        vertical-align: top;\n",
       "    }\n",
       "\n",
       "    .dataframe thead th {\n",
       "        text-align: right;\n",
       "    }\n",
       "</style>\n",
       "<table border=\"1\" class=\"dataframe\">\n",
       "  <thead>\n",
       "    <tr style=\"text-align: right;\">\n",
       "      <th></th>\n",
       "      <th>quarter_id</th>\n",
       "      <th>state_id</th>\n",
       "      <th>avg_earnings</th>\n",
       "    </tr>\n",
       "  </thead>\n",
       "  <tbody>\n",
       "    <tr>\n",
       "      <th>0</th>\n",
       "      <td>1981-Q2</td>\n",
       "      <td>Australia</td>\n",
       "      <td>78.0</td>\n",
       "    </tr>\n",
       "    <tr>\n",
       "      <th>1</th>\n",
       "      <td>1981-Q2</td>\n",
       "      <td>Australia</td>\n",
       "      <td>78.0</td>\n",
       "    </tr>\n",
       "    <tr>\n",
       "      <th>2</th>\n",
       "      <td>1981-Q2</td>\n",
       "      <td>Australian Capital Territory</td>\n",
       "      <td>NaN</td>\n",
       "    </tr>\n",
       "    <tr>\n",
       "      <th>3</th>\n",
       "      <td>1981-Q2</td>\n",
       "      <td>Australian Capital Territory</td>\n",
       "      <td>565.0</td>\n",
       "    </tr>\n",
       "    <tr>\n",
       "      <th>4</th>\n",
       "      <td>1981-Q2</td>\n",
       "      <td>New South Wales</td>\n",
       "      <td>-6330.0</td>\n",
       "    </tr>\n",
       "  </tbody>\n",
       "</table>\n",
       "</div>"
      ],
      "text/plain": [
       "  quarter_id                       state_id  avg_earnings\n",
       "0    1981-Q2                      Australia          78.0\n",
       "1    1981-Q2                      Australia          78.0\n",
       "2    1981-Q2   Australian Capital Territory           NaN\n",
       "3    1981-Q2   Australian Capital Territory         565.0\n",
       "4    1981-Q2                New South Wales       -6330.0"
      ]
     },
     "execution_count": 18,
     "metadata": {},
     "output_type": "execute_result"
    }
   ],
   "source": [
    "# Change column headers to match shemata\n",
    "average_earnings_df.rename(columns = {'REGION: Region':'state_id', 'TIME_PERIOD: Time Period': 'quarter_id', 'OBS_VALUE':'avg_earnings'}, inplace=True)\n",
    "average_earnings_df.head()"
   ]
  },
  {
   "cell_type": "code",
   "execution_count": 19,
   "id": "9e2a1341",
   "metadata": {},
   "outputs": [
    {
     "data": {
      "text/html": [
       "<div>\n",
       "<style scoped>\n",
       "    .dataframe tbody tr th:only-of-type {\n",
       "        vertical-align: middle;\n",
       "    }\n",
       "\n",
       "    .dataframe tbody tr th {\n",
       "        vertical-align: top;\n",
       "    }\n",
       "\n",
       "    .dataframe thead th {\n",
       "        text-align: right;\n",
       "    }\n",
       "</style>\n",
       "<table border=\"1\" class=\"dataframe\">\n",
       "  <thead>\n",
       "    <tr style=\"text-align: right;\">\n",
       "      <th></th>\n",
       "      <th>quarter_id</th>\n",
       "      <th>state_id</th>\n",
       "      <th>avg_earnings</th>\n",
       "    </tr>\n",
       "  </thead>\n",
       "  <tbody>\n",
       "    <tr>\n",
       "      <th>0</th>\n",
       "      <td>8</td>\n",
       "      <td>Australia</td>\n",
       "      <td>78.0</td>\n",
       "    </tr>\n",
       "    <tr>\n",
       "      <th>1</th>\n",
       "      <td>8</td>\n",
       "      <td>Australia</td>\n",
       "      <td>78.0</td>\n",
       "    </tr>\n",
       "    <tr>\n",
       "      <th>2</th>\n",
       "      <td>8</td>\n",
       "      <td>Australian Capital Territory</td>\n",
       "      <td>NaN</td>\n",
       "    </tr>\n",
       "    <tr>\n",
       "      <th>3</th>\n",
       "      <td>8</td>\n",
       "      <td>Australian Capital Territory</td>\n",
       "      <td>565.0</td>\n",
       "    </tr>\n",
       "    <tr>\n",
       "      <th>4</th>\n",
       "      <td>8</td>\n",
       "      <td>New South Wales</td>\n",
       "      <td>-6330.0</td>\n",
       "    </tr>\n",
       "  </tbody>\n",
       "</table>\n",
       "</div>"
      ],
      "text/plain": [
       "   quarter_id                       state_id  avg_earnings\n",
       "0           8                      Australia          78.0\n",
       "1           8                      Australia          78.0\n",
       "2           8   Australian Capital Territory           NaN\n",
       "3           8   Australian Capital Territory         565.0\n",
       "4           8                New South Wales       -6330.0"
      ]
     },
     "execution_count": 19,
     "metadata": {},
     "output_type": "execute_result"
    }
   ],
   "source": [
    "# replace quarter_id names with keys from quarter_df\n",
    "key_list = list(average_earnings_df['quarter_id'])\n",
    "dict_lookup = dict(zip(new_test_quarter_df['date_quarter'], new_test_quarter_df['quarter_id']))\n",
    "average_earnings_df['quarter_id'] = [dict_lookup[item] for item in key_list]\n",
    "average_earnings_df.head()"
   ]
  },
  {
   "cell_type": "code",
   "execution_count": 20,
   "id": "6668d8f2",
   "metadata": {},
   "outputs": [
    {
     "data": {
      "text/html": [
       "<div>\n",
       "<style scoped>\n",
       "    .dataframe tbody tr th:only-of-type {\n",
       "        vertical-align: middle;\n",
       "    }\n",
       "\n",
       "    .dataframe tbody tr th {\n",
       "        vertical-align: top;\n",
       "    }\n",
       "\n",
       "    .dataframe thead th {\n",
       "        text-align: right;\n",
       "    }\n",
       "</style>\n",
       "<table border=\"1\" class=\"dataframe\">\n",
       "  <thead>\n",
       "    <tr style=\"text-align: right;\">\n",
       "      <th></th>\n",
       "      <th>quarter_id</th>\n",
       "      <th>state_id</th>\n",
       "      <th>avg_earnings</th>\n",
       "    </tr>\n",
       "  </thead>\n",
       "  <tbody>\n",
       "    <tr>\n",
       "      <th>0</th>\n",
       "      <td>8</td>\n",
       "      <td>303</td>\n",
       "      <td>78.0</td>\n",
       "    </tr>\n",
       "    <tr>\n",
       "      <th>1</th>\n",
       "      <td>8</td>\n",
       "      <td>303</td>\n",
       "      <td>78.0</td>\n",
       "    </tr>\n",
       "    <tr>\n",
       "      <th>2</th>\n",
       "      <td>8</td>\n",
       "      <td>553</td>\n",
       "      <td>NaN</td>\n",
       "    </tr>\n",
       "    <tr>\n",
       "      <th>3</th>\n",
       "      <td>8</td>\n",
       "      <td>553</td>\n",
       "      <td>565.0</td>\n",
       "    </tr>\n",
       "    <tr>\n",
       "      <th>4</th>\n",
       "      <td>8</td>\n",
       "      <td>2854</td>\n",
       "      <td>-6330.0</td>\n",
       "    </tr>\n",
       "  </tbody>\n",
       "</table>\n",
       "</div>"
      ],
      "text/plain": [
       "   quarter_id  state_id  avg_earnings\n",
       "0           8       303          78.0\n",
       "1           8       303          78.0\n",
       "2           8       553           NaN\n",
       "3           8       553         565.0\n",
       "4           8      2854       -6330.0"
      ]
     },
     "execution_count": 20,
     "metadata": {},
     "output_type": "execute_result"
    }
   ],
   "source": [
    "# replace state_id names with keys from region_df\n",
    "key_list = list(average_earnings_df['state_id'])\n",
    "dict_lookup = dict(zip(new_test_region_df['state_name'], new_test_region_df['state_id']))\n",
    "average_earnings_df['state_id'] = [dict_lookup[item] for item in key_list]\n",
    "average_earnings_df.head()"
   ]
  },
  {
   "cell_type": "code",
   "execution_count": 21,
   "id": "1c9280e0",
   "metadata": {},
   "outputs": [
    {
     "data": {
      "text/html": [
       "<div>\n",
       "<style scoped>\n",
       "    .dataframe tbody tr th:only-of-type {\n",
       "        vertical-align: middle;\n",
       "    }\n",
       "\n",
       "    .dataframe tbody tr th {\n",
       "        vertical-align: top;\n",
       "    }\n",
       "\n",
       "    .dataframe thead th {\n",
       "        text-align: right;\n",
       "    }\n",
       "</style>\n",
       "<table border=\"1\" class=\"dataframe\">\n",
       "  <thead>\n",
       "    <tr style=\"text-align: right;\">\n",
       "      <th></th>\n",
       "      <th>quarter_id</th>\n",
       "      <th>state_id</th>\n",
       "      <th>avg_earnings</th>\n",
       "    </tr>\n",
       "  </thead>\n",
       "  <tbody>\n",
       "    <tr>\n",
       "      <th>0</th>\n",
       "      <td>8</td>\n",
       "      <td>303</td>\n",
       "      <td>78.0</td>\n",
       "    </tr>\n",
       "    <tr>\n",
       "      <th>1</th>\n",
       "      <td>8</td>\n",
       "      <td>303</td>\n",
       "      <td>78.0</td>\n",
       "    </tr>\n",
       "    <tr>\n",
       "      <th>2</th>\n",
       "      <td>8</td>\n",
       "      <td>553</td>\n",
       "      <td>0.0</td>\n",
       "    </tr>\n",
       "    <tr>\n",
       "      <th>3</th>\n",
       "      <td>8</td>\n",
       "      <td>553</td>\n",
       "      <td>565.0</td>\n",
       "    </tr>\n",
       "    <tr>\n",
       "      <th>4</th>\n",
       "      <td>8</td>\n",
       "      <td>2854</td>\n",
       "      <td>-6330.0</td>\n",
       "    </tr>\n",
       "  </tbody>\n",
       "</table>\n",
       "</div>"
      ],
      "text/plain": [
       "   quarter_id  state_id  avg_earnings\n",
       "0           8       303          78.0\n",
       "1           8       303          78.0\n",
       "2           8       553           0.0\n",
       "3           8       553         565.0\n",
       "4           8      2854       -6330.0"
      ]
     },
     "execution_count": 21,
     "metadata": {},
     "output_type": "execute_result"
    }
   ],
   "source": [
    "# replace NaN with 0\n",
    "average_earnings_df['avg_earnings'] = average_earnings_df['avg_earnings'].fillna(0)\n",
    "average_earnings_df.head()"
   ]
  },
  {
   "cell_type": "markdown",
   "id": "0ab8b2a8",
   "metadata": {},
   "source": [
    "------------"
   ]
  },
  {
   "cell_type": "markdown",
   "id": "1f58a5d9",
   "metadata": {},
   "source": [
    "# Internal_Net_Change Table"
   ]
  },
  {
   "cell_type": "markdown",
   "id": "f320bc13",
   "metadata": {},
   "source": [
    "<!-- ![states_table.png](attachment:internal_net_change_t.png) -->\n",
    "<img src=\"../Images/internal_net_change_t.png\" \n",
    "     align=\"left\" \n",
    "     width=\"250\" />"
   ]
  },
  {
   "cell_type": "code",
   "execution_count": null,
   "id": "9f5295ba",
   "metadata": {},
   "outputs": [],
   "source": []
  },
  {
   "cell_type": "markdown",
   "id": "4d7cc895",
   "metadata": {},
   "source": [
    "----------"
   ]
  },
  {
   "cell_type": "markdown",
   "id": "b6a40f65",
   "metadata": {},
   "source": [
    "# Internal_Arrivals Table"
   ]
  },
  {
   "cell_type": "markdown",
   "id": "be0dbfc2",
   "metadata": {},
   "source": [
    "<!-- ![states_table.png](attachment:internal_net_change_t.png) -->\n",
    "<img src=\"../Images/internal_arrivals_t.png\" \n",
    "     align=\"left\" \n",
    "     width=\"250\" />"
   ]
  },
  {
   "cell_type": "code",
   "execution_count": null,
   "id": "c3c733de",
   "metadata": {},
   "outputs": [],
   "source": []
  },
  {
   "cell_type": "markdown",
   "id": "ba64a122",
   "metadata": {},
   "source": [
    "---------------------------"
   ]
  },
  {
   "cell_type": "markdown",
   "id": "efe40d5d",
   "metadata": {},
   "source": [
    "# Internal_Departures Table"
   ]
  },
  {
   "cell_type": "markdown",
   "id": "cce3e561",
   "metadata": {},
   "source": [
    "<!-- ![states_table.png](attachment:internal_net_change_t.png) -->\n",
    "<img src=\"../Images/internal_departures_t.png\" \n",
    "     align=\"left\" \n",
    "     width=\"250\" />"
   ]
  },
  {
   "cell_type": "code",
   "execution_count": null,
   "id": "f28a15c5",
   "metadata": {},
   "outputs": [],
   "source": []
  },
  {
   "cell_type": "markdown",
   "id": "f304a9f4",
   "metadata": {},
   "source": [
    "---------------------------"
   ]
  },
  {
   "cell_type": "markdown",
   "id": "d69de39e",
   "metadata": {},
   "source": [
    "# Analysis Table"
   ]
  },
  {
   "cell_type": "markdown",
   "id": "59ac4b35",
   "metadata": {},
   "source": [
    "<!-- ![states_table.png](attachment:internal_net_change_t.png) -->\n",
    "<img src=\"../Images/analysis_t.png\" \n",
    "     align=\"left\" \n",
    "     width=\"250\" />"
   ]
  },
  {
   "cell_type": "code",
   "execution_count": null,
   "id": "02daee1a",
   "metadata": {},
   "outputs": [],
   "source": []
  },
  {
   "cell_type": "markdown",
   "id": "a2034773",
   "metadata": {},
   "source": [
    "---------------------------"
   ]
  },
  {
   "cell_type": "code",
   "execution_count": null,
   "id": "64dca480",
   "metadata": {},
   "outputs": [],
   "source": []
  },
  {
   "cell_type": "code",
   "execution_count": null,
   "id": "a3c1a2e5",
   "metadata": {},
   "outputs": [],
   "source": []
  },
  {
   "cell_type": "code",
   "execution_count": null,
   "id": "4ee31952",
   "metadata": {},
   "outputs": [],
   "source": []
  },
  {
   "cell_type": "code",
   "execution_count": null,
   "id": "40fc24a4",
   "metadata": {},
   "outputs": [],
   "source": []
  },
  {
   "cell_type": "code",
   "execution_count": null,
   "id": "3646b68e",
   "metadata": {},
   "outputs": [],
   "source": []
  },
  {
   "cell_type": "code",
   "execution_count": null,
   "id": "ac7ffa31",
   "metadata": {},
   "outputs": [],
   "source": []
  },
  {
   "cell_type": "markdown",
   "id": "4f6d6d28",
   "metadata": {},
   "source": [
    "-----------------"
   ]
  },
  {
   "cell_type": "markdown",
   "id": "758e99d1",
   "metadata": {},
   "source": [
    "---------------------"
   ]
  },
  {
   "cell_type": "markdown",
   "id": "24d2473b",
   "metadata": {},
   "source": [
    "### Reset Index's of Finished Tables"
   ]
  },
  {
   "cell_type": "code",
   "execution_count": null,
   "id": "2e8bfbf0",
   "metadata": {},
   "outputs": [],
   "source": [
    "# reset index with final data QUARTERS\n",
    "new_test_quarter_df.reset_index(drop=True)\n",
    "new_test_quarter_df.head()"
   ]
  },
  {
   "cell_type": "code",
   "execution_count": null,
   "id": "de9a20ae",
   "metadata": {},
   "outputs": [],
   "source": [
    "# reset index with final data STATES\n",
    "new_test_region_df.reset_index(drop=True)\n",
    "new_test_region_df.head()"
   ]
  },
  {
   "cell_type": "code",
   "execution_count": null,
   "id": "0f58d305",
   "metadata": {},
   "outputs": [],
   "source": [
    "population_df.reset_index(drop=True)\n",
    "population_df.tail()"
   ]
  },
  {
   "cell_type": "code",
   "execution_count": null,
   "id": "e93d5b6a",
   "metadata": {},
   "outputs": [],
   "source": [
    "# Test Output - DELETE\n",
    "# population_df.to_csv('../jon_clean_test.csv')"
   ]
  },
  {
   "cell_type": "code",
   "execution_count": null,
   "id": "14c12aba",
   "metadata": {},
   "outputs": [],
   "source": []
  },
  {
   "cell_type": "code",
   "execution_count": null,
   "id": "8c945eb2",
   "metadata": {},
   "outputs": [],
   "source": []
  },
  {
   "cell_type": "code",
   "execution_count": null,
   "id": "a50ae450",
   "metadata": {},
   "outputs": [],
   "source": []
  },
  {
   "cell_type": "code",
   "execution_count": null,
   "id": "290919d0",
   "metadata": {},
   "outputs": [],
   "source": []
  },
  {
   "cell_type": "code",
   "execution_count": null,
   "id": "1bfcf8e7",
   "metadata": {},
   "outputs": [],
   "source": []
  }
 ],
 "metadata": {
  "kernelspec": {
   "display_name": "Python 3 (ipykernel)",
   "language": "python",
   "name": "python3"
  },
  "language_info": {
   "codemirror_mode": {
    "name": "ipython",
    "version": 3
   },
   "file_extension": ".py",
   "mimetype": "text/x-python",
   "name": "python",
   "nbconvert_exporter": "python",
   "pygments_lexer": "ipython3",
   "version": "3.9.12"
  }
 },
 "nbformat": 4,
 "nbformat_minor": 5
}
