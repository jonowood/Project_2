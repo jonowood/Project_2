{
 "cells": [
  {
   "cell_type": "markdown",
   "id": "e37a3e1d",
   "metadata": {},
   "source": [
    "# Project 2 - Team 6"
   ]
  },
  {
   "cell_type": "markdown",
   "id": "7cf7cbc3",
   "metadata": {},
   "source": [
    "## ETL "
   ]
  },
  {
   "cell_type": "markdown",
   "id": "8b2f29b6",
   "metadata": {},
   "source": [
    "### Import Dependencies"
   ]
  },
  {
   "cell_type": "code",
   "execution_count": null,
   "id": "045561ce",
   "metadata": {},
   "outputs": [],
   "source": [
    "import os\n",
    "import pandas as pd\n",
    "from sqlalchemy import create_engine\n",
    "from sqlalchemy import inspect"
   ]
  },
  {
   "cell_type": "markdown",
   "id": "665b81a4",
   "metadata": {},
   "source": [
    "--------------------------------"
   ]
  },
  {
   "cell_type": "markdown",
   "id": "ff32b3fa",
   "metadata": {},
   "source": [
    "# ABS_ERP_COMP.csv"
   ]
  },
  {
   "cell_type": "markdown",
   "id": "c8dbd19a",
   "metadata": {},
   "source": [
    "### Load CSV"
   ]
  },
  {
   "cell_type": "code",
   "execution_count": null,
   "id": "ccea0a0b",
   "metadata": {},
   "outputs": [],
   "source": [
    "csv_file = os.path.join('..', 'Resources', 'ABS_ERP_COMP_CLEAN.csv')\n",
    "# csv_file = \"Resources/ABS_ERP_COMP_CLEAN.csv\"\n",
    "\n",
    "erp_data_df = pd.read_csv(csv_file)\n",
    "erp_data_df.head()"
   ]
  },
  {
   "cell_type": "markdown",
   "id": "a2c50b96",
   "metadata": {},
   "source": [
    "----------------------------------------"
   ]
  },
  {
   "cell_type": "markdown",
   "id": "01a30ed2",
   "metadata": {},
   "source": [
    "# States Table"
   ]
  },
  {
   "attachments": {},
   "cell_type": "markdown",
   "id": "a19a0ce3",
   "metadata": {
    "slideshow": {
     "slide_type": "slide"
    }
   },
   "source": [
    "<!-- ![states_table.png](attachment:states_table.png) -->\n",
    "\n",
    "<img src=\"../Images/states_table.png\" \n",
    "     align=\"left\" \n",
    "     width=\"250\" />"
   ]
  },
  {
   "cell_type": "markdown",
   "id": "bf61144c",
   "metadata": {},
   "source": [
    "### Copy Region Colum to New DF - For Table 'States'"
   ]
  },
  {
   "cell_type": "code",
   "execution_count": null,
   "id": "c9d85ad8",
   "metadata": {},
   "outputs": [],
   "source": [
    "# Copy column to new DF\n",
    "new_test_region_df = erp_data_df[['REGION: Region']].copy()\n",
    "new_test_region_df.head()"
   ]
  },
  {
   "cell_type": "code",
   "execution_count": null,
   "id": "d404744e",
   "metadata": {},
   "outputs": [],
   "source": [
    "# Drop duplicates\n",
    "new_test_region_df = new_test_region_df.sort_values('REGION: Region').drop_duplicates('REGION: Region', keep='last')"
   ]
  },
  {
   "cell_type": "code",
   "execution_count": null,
   "id": "8281e1aa",
   "metadata": {},
   "outputs": [],
   "source": [
    "# Create Index Column with Unique Values\n",
    "new_test_region_df.reset_index(inplace=True)\n",
    "new_test_region_df"
   ]
  },
  {
   "cell_type": "code",
   "execution_count": null,
   "id": "f6f2501f",
   "metadata": {},
   "outputs": [],
   "source": [
    "# Rename Column Headers to match Schemata\n",
    "new_test_region_df.rename(columns = {'index':'state_id', 'REGION: Region': 'state_name'}, inplace=True)\n",
    "new_test_region_df"
   ]
  },
  {
   "cell_type": "markdown",
   "id": "41ed538b",
   "metadata": {},
   "source": [
    "-------------------"
   ]
  },
  {
   "cell_type": "markdown",
   "id": "21e5a9f5",
   "metadata": {},
   "source": [
    "# Quarters Table"
   ]
  },
  {
   "cell_type": "markdown",
   "id": "9c41e37d",
   "metadata": {},
   "source": [
    "<!-- ![states_table.png](attachment:states_table.png) -->\n",
    "<img src=\"../Images/quarters_table.png\" \n",
    "     align=\"left\" \n",
    "     width=\"250\" />"
   ]
  },
  {
   "cell_type": "markdown",
   "id": "784d6f4b",
   "metadata": {},
   "source": [
    "### Copy Time Period Colum to New DF - For Table 'Quarters'"
   ]
  },
  {
   "cell_type": "code",
   "execution_count": null,
   "id": "ee92ccaa",
   "metadata": {},
   "outputs": [],
   "source": [
    "# Copy column to new DF\n",
    "new_test_quarter_df = erp_data_df[['TIME_PERIOD: Time Period']].copy()\n",
    "new_test_quarter_df.head()"
   ]
  },
  {
   "cell_type": "code",
   "execution_count": null,
   "id": "96a6de1d",
   "metadata": {},
   "outputs": [],
   "source": [
    "# Drop duplicates\n",
    "new_test_quarter_df = new_test_quarter_df.sort_values('TIME_PERIOD: Time Period').drop_duplicates('TIME_PERIOD: Time Period', keep='last')"
   ]
  },
  {
   "cell_type": "code",
   "execution_count": null,
   "id": "cba606b5",
   "metadata": {},
   "outputs": [],
   "source": [
    "# Create Index Column with Unique Values\n",
    "new_test_quarter_df.reset_index(level=0, inplace=True)\n",
    "new_test_quarter_df"
   ]
  },
  {
   "cell_type": "code",
   "execution_count": null,
   "id": "8ef9ad34",
   "metadata": {},
   "outputs": [],
   "source": [
    "# Rename Column Headers to match Schemata\n",
    "new_test_quarter_df.rename(columns = {'index':'quarter_id', 'TIME_PERIOD: Time Period': 'date_quarter'}, inplace=True)\n",
    "new_test_quarter_df"
   ]
  },
  {
   "cell_type": "markdown",
   "id": "76fe4575",
   "metadata": {},
   "source": [
    "----------"
   ]
  },
  {
   "cell_type": "markdown",
   "id": "ed32deb3",
   "metadata": {},
   "source": [
    "# Population_Change Table"
   ]
  },
  {
   "cell_type": "markdown",
   "id": "78940254",
   "metadata": {},
   "source": [
    "<!-- ![states_table.png](attachment:states_table.png) -->\n",
    "<img src=\"../Images/population_change_t.png\" \n",
    "     align=\"left\" \n",
    "     width=\"250\" />"
   ]
  },
  {
   "cell_type": "code",
   "execution_count": null,
   "id": "46f91d90",
   "metadata": {},
   "outputs": [],
   "source": [
    "# Copy column to new DF\n",
    "population_df = erp_data_df[['TIME_PERIOD: Time Period', 'REGION: Region', 'OBS_VALUE']].copy()\n",
    "population_df.head()"
   ]
  },
  {
   "cell_type": "code",
   "execution_count": null,
   "id": "6b169658",
   "metadata": {},
   "outputs": [],
   "source": [
    "# Change column headers to match shemata\n",
    "population_df.rename(columns = {'REGION: Region':'state_id', 'TIME_PERIOD: Time Period': 'quarter_id', 'OBS_VALUE':'net_change'}, inplace=True)\n",
    "population_df"
   ]
  },
  {
   "cell_type": "code",
   "execution_count": null,
   "id": "b56c173d",
   "metadata": {},
   "outputs": [],
   "source": [
    "# replace quarter_id names with keys from quarter_df\n",
    "key_list = list(population_df['quarter_id'])\n",
    "dict_lookup = dict(zip(new_test_quarter_df['date_quarter'], new_test_quarter_df['quarter_id']))\n",
    "population_df['quarter_id'] = [dict_lookup[item] for item in key_list]\n",
    "population_df.head()"
   ]
  },
  {
   "cell_type": "code",
   "execution_count": null,
   "id": "c6780961",
   "metadata": {},
   "outputs": [],
   "source": [
    "# replace state_id names with keys from region_df\n",
    "key_list = list(population_df['state_id'])\n",
    "dict_lookup = dict(zip(new_test_region_df['state_name'], new_test_region_df['state_id']))\n",
    "population_df['state_id'] = [dict_lookup[item] for item in key_list]\n",
    "population_df.head()"
   ]
  },
  {
   "cell_type": "code",
   "execution_count": null,
   "id": "0e618b5e",
   "metadata": {},
   "outputs": [],
   "source": [
    "# replace NaN with 0\n",
    "population_df['net_change'] = population_df['net_change'].fillna(0)\n",
    "population_df"
   ]
  },
  {
   "cell_type": "markdown",
   "id": "f6e2f840",
   "metadata": {},
   "source": [
    "-------------------"
   ]
  },
  {
   "cell_type": "markdown",
   "id": "527c4f37",
   "metadata": {},
   "source": [
    "# Average_Earnings Table"
   ]
  },
  {
   "cell_type": "markdown",
   "id": "0e420307",
   "metadata": {},
   "source": [
    "<!-- ![states_table.png](attachment:states_table.png) -->\n",
    "<img src=\"../Images/average_earnings_t.png\" \n",
    "     align=\"left\" \n",
    "     width=\"250\" />"
   ]
  },
  {
   "cell_type": "code",
   "execution_count": null,
   "id": "c875606e",
   "metadata": {},
   "outputs": [],
   "source": []
  },
  {
   "cell_type": "markdown",
   "id": "01959214",
   "metadata": {},
   "source": [
    "------------"
   ]
  },
  {
   "cell_type": "markdown",
   "id": "b5a4e306",
   "metadata": {},
   "source": [
    "# Internal_Net_Change Table"
   ]
  },
  {
   "cell_type": "markdown",
   "id": "fc6fe2b6",
   "metadata": {},
   "source": [
    "<!-- ![states_table.png](attachment:internal_net_change_t.png) -->\n",
    "<img src=\"../Images/internal_net_change_t.png\" \n",
    "     align=\"left\" \n",
    "     width=\"250\" />"
   ]
  },
  {
   "cell_type": "code",
   "execution_count": null,
   "id": "8dc6f041",
   "metadata": {},
   "outputs": [],
   "source": []
  },
  {
   "cell_type": "markdown",
   "id": "dab07988",
   "metadata": {},
   "source": [
    "----------"
   ]
  },
  {
   "cell_type": "markdown",
   "id": "e459f8d2",
   "metadata": {},
   "source": [
    "# Internal_Arrivals Table"
   ]
  },
  {
   "cell_type": "markdown",
   "id": "46cdaf6b",
   "metadata": {},
   "source": [
    "<!-- ![states_table.png](attachment:internal_net_change_t.png) -->\n",
    "<img src=\"../Images/internal_arrivals_t.png\" \n",
    "     align=\"left\" \n",
    "     width=\"250\" />"
   ]
  },
  {
   "cell_type": "code",
   "execution_count": null,
   "id": "470cee30",
   "metadata": {},
   "outputs": [],
   "source": []
  },
  {
   "cell_type": "markdown",
   "id": "93006025",
   "metadata": {},
   "source": [
    "---------------------------"
   ]
  },
  {
   "cell_type": "markdown",
   "id": "3acc9442",
   "metadata": {},
   "source": [
    "# Internal_Departures Table"
   ]
  },
  {
   "cell_type": "markdown",
   "id": "4c73f582",
   "metadata": {},
   "source": [
    "<!-- ![states_table.png](attachment:internal_net_change_t.png) -->\n",
    "<img src=\"../Images/internal_departures_t.png\" \n",
    "     align=\"left\" \n",
    "     width=\"250\" />"
   ]
  },
  {
   "cell_type": "code",
   "execution_count": null,
   "id": "35171766",
   "metadata": {},
   "outputs": [],
   "source": []
  },
  {
   "cell_type": "markdown",
   "id": "9a4c84b4",
   "metadata": {},
   "source": [
    "---------------------------"
   ]
  },
  {
   "cell_type": "markdown",
   "id": "8189e36f",
   "metadata": {},
   "source": [
    "# Analysis Table"
   ]
  },
  {
   "cell_type": "markdown",
   "id": "d998bfa7",
   "metadata": {},
   "source": [
    "<!-- ![states_table.png](attachment:internal_net_change_t.png) -->\n",
    "<img src=\"../Images/analysis_t.png\" \n",
    "     align=\"left\" \n",
    "     width=\"250\" />"
   ]
  },
  {
   "cell_type": "code",
   "execution_count": null,
   "id": "c7999518",
   "metadata": {},
   "outputs": [],
   "source": []
  },
  {
   "cell_type": "markdown",
   "id": "8f98b89a",
   "metadata": {},
   "source": [
    "---------------------------"
   ]
  },
  {
   "cell_type": "code",
   "execution_count": null,
   "id": "ff8d5ee5",
   "metadata": {},
   "outputs": [],
   "source": []
  },
  {
   "cell_type": "code",
   "execution_count": null,
   "id": "28a5567f",
   "metadata": {},
   "outputs": [],
   "source": []
  },
  {
   "cell_type": "code",
   "execution_count": null,
   "id": "1d2b2227",
   "metadata": {},
   "outputs": [],
   "source": []
  },
  {
   "cell_type": "code",
   "execution_count": null,
   "id": "43dc6df5",
   "metadata": {},
   "outputs": [],
   "source": []
  },
  {
   "cell_type": "code",
   "execution_count": null,
   "id": "1b9b4e5c",
   "metadata": {},
   "outputs": [],
   "source": []
  },
  {
   "cell_type": "code",
   "execution_count": null,
   "id": "85ec2286",
   "metadata": {},
   "outputs": [],
   "source": []
  },
  {
   "cell_type": "markdown",
   "id": "638cb8ba",
   "metadata": {},
   "source": [
    "-----------------"
   ]
  },
  {
   "cell_type": "markdown",
   "id": "0dd0675c",
   "metadata": {},
   "source": [
    "---------------------"
   ]
  },
  {
   "cell_type": "markdown",
   "id": "2ad5b0b5",
   "metadata": {},
   "source": [
    "### Reset Index's of Finished Tables"
   ]
  },
  {
   "cell_type": "code",
   "execution_count": null,
   "id": "2e8bfbf0",
   "metadata": {},
   "outputs": [],
   "source": [
    "# reset index with final data QUARTERS\n",
    "new_test_quarter_df.reset_index(drop=True)\n",
    "new_test_quarter_df.head()"
   ]
  },
  {
   "cell_type": "code",
   "execution_count": null,
   "id": "ba0ea430",
   "metadata": {},
   "outputs": [],
   "source": [
    "# reset index with final data STATES\n",
    "new_test_region_df.reset_index(drop=True)\n",
    "new_test_region_df.head()"
   ]
  },
  {
   "cell_type": "code",
   "execution_count": null,
   "id": "0f58d305",
   "metadata": {},
   "outputs": [],
   "source": [
    "population_df.reset_index(drop=True)\n",
    "population_df.tail()"
   ]
  },
  {
   "cell_type": "code",
   "execution_count": null,
   "id": "e93d5b6a",
   "metadata": {},
   "outputs": [],
   "source": [
    "# Test Output - DELETE\n",
    "# population_df.to_csv('../jon_clean_test.csv')"
   ]
  },
  {
   "cell_type": "code",
   "execution_count": null,
   "id": "14c12aba",
   "metadata": {},
   "outputs": [],
   "source": []
  },
  {
   "cell_type": "code",
   "execution_count": null,
   "id": "8c945eb2",
   "metadata": {},
   "outputs": [],
   "source": []
  },
  {
   "cell_type": "code",
   "execution_count": null,
   "id": "a50ae450",
   "metadata": {},
   "outputs": [],
   "source": []
  },
  {
   "cell_type": "code",
   "execution_count": null,
   "id": "290919d0",
   "metadata": {},
   "outputs": [],
   "source": []
  },
  {
   "cell_type": "code",
   "execution_count": null,
   "id": "1bfcf8e7",
   "metadata": {},
   "outputs": [],
   "source": []
  }
 ],
 "metadata": {
  "kernelspec": {
   "display_name": "Python 3 (ipykernel)",
   "language": "python",
   "name": "python3"
  },
  "language_info": {
   "codemirror_mode": {
    "name": "ipython",
    "version": 3
   },
   "file_extension": ".py",
   "mimetype": "text/x-python",
   "name": "python",
   "nbconvert_exporter": "python",
   "pygments_lexer": "ipython3",
   "version": "3.9.12"
  }
 },
 "nbformat": 4,
 "nbformat_minor": 5
}
