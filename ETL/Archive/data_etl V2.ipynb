{
 "cells": [
  {
   "cell_type": "code",
   "execution_count": 1,
   "metadata": {
    "id": "LGQmj4V0wKwp"
   },
   "outputs": [],
   "source": [
    "import os\n",
    "import pandas as pd\n",
    "from sqlalchemy import create_engine\n",
    "from sqlalchemy import inspect"
   ]
  },
  {
   "cell_type": "markdown",
   "metadata": {
    "id": "5fIz2mG8wKws"
   },
   "source": [
    "### Store  ABS ERP CSV into DataFrame\n",
    "Load CSV"
   ]
  },
  {
   "cell_type": "code",
   "execution_count": 2,
   "metadata": {
    "colab": {
     "base_uri": "https://localhost:8080/",
     "height": 354
    },
    "id": "OTQspbMJwKwv",
    "outputId": "80ab72f5-fdf1-4e47-f12f-1c2a80abaaf5",
    "scrolled": false
   },
   "outputs": [
    {
     "data": {
      "text/html": [
       "<div>\n",
       "<style scoped>\n",
       "    .dataframe tbody tr th:only-of-type {\n",
       "        vertical-align: middle;\n",
       "    }\n",
       "\n",
       "    .dataframe tbody tr th {\n",
       "        vertical-align: top;\n",
       "    }\n",
       "\n",
       "    .dataframe thead th {\n",
       "        text-align: right;\n",
       "    }\n",
       "</style>\n",
       "<table border=\"1\" class=\"dataframe\">\n",
       "  <thead>\n",
       "    <tr style=\"text-align: right;\">\n",
       "      <th></th>\n",
       "      <th>DATAFLOW</th>\n",
       "      <th>MEASURE: Measure</th>\n",
       "      <th>REGION: Region</th>\n",
       "      <th>FREQ: Frequency</th>\n",
       "      <th>TIME_PERIOD: Time Period</th>\n",
       "      <th>OBS_VALUE</th>\n",
       "      <th>UNIT_MEASURE: Unit of Measure</th>\n",
       "      <th>UNIT_MULT: Unit of Multiplier</th>\n",
       "      <th>OBS_STATUS: Observation Status</th>\n",
       "      <th>OBS_COMMENT: Observation Comment</th>\n",
       "    </tr>\n",
       "  </thead>\n",
       "  <tbody>\n",
       "    <tr>\n",
       "      <th>0</th>\n",
       "      <td>ABS:ERP_COMP_Q(1.0.0)</td>\n",
       "      <td>3: Natural Increase</td>\n",
       "      <td>3: Queensland</td>\n",
       "      <td>Q: Quarterly</td>\n",
       "      <td>1981-Q2</td>\n",
       "      <td>6191.0</td>\n",
       "      <td>NUM: Number</td>\n",
       "      <td>0: Units</td>\n",
       "      <td>NaN</td>\n",
       "      <td>NaN</td>\n",
       "    </tr>\n",
       "    <tr>\n",
       "      <th>1</th>\n",
       "      <td>ABS:ERP_COMP_Q(1.0.0)</td>\n",
       "      <td>3: Natural Increase</td>\n",
       "      <td>3: Queensland</td>\n",
       "      <td>Q: Quarterly</td>\n",
       "      <td>1981-Q3</td>\n",
       "      <td>4920.0</td>\n",
       "      <td>NUM: Number</td>\n",
       "      <td>0: Units</td>\n",
       "      <td>NaN</td>\n",
       "      <td>NaN</td>\n",
       "    </tr>\n",
       "    <tr>\n",
       "      <th>2</th>\n",
       "      <td>ABS:ERP_COMP_Q(1.0.0)</td>\n",
       "      <td>3: Natural Increase</td>\n",
       "      <td>3: Queensland</td>\n",
       "      <td>Q: Quarterly</td>\n",
       "      <td>1981-Q4</td>\n",
       "      <td>4756.0</td>\n",
       "      <td>NUM: Number</td>\n",
       "      <td>0: Units</td>\n",
       "      <td>NaN</td>\n",
       "      <td>NaN</td>\n",
       "    </tr>\n",
       "    <tr>\n",
       "      <th>3</th>\n",
       "      <td>ABS:ERP_COMP_Q(1.0.0)</td>\n",
       "      <td>3: Natural Increase</td>\n",
       "      <td>3: Queensland</td>\n",
       "      <td>Q: Quarterly</td>\n",
       "      <td>1982-Q1</td>\n",
       "      <td>6331.0</td>\n",
       "      <td>NUM: Number</td>\n",
       "      <td>0: Units</td>\n",
       "      <td>NaN</td>\n",
       "      <td>NaN</td>\n",
       "    </tr>\n",
       "    <tr>\n",
       "      <th>4</th>\n",
       "      <td>ABS:ERP_COMP_Q(1.0.0)</td>\n",
       "      <td>3: Natural Increase</td>\n",
       "      <td>3: Queensland</td>\n",
       "      <td>Q: Quarterly</td>\n",
       "      <td>1982-Q2</td>\n",
       "      <td>6081.0</td>\n",
       "      <td>NUM: Number</td>\n",
       "      <td>0: Units</td>\n",
       "      <td>NaN</td>\n",
       "      <td>NaN</td>\n",
       "    </tr>\n",
       "  </tbody>\n",
       "</table>\n",
       "</div>"
      ],
      "text/plain": [
       "                DATAFLOW     MEASURE: Measure REGION: Region FREQ: Frequency  \\\n",
       "0  ABS:ERP_COMP_Q(1.0.0)  3: Natural Increase  3: Queensland    Q: Quarterly   \n",
       "1  ABS:ERP_COMP_Q(1.0.0)  3: Natural Increase  3: Queensland    Q: Quarterly   \n",
       "2  ABS:ERP_COMP_Q(1.0.0)  3: Natural Increase  3: Queensland    Q: Quarterly   \n",
       "3  ABS:ERP_COMP_Q(1.0.0)  3: Natural Increase  3: Queensland    Q: Quarterly   \n",
       "4  ABS:ERP_COMP_Q(1.0.0)  3: Natural Increase  3: Queensland    Q: Quarterly   \n",
       "\n",
       "  TIME_PERIOD: Time Period  OBS_VALUE UNIT_MEASURE: Unit of Measure  \\\n",
       "0                  1981-Q2     6191.0                   NUM: Number   \n",
       "1                  1981-Q3     4920.0                   NUM: Number   \n",
       "2                  1981-Q4     4756.0                   NUM: Number   \n",
       "3                  1982-Q1     6331.0                   NUM: Number   \n",
       "4                  1982-Q2     6081.0                   NUM: Number   \n",
       "\n",
       "  UNIT_MULT: Unit of Multiplier OBS_STATUS: Observation Status  \\\n",
       "0                      0: Units                            NaN   \n",
       "1                      0: Units                            NaN   \n",
       "2                      0: Units                            NaN   \n",
       "3                      0: Units                            NaN   \n",
       "4                      0: Units                            NaN   \n",
       "\n",
       "   OBS_COMMENT: Observation Comment  \n",
       "0                               NaN  \n",
       "1                               NaN  \n",
       "2                               NaN  \n",
       "3                               NaN  \n",
       "4                               NaN  "
      ]
     },
     "execution_count": 2,
     "metadata": {},
     "output_type": "execute_result"
    }
   ],
   "source": [
    "csv_file = os.path.join('..', 'Resources', 'ABS_ERP_COMP.csv')\n",
    "erp_data_df = pd.read_csv(csv_file)\n",
    "erp_data_df.head()"
   ]
  },
  {
   "cell_type": "markdown",
   "metadata": {},
   "source": [
    "Check Data Types"
   ]
  },
  {
   "cell_type": "code",
   "execution_count": 3,
   "metadata": {},
   "outputs": [
    {
     "data": {
      "text/html": [
       "<div>\n",
       "<style scoped>\n",
       "    .dataframe tbody tr th:only-of-type {\n",
       "        vertical-align: middle;\n",
       "    }\n",
       "\n",
       "    .dataframe tbody tr th {\n",
       "        vertical-align: top;\n",
       "    }\n",
       "\n",
       "    .dataframe thead th {\n",
       "        text-align: right;\n",
       "    }\n",
       "</style>\n",
       "<table border=\"1\" class=\"dataframe\">\n",
       "  <thead>\n",
       "    <tr style=\"text-align: right;\">\n",
       "      <th></th>\n",
       "      <th>REGION: Region</th>\n",
       "    </tr>\n",
       "  </thead>\n",
       "  <tbody>\n",
       "    <tr>\n",
       "      <th>0</th>\n",
       "      <td>3: Queensland</td>\n",
       "    </tr>\n",
       "    <tr>\n",
       "      <th>1</th>\n",
       "      <td>3: Queensland</td>\n",
       "    </tr>\n",
       "    <tr>\n",
       "      <th>2</th>\n",
       "      <td>3: Queensland</td>\n",
       "    </tr>\n",
       "    <tr>\n",
       "      <th>3</th>\n",
       "      <td>3: Queensland</td>\n",
       "    </tr>\n",
       "    <tr>\n",
       "      <th>4</th>\n",
       "      <td>3: Queensland</td>\n",
       "    </tr>\n",
       "  </tbody>\n",
       "</table>\n",
       "</div>"
      ],
      "text/plain": [
       "  REGION: Region\n",
       "0  3: Queensland\n",
       "1  3: Queensland\n",
       "2  3: Queensland\n",
       "3  3: Queensland\n",
       "4  3: Queensland"
      ]
     },
     "execution_count": 3,
     "metadata": {},
     "output_type": "execute_result"
    }
   ],
   "source": [
    "new_test_df = erp_data_df[['REGION: Region']].copy()\n",
    "new_test_df.head()"
   ]
  },
  {
   "cell_type": "code",
   "execution_count": 4,
   "metadata": {},
   "outputs": [],
   "source": [
    "new_test_df = new_test_df.sort_values('REGION: Region').drop_duplicates('REGION: Region', keep='last')"
   ]
  },
  {
   "cell_type": "code",
   "execution_count": 5,
   "metadata": {
    "scrolled": true
   },
   "outputs": [
    {
     "data": {
      "text/html": [
       "<div>\n",
       "<style scoped>\n",
       "    .dataframe tbody tr th:only-of-type {\n",
       "        vertical-align: middle;\n",
       "    }\n",
       "\n",
       "    .dataframe tbody tr th {\n",
       "        vertical-align: top;\n",
       "    }\n",
       "\n",
       "    .dataframe thead th {\n",
       "        text-align: right;\n",
       "    }\n",
       "</style>\n",
       "<table border=\"1\" class=\"dataframe\">\n",
       "  <thead>\n",
       "    <tr style=\"text-align: right;\">\n",
       "      <th></th>\n",
       "      <th>index</th>\n",
       "      <th>REGION: Region</th>\n",
       "    </tr>\n",
       "  </thead>\n",
       "  <tbody>\n",
       "    <tr>\n",
       "      <th>0</th>\n",
       "      <td>4814</td>\n",
       "      <td>1: New South Wales</td>\n",
       "    </tr>\n",
       "    <tr>\n",
       "      <th>1</th>\n",
       "      <td>6520</td>\n",
       "      <td>2: Victoria</td>\n",
       "    </tr>\n",
       "    <tr>\n",
       "      <th>2</th>\n",
       "      <td>5843</td>\n",
       "      <td>3: Queensland</td>\n",
       "    </tr>\n",
       "    <tr>\n",
       "      <th>3</th>\n",
       "      <td>1311</td>\n",
       "      <td>4: South Australia</td>\n",
       "    </tr>\n",
       "    <tr>\n",
       "      <th>4</th>\n",
       "      <td>6013</td>\n",
       "      <td>5: Western Australia</td>\n",
       "    </tr>\n",
       "    <tr>\n",
       "      <th>5</th>\n",
       "      <td>2405</td>\n",
       "      <td>6: Tasmania</td>\n",
       "    </tr>\n",
       "    <tr>\n",
       "      <th>6</th>\n",
       "      <td>378</td>\n",
       "      <td>7: Northern Territory</td>\n",
       "    </tr>\n",
       "    <tr>\n",
       "      <th>7</th>\n",
       "      <td>6771</td>\n",
       "      <td>8: Australian Capital Territory</td>\n",
       "    </tr>\n",
       "    <tr>\n",
       "      <th>8</th>\n",
       "      <td>2048</td>\n",
       "      <td>AUS: Australia</td>\n",
       "    </tr>\n",
       "  </tbody>\n",
       "</table>\n",
       "</div>"
      ],
      "text/plain": [
       "   index                   REGION: Region\n",
       "0   4814               1: New South Wales\n",
       "1   6520                      2: Victoria\n",
       "2   5843                    3: Queensland\n",
       "3   1311               4: South Australia\n",
       "4   6013             5: Western Australia\n",
       "5   2405                      6: Tasmania\n",
       "6    378            7: Northern Territory\n",
       "7   6771  8: Australian Capital Territory\n",
       "8   2048                   AUS: Australia"
      ]
     },
     "execution_count": 5,
     "metadata": {},
     "output_type": "execute_result"
    }
   ],
   "source": [
    "#new_test_df=new_test_df.set_index(name=\"index\",start=100)\n",
    "new_test_df.reset_index(level=0, inplace=True)\n",
    "new_test_df"
   ]
  },
  {
   "cell_type": "code",
   "execution_count": 6,
   "metadata": {},
   "outputs": [
    {
     "data": {
      "text/html": [
       "<div>\n",
       "<style scoped>\n",
       "    .dataframe tbody tr th:only-of-type {\n",
       "        vertical-align: middle;\n",
       "    }\n",
       "\n",
       "    .dataframe tbody tr th {\n",
       "        vertical-align: top;\n",
       "    }\n",
       "\n",
       "    .dataframe thead th {\n",
       "        text-align: right;\n",
       "    }\n",
       "</style>\n",
       "<table border=\"1\" class=\"dataframe\">\n",
       "  <thead>\n",
       "    <tr style=\"text-align: right;\">\n",
       "      <th></th>\n",
       "      <th>state_id</th>\n",
       "      <th>state_name</th>\n",
       "    </tr>\n",
       "  </thead>\n",
       "  <tbody>\n",
       "    <tr>\n",
       "      <th>0</th>\n",
       "      <td>4814</td>\n",
       "      <td>1: New South Wales</td>\n",
       "    </tr>\n",
       "    <tr>\n",
       "      <th>1</th>\n",
       "      <td>6520</td>\n",
       "      <td>2: Victoria</td>\n",
       "    </tr>\n",
       "    <tr>\n",
       "      <th>2</th>\n",
       "      <td>5843</td>\n",
       "      <td>3: Queensland</td>\n",
       "    </tr>\n",
       "    <tr>\n",
       "      <th>3</th>\n",
       "      <td>1311</td>\n",
       "      <td>4: South Australia</td>\n",
       "    </tr>\n",
       "    <tr>\n",
       "      <th>4</th>\n",
       "      <td>6013</td>\n",
       "      <td>5: Western Australia</td>\n",
       "    </tr>\n",
       "    <tr>\n",
       "      <th>5</th>\n",
       "      <td>2405</td>\n",
       "      <td>6: Tasmania</td>\n",
       "    </tr>\n",
       "    <tr>\n",
       "      <th>6</th>\n",
       "      <td>378</td>\n",
       "      <td>7: Northern Territory</td>\n",
       "    </tr>\n",
       "    <tr>\n",
       "      <th>7</th>\n",
       "      <td>6771</td>\n",
       "      <td>8: Australian Capital Territory</td>\n",
       "    </tr>\n",
       "    <tr>\n",
       "      <th>8</th>\n",
       "      <td>2048</td>\n",
       "      <td>AUS: Australia</td>\n",
       "    </tr>\n",
       "  </tbody>\n",
       "</table>\n",
       "</div>"
      ],
      "text/plain": [
       "   state_id                       state_name\n",
       "0      4814               1: New South Wales\n",
       "1      6520                      2: Victoria\n",
       "2      5843                    3: Queensland\n",
       "3      1311               4: South Australia\n",
       "4      6013             5: Western Australia\n",
       "5      2405                      6: Tasmania\n",
       "6       378            7: Northern Territory\n",
       "7      6771  8: Australian Capital Territory\n",
       "8      2048                   AUS: Australia"
      ]
     },
     "execution_count": 6,
     "metadata": {},
     "output_type": "execute_result"
    }
   ],
   "source": [
    "new_test_df.rename(columns = {'index':'state_id', 'REGION: Region': 'state_name'}, inplace=True)\n",
    "new_test_df"
   ]
  },
  {
   "cell_type": "code",
   "execution_count": null,
   "metadata": {},
   "outputs": [],
   "source": []
  },
  {
   "cell_type": "code",
   "execution_count": null,
   "metadata": {},
   "outputs": [],
   "source": [
    "erp_data_df.dtypes"
   ]
  },
  {
   "cell_type": "markdown",
   "metadata": {
    "id": "OxB3vn5CwKwx"
   },
   "source": [
    "### Create new data with select columns"
   ]
  },
  {
   "cell_type": "code",
   "execution_count": null,
   "metadata": {
    "colab": {
     "base_uri": "https://localhost:8080/",
     "height": 354
    },
    "id": "DzncpmN808yw",
    "outputId": "6119eaeb-3f57-4817-c231-966f3d2dde0a",
    "scrolled": false
   },
   "outputs": [],
   "source": [
    "# Delete column we don't want\n",
    "del erp_data_df['DATAFLOW']\n",
    "del erp_data_df['OBS_STATUS: Observation Status']\n",
    "del erp_data_df['OBS_COMMENT: Observation Comment']\n",
    "del erp_data_df['UNIT_MEASURE: Unit of Measure']\n",
    "del erp_data_df['UNIT_MULT: Unit of Multiplier']\n",
    "del erp_data_df['FREQ: Frequency']\n",
    "erp_data_df.head()"
   ]
  },
  {
   "cell_type": "code",
   "execution_count": null,
   "metadata": {},
   "outputs": [],
   "source": [
    "# Rename columns \n",
    "erp_data_df = erp_data_df.rename(columns={\"MEASURE: Measure\": \"measure_id\",\"REGION: Region\": \"state_id\", \"TIME_PERIOD: Time Period\": \"quarter_id\",\n",
    "                                              \"OBS_VALUE\": \"net_change\"})\n",
    "erp_data_df"
   ]
  },
  {
   "cell_type": "code",
   "execution_count": null,
   "metadata": {
    "colab": {
     "base_uri": "https://localhost:8080/"
    },
    "id": "BXVaXEbH1_rB",
    "outputId": "8af204c8-6047-46c2-d6ec-f04c55976507"
   },
   "outputs": [],
   "source": [
    "# Identify incomplete rows\n",
    "erp_data_df.count()"
   ]
  },
  {
   "cell_type": "code",
   "execution_count": null,
   "metadata": {
    "id": "KUgI2etJ2GsU"
   },
   "outputs": [],
   "source": [
    "# Drop all rows with missing information\n",
    "#erp_data_df = erp_data_df.dropna(how='any')"
   ]
  },
  {
   "cell_type": "code",
   "execution_count": null,
   "metadata": {
    "colab": {
     "base_uri": "https://localhost:8080/"
    },
    "id": "UA0Lg_ml2VpS",
    "outputId": "d9f71607-f58c-499f-ecf7-bafa664c67ce"
   },
   "outputs": [],
   "source": [
    "# Verify dropped rows\n",
    "erp_data_df.count()"
   ]
  },
  {
   "cell_type": "code",
   "execution_count": null,
   "metadata": {
    "colab": {
     "base_uri": "https://localhost:8080/",
     "height": 206
    },
    "id": "7hnQsk0-wKwx",
    "outputId": "36d123e1-5751-493b-f210-2f64b52baac2",
    "scrolled": true
   },
   "outputs": [],
   "source": [
    "new_erp_data_df = erp_data_df[['measure_id', 'state_id','quarter_id','net_change']].copy()\n",
    "new_erp_data_df.head()"
   ]
  },
  {
   "cell_type": "code",
   "execution_count": null,
   "metadata": {},
   "outputs": [],
   "source": [
    "new_erp_data_df.to_csv(\"Resources/johan_erp_clean.csv\", index=False)"
   ]
  },
  {
   "cell_type": "markdown",
   "metadata": {
    "id": "IRVfhRlKwKwx"
   },
   "source": [
    "**bold text**### Store  ABS AWE CSV into DataFrame"
   ]
  },
  {
   "cell_type": "code",
   "execution_count": null,
   "metadata": {
    "colab": {
     "base_uri": "https://localhost:8080/",
     "height": 545
    },
    "id": "RkcoOWDPwKwy",
    "outputId": "7f45ae09-1ca0-4e7a-ed5f-7820ec08ec6e"
   },
   "outputs": [],
   "source": [
    "csv_file = \"Resources/ABS_AWE.csv\"\n",
    "awe_data_df = pd.read_csv(csv_file)\n",
    "awe_data_df.head()"
   ]
  },
  {
   "cell_type": "markdown",
   "metadata": {},
   "source": [
    "Check Data Types"
   ]
  },
  {
   "cell_type": "code",
   "execution_count": null,
   "metadata": {},
   "outputs": [],
   "source": [
    "awe_data_df.dtypes"
   ]
  },
  {
   "cell_type": "code",
   "execution_count": null,
   "metadata": {},
   "outputs": [],
   "source": []
  },
  {
   "cell_type": "code",
   "execution_count": null,
   "metadata": {
    "colab": {
     "base_uri": "https://localhost:8080/",
     "height": 458
    },
    "id": "uuz27M1k3CHE",
    "outputId": "70bbe3a1-b415-40fc-d29b-918afe696644"
   },
   "outputs": [],
   "source": [
    "# Delete column we don't want\n",
    "del awe_data_df['DATAFLOW']\n",
    "del awe_data_df['OBS_STATUS: Observation Status']\n",
    "del awe_data_df['OBS_COMMENT: Observation Comment']\n",
    "del awe_data_df['UNIT_MEASURE: Unit of Measure']\n",
    "del awe_data_df['TSEST: Adjustment Type']\n",
    "del awe_data_df['SEX: Sex']\n",
    "del awe_data_df['FREQ: Frequency']\n",
    "awe_data_df.head()"
   ]
  },
  {
   "cell_type": "code",
   "execution_count": null,
   "metadata": {
    "colab": {
     "base_uri": "https://localhost:8080/"
    },
    "id": "QHA3EVg_3HsN",
    "outputId": "154b0d2e-a964-4b64-9591-bdc6794074d6"
   },
   "outputs": [],
   "source": [
    "# Identify incomplete rows\n",
    "awe_data_df.count()"
   ]
  },
  {
   "cell_type": "code",
   "execution_count": null,
   "metadata": {},
   "outputs": [],
   "source": [
    "# Rename columns \n",
    "awe_data_df = awe_data_df.rename(columns={\"MEASURE: Measure\": \"measure_id\",\"REGION: Region\": \"state_id\", \"TIME_PERIOD: Time Period\": \"quarter_id\",\n",
    "                                              \"OBS_VALUE\": \"net_change\",\"ESTIMATE_TYPE: Estimate Type\":\"type_id\",\"SECTOR: Sector\":\"sector_id\",\"INDUSTRY: Industry\":\"industry_id\"})\n",
    "awe_data_df"
   ]
  },
  {
   "cell_type": "code",
   "execution_count": null,
   "metadata": {
    "colab": {
     "base_uri": "https://localhost:8080/",
     "height": 300
    },
    "id": "F3hxVujC5pwk",
    "outputId": "866c49ca-dfef-4324-edc6-57c8bca2b05d"
   },
   "outputs": [],
   "source": [
    "# Display a statistical overview\n",
    "# We can infer the maximum allowable individual contribution from 'max'\n",
    "awe_data_df.describe()"
   ]
  },
  {
   "cell_type": "code",
   "execution_count": null,
   "metadata": {
    "id": "4YM0filq508q"
   },
   "outputs": [],
   "source": [
    "awe_data_df.to_csv(\"Resources/johan_awe_employment_clean.csv\", index=False)"
   ]
  },
  {
   "cell_type": "markdown",
   "metadata": {
    "id": "f7U3l839wKwy"
   },
   "source": [
    "### Clean DataFrame"
   ]
  },
  {
   "cell_type": "code",
   "execution_count": null,
   "metadata": {},
   "outputs": [],
   "source": [
    "# Identify incomplete rows\n",
    "awe_data_df.count()"
   ]
  },
  {
   "cell_type": "code",
   "execution_count": null,
   "metadata": {
    "colab": {
     "base_uri": "https://localhost:8080/",
     "height": 206
    },
    "id": "tMn2pkuywKwy",
    "outputId": "31fb1d21-23ba-474e-b40e-6f3e4ede5327"
   },
   "outputs": [],
   "source": [
    "new_awe_data_df = awe_data_df[['measure_id','state_id','quarter_id','net_change','type_id','sector_id','industry_id']].copy()\n",
    "new_awe_data_df.head()\n",
    "                             "
   ]
  },
  {
   "cell_type": "code",
   "execution_count": null,
   "metadata": {
    "scrolled": false
   },
   "outputs": [],
   "source": [
    "average_aernings_df = awe_data_df[['state_id','quarter_id','net_change']].copy()\n",
    "average_aernings_df.head()"
   ]
  },
  {
   "cell_type": "code",
   "execution_count": null,
   "metadata": {},
   "outputs": [],
   "source": [
    "# Rename columns \n",
    "average_aernings_df = average_aernings_df.rename(columns={\"net_change\": \"avg_earnings\"})\n",
    "average_aernings_df"
   ]
  },
  {
   "cell_type": "code",
   "execution_count": null,
   "metadata": {},
   "outputs": [],
   "source": [
    "new_awe_data_df.to_csv(\"Resources/johan_awe_employment_clean.csv\", index=False)\n",
    "average_aernings_df.to_csv(\"Resources/johan_average_earnings_clean.csv\", index=False)"
   ]
  },
  {
   "cell_type": "code",
   "execution_count": null,
   "metadata": {},
   "outputs": [],
   "source": [
    "# Merge two dataframes using an outer join\n",
    "#merge_df = pd.merge(new_awe_data_df, new_erp_data_df, on=\"state_id\", how=\"outer\")\n",
    "#merge_df"
   ]
  },
  {
   "cell_type": "markdown",
   "metadata": {
    "id": "-pD1xHyfwKwy"
   },
   "source": [
    "### Connect to local database"
   ]
  },
  {
   "cell_type": "code",
   "execution_count": null,
   "metadata": {
    "id": "RPT9qIz_wKwz"
   },
   "outputs": [],
   "source": [
    "protocol = 'postgresql'\n",
    "username = 'postgres'\n",
    "password = 'Fransien1'\n",
    "host = 'localhost'\n",
    "port = 5433\n",
    "database_name = 'Project2'\n",
    "rds_connection_string = f'{protocol}://{username}:{password}@{host}:{port}/{database_name}'\n",
    "engine = create_engine(rds_connection_string)\n",
    "insp = inspect(engine)"
   ]
  },
  {
   "cell_type": "markdown",
   "metadata": {
    "id": "p3A9DvngwKwz"
   },
   "source": [
    "### Check for tables"
   ]
  },
  {
   "cell_type": "code",
   "execution_count": null,
   "metadata": {
    "id": "iMh7KiK3wKwz",
    "outputId": "91e44989-8bde-4695-d855-69d5dad105ac"
   },
   "outputs": [],
   "source": [
    "insp.get_table_names()"
   ]
  },
  {
   "cell_type": "markdown",
   "metadata": {
    "id": "1jRHbQKYwKwz"
   },
   "source": [
    "### Use pandas to load csv converted DataFrame into database"
   ]
  },
  {
   "cell_type": "code",
   "execution_count": null,
   "metadata": {
    "id": "puDJVBsHwKw0",
    "scrolled": true
   },
   "outputs": [],
   "source": [
    "average_aernings_df.to_sql(name='average_earnings', con=engine, if_exists='append', index=False)"
   ]
  },
  {
   "cell_type": "markdown",
   "metadata": {
    "id": "RtNAtC23wKw0"
   },
   "source": [
    "### Confirm data has been added by querying\n",
    "* NOTE: can also check using pgAdmin"
   ]
  },
  {
   "cell_type": "code",
   "execution_count": null,
   "metadata": {
    "id": "E47VNCk_wKw0",
    "outputId": "94e18ced-e2b6-4003-9eb5-b5db3870475d"
   },
   "outputs": [],
   "source": [
    "pd.read_sql_query('select * from average_earnings', con=engine).head()"
   ]
  },
  {
   "cell_type": "markdown",
   "metadata": {
    "id": "dkuGpRCiwKw1"
   },
   "source": [
    "### Confirm data has been added by querying "
   ]
  },
  {
   "cell_type": "code",
   "execution_count": null,
   "metadata": {
    "id": "OABAo2g_wKw1",
    "outputId": "3ac5fa12-edf6-450e-d9ae-7c0e4d1873db"
   },
   "outputs": [],
   "source": [
    "pd.read_sql_query('select * from internal_arrival', con=engine).head()"
   ]
  },
  {
   "cell_type": "code",
   "execution_count": null,
   "metadata": {
    "id": "gLfJoCVxwKw1"
   },
   "outputs": [],
   "source": []
  }
 ],
 "metadata": {
  "colab": {
   "provenance": []
  },
  "kernelspec": {
   "display_name": "Python [conda env:PythonData] *",
   "language": "python",
   "name": "conda-env-PythonData-py"
  },
  "language_info": {
   "codemirror_mode": {
    "name": "ipython",
    "version": 3
   },
   "file_extension": ".py",
   "mimetype": "text/x-python",
   "name": "python",
   "nbconvert_exporter": "python",
   "pygments_lexer": "ipython3",
   "version": "3.7.7"
  },
  "nteract": {
   "version": "0.12.3"
  }
 },
 "nbformat": 4,
 "nbformat_minor": 1
}
