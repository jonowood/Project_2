{
 "cells": [
  {
   "cell_type": "code",
   "execution_count": 36,
   "metadata": {
    "id": "LGQmj4V0wKwp"
   },
   "outputs": [],
   "source": [
    "import pandas as pd\n",
    "from sqlalchemy import create_engine\n",
    "from sqlalchemy import inspect"
   ]
  },
  {
   "cell_type": "markdown",
   "metadata": {
    "id": "5fIz2mG8wKws"
   },
   "source": [
    "**bold text**### Store  ABS ERP CSV into DataFrame"
   ]
  },
  {
   "cell_type": "code",
   "execution_count": 70,
   "metadata": {
    "colab": {
     "base_uri": "https://localhost:8080/",
     "height": 354
    },
    "id": "OTQspbMJwKwv",
    "outputId": "80ab72f5-fdf1-4e47-f12f-1c2a80abaaf5",
    "scrolled": true
   },
   "outputs": [
    {
     "data": {
      "text/html": [
       "<div>\n",
       "<style scoped>\n",
       "    .dataframe tbody tr th:only-of-type {\n",
       "        vertical-align: middle;\n",
       "    }\n",
       "\n",
       "    .dataframe tbody tr th {\n",
       "        vertical-align: top;\n",
       "    }\n",
       "\n",
       "    .dataframe thead th {\n",
       "        text-align: right;\n",
       "    }\n",
       "</style>\n",
       "<table border=\"1\" class=\"dataframe\">\n",
       "  <thead>\n",
       "    <tr style=\"text-align: right;\">\n",
       "      <th></th>\n",
       "      <th>DATAFLOW</th>\n",
       "      <th>MEASURE: Measure</th>\n",
       "      <th>REGION: Region</th>\n",
       "      <th>FREQ: Frequency</th>\n",
       "      <th>TIME_PERIOD: Time Period</th>\n",
       "      <th>OBS_VALUE</th>\n",
       "      <th>UNIT_MEASURE: Unit of Measure</th>\n",
       "      <th>UNIT_MULT: Unit of Multiplier</th>\n",
       "      <th>OBS_STATUS: Observation Status</th>\n",
       "      <th>OBS_COMMENT: Observation Comment</th>\n",
       "    </tr>\n",
       "  </thead>\n",
       "  <tbody>\n",
       "    <tr>\n",
       "      <th>0</th>\n",
       "      <td>ABS:ERP_COMP_Q(1.0.0)</td>\n",
       "      <td>3: Natural Increase</td>\n",
       "      <td>3: Queensland</td>\n",
       "      <td>Q: Quarterly</td>\n",
       "      <td>1981-Q2</td>\n",
       "      <td>6191.0</td>\n",
       "      <td>NUM: Number</td>\n",
       "      <td>0: Units</td>\n",
       "      <td>NaN</td>\n",
       "      <td>NaN</td>\n",
       "    </tr>\n",
       "    <tr>\n",
       "      <th>1</th>\n",
       "      <td>ABS:ERP_COMP_Q(1.0.0)</td>\n",
       "      <td>3: Natural Increase</td>\n",
       "      <td>3: Queensland</td>\n",
       "      <td>Q: Quarterly</td>\n",
       "      <td>1981-Q3</td>\n",
       "      <td>4920.0</td>\n",
       "      <td>NUM: Number</td>\n",
       "      <td>0: Units</td>\n",
       "      <td>NaN</td>\n",
       "      <td>NaN</td>\n",
       "    </tr>\n",
       "    <tr>\n",
       "      <th>2</th>\n",
       "      <td>ABS:ERP_COMP_Q(1.0.0)</td>\n",
       "      <td>3: Natural Increase</td>\n",
       "      <td>3: Queensland</td>\n",
       "      <td>Q: Quarterly</td>\n",
       "      <td>1981-Q4</td>\n",
       "      <td>4756.0</td>\n",
       "      <td>NUM: Number</td>\n",
       "      <td>0: Units</td>\n",
       "      <td>NaN</td>\n",
       "      <td>NaN</td>\n",
       "    </tr>\n",
       "    <tr>\n",
       "      <th>3</th>\n",
       "      <td>ABS:ERP_COMP_Q(1.0.0)</td>\n",
       "      <td>3: Natural Increase</td>\n",
       "      <td>3: Queensland</td>\n",
       "      <td>Q: Quarterly</td>\n",
       "      <td>1982-Q1</td>\n",
       "      <td>6331.0</td>\n",
       "      <td>NUM: Number</td>\n",
       "      <td>0: Units</td>\n",
       "      <td>NaN</td>\n",
       "      <td>NaN</td>\n",
       "    </tr>\n",
       "    <tr>\n",
       "      <th>4</th>\n",
       "      <td>ABS:ERP_COMP_Q(1.0.0)</td>\n",
       "      <td>3: Natural Increase</td>\n",
       "      <td>3: Queensland</td>\n",
       "      <td>Q: Quarterly</td>\n",
       "      <td>1982-Q2</td>\n",
       "      <td>6081.0</td>\n",
       "      <td>NUM: Number</td>\n",
       "      <td>0: Units</td>\n",
       "      <td>NaN</td>\n",
       "      <td>NaN</td>\n",
       "    </tr>\n",
       "  </tbody>\n",
       "</table>\n",
       "</div>"
      ],
      "text/plain": [
       "                DATAFLOW     MEASURE: Measure REGION: Region FREQ: Frequency  \\\n",
       "0  ABS:ERP_COMP_Q(1.0.0)  3: Natural Increase  3: Queensland    Q: Quarterly   \n",
       "1  ABS:ERP_COMP_Q(1.0.0)  3: Natural Increase  3: Queensland    Q: Quarterly   \n",
       "2  ABS:ERP_COMP_Q(1.0.0)  3: Natural Increase  3: Queensland    Q: Quarterly   \n",
       "3  ABS:ERP_COMP_Q(1.0.0)  3: Natural Increase  3: Queensland    Q: Quarterly   \n",
       "4  ABS:ERP_COMP_Q(1.0.0)  3: Natural Increase  3: Queensland    Q: Quarterly   \n",
       "\n",
       "  TIME_PERIOD: Time Period  OBS_VALUE UNIT_MEASURE: Unit of Measure  \\\n",
       "0                  1981-Q2     6191.0                   NUM: Number   \n",
       "1                  1981-Q3     4920.0                   NUM: Number   \n",
       "2                  1981-Q4     4756.0                   NUM: Number   \n",
       "3                  1982-Q1     6331.0                   NUM: Number   \n",
       "4                  1982-Q2     6081.0                   NUM: Number   \n",
       "\n",
       "  UNIT_MULT: Unit of Multiplier OBS_STATUS: Observation Status  \\\n",
       "0                      0: Units                            NaN   \n",
       "1                      0: Units                            NaN   \n",
       "2                      0: Units                            NaN   \n",
       "3                      0: Units                            NaN   \n",
       "4                      0: Units                            NaN   \n",
       "\n",
       "   OBS_COMMENT: Observation Comment  \n",
       "0                               NaN  \n",
       "1                               NaN  \n",
       "2                               NaN  \n",
       "3                               NaN  \n",
       "4                               NaN  "
      ]
     },
     "execution_count": 70,
     "metadata": {},
     "output_type": "execute_result"
    }
   ],
   "source": [
    "csv_file = \"Resources/ABS_ERP_COMP.csv\"\n",
    "erp_data_df = pd.read_csv(csv_file)\n",
    "erp_data_df.head()"
   ]
  },
  {
   "cell_type": "markdown",
   "metadata": {},
   "source": [
    "Check Data Types"
   ]
  },
  {
   "cell_type": "code",
   "execution_count": 71,
   "metadata": {},
   "outputs": [
    {
     "data": {
      "text/plain": [
       "DATAFLOW                             object\n",
       "MEASURE: Measure                     object\n",
       "REGION: Region                       object\n",
       "FREQ: Frequency                      object\n",
       "TIME_PERIOD: Time Period             object\n",
       "OBS_VALUE                           float64\n",
       "UNIT_MEASURE: Unit of Measure        object\n",
       "UNIT_MULT: Unit of Multiplier        object\n",
       "OBS_STATUS: Observation Status       object\n",
       "OBS_COMMENT: Observation Comment    float64\n",
       "dtype: object"
      ]
     },
     "execution_count": 71,
     "metadata": {},
     "output_type": "execute_result"
    }
   ],
   "source": [
    "erp_data_df.dtypes"
   ]
  },
  {
   "cell_type": "markdown",
   "metadata": {
    "id": "OxB3vn5CwKwx"
   },
   "source": [
    "### Create new data with select columns"
   ]
  },
  {
   "cell_type": "code",
   "execution_count": 72,
   "metadata": {
    "colab": {
     "base_uri": "https://localhost:8080/",
     "height": 354
    },
    "id": "DzncpmN808yw",
    "outputId": "6119eaeb-3f57-4817-c231-966f3d2dde0a",
    "scrolled": false
   },
   "outputs": [
    {
     "data": {
      "text/html": [
       "<div>\n",
       "<style scoped>\n",
       "    .dataframe tbody tr th:only-of-type {\n",
       "        vertical-align: middle;\n",
       "    }\n",
       "\n",
       "    .dataframe tbody tr th {\n",
       "        vertical-align: top;\n",
       "    }\n",
       "\n",
       "    .dataframe thead th {\n",
       "        text-align: right;\n",
       "    }\n",
       "</style>\n",
       "<table border=\"1\" class=\"dataframe\">\n",
       "  <thead>\n",
       "    <tr style=\"text-align: right;\">\n",
       "      <th></th>\n",
       "      <th>MEASURE: Measure</th>\n",
       "      <th>REGION: Region</th>\n",
       "      <th>TIME_PERIOD: Time Period</th>\n",
       "      <th>OBS_VALUE</th>\n",
       "    </tr>\n",
       "  </thead>\n",
       "  <tbody>\n",
       "    <tr>\n",
       "      <th>0</th>\n",
       "      <td>3: Natural Increase</td>\n",
       "      <td>3: Queensland</td>\n",
       "      <td>1981-Q2</td>\n",
       "      <td>6191.0</td>\n",
       "    </tr>\n",
       "    <tr>\n",
       "      <th>1</th>\n",
       "      <td>3: Natural Increase</td>\n",
       "      <td>3: Queensland</td>\n",
       "      <td>1981-Q3</td>\n",
       "      <td>4920.0</td>\n",
       "    </tr>\n",
       "    <tr>\n",
       "      <th>2</th>\n",
       "      <td>3: Natural Increase</td>\n",
       "      <td>3: Queensland</td>\n",
       "      <td>1981-Q4</td>\n",
       "      <td>4756.0</td>\n",
       "    </tr>\n",
       "    <tr>\n",
       "      <th>3</th>\n",
       "      <td>3: Natural Increase</td>\n",
       "      <td>3: Queensland</td>\n",
       "      <td>1982-Q1</td>\n",
       "      <td>6331.0</td>\n",
       "    </tr>\n",
       "    <tr>\n",
       "      <th>4</th>\n",
       "      <td>3: Natural Increase</td>\n",
       "      <td>3: Queensland</td>\n",
       "      <td>1982-Q2</td>\n",
       "      <td>6081.0</td>\n",
       "    </tr>\n",
       "  </tbody>\n",
       "</table>\n",
       "</div>"
      ],
      "text/plain": [
       "      MEASURE: Measure REGION: Region TIME_PERIOD: Time Period  OBS_VALUE\n",
       "0  3: Natural Increase  3: Queensland                  1981-Q2     6191.0\n",
       "1  3: Natural Increase  3: Queensland                  1981-Q3     4920.0\n",
       "2  3: Natural Increase  3: Queensland                  1981-Q4     4756.0\n",
       "3  3: Natural Increase  3: Queensland                  1982-Q1     6331.0\n",
       "4  3: Natural Increase  3: Queensland                  1982-Q2     6081.0"
      ]
     },
     "execution_count": 72,
     "metadata": {},
     "output_type": "execute_result"
    }
   ],
   "source": [
    "# Delete column we don't want\n",
    "del erp_data_df['DATAFLOW']\n",
    "del erp_data_df['OBS_STATUS: Observation Status']\n",
    "del erp_data_df['OBS_COMMENT: Observation Comment']\n",
    "del erp_data_df['UNIT_MEASURE: Unit of Measure']\n",
    "del erp_data_df['UNIT_MULT: Unit of Multiplier']\n",
    "del erp_data_df['FREQ: Frequency']\n",
    "erp_data_df.head()"
   ]
  },
  {
   "cell_type": "code",
   "execution_count": 76,
   "metadata": {},
   "outputs": [
    {
     "data": {
      "text/html": [
       "<div>\n",
       "<style scoped>\n",
       "    .dataframe tbody tr th:only-of-type {\n",
       "        vertical-align: middle;\n",
       "    }\n",
       "\n",
       "    .dataframe tbody tr th {\n",
       "        vertical-align: top;\n",
       "    }\n",
       "\n",
       "    .dataframe thead th {\n",
       "        text-align: right;\n",
       "    }\n",
       "</style>\n",
       "<table border=\"1\" class=\"dataframe\">\n",
       "  <thead>\n",
       "    <tr style=\"text-align: right;\">\n",
       "      <th></th>\n",
       "      <th>measure_id</th>\n",
       "      <th>state_id</th>\n",
       "      <th>quarter_id</th>\n",
       "      <th>net_change</th>\n",
       "    </tr>\n",
       "  </thead>\n",
       "  <tbody>\n",
       "    <tr>\n",
       "      <th>0</th>\n",
       "      <td>3: Natural Increase</td>\n",
       "      <td>3: Queensland</td>\n",
       "      <td>1981-Q2</td>\n",
       "      <td>6191.0</td>\n",
       "    </tr>\n",
       "    <tr>\n",
       "      <th>1</th>\n",
       "      <td>3: Natural Increase</td>\n",
       "      <td>3: Queensland</td>\n",
       "      <td>1981-Q3</td>\n",
       "      <td>4920.0</td>\n",
       "    </tr>\n",
       "    <tr>\n",
       "      <th>2</th>\n",
       "      <td>3: Natural Increase</td>\n",
       "      <td>3: Queensland</td>\n",
       "      <td>1981-Q4</td>\n",
       "      <td>4756.0</td>\n",
       "    </tr>\n",
       "    <tr>\n",
       "      <th>3</th>\n",
       "      <td>3: Natural Increase</td>\n",
       "      <td>3: Queensland</td>\n",
       "      <td>1982-Q1</td>\n",
       "      <td>6331.0</td>\n",
       "    </tr>\n",
       "    <tr>\n",
       "      <th>4</th>\n",
       "      <td>3: Natural Increase</td>\n",
       "      <td>3: Queensland</td>\n",
       "      <td>1982-Q2</td>\n",
       "      <td>6081.0</td>\n",
       "    </tr>\n",
       "    <tr>\n",
       "      <th>...</th>\n",
       "      <td>...</td>\n",
       "      <td>...</td>\n",
       "      <td>...</td>\n",
       "      <td>...</td>\n",
       "    </tr>\n",
       "    <tr>\n",
       "      <th>7210</th>\n",
       "      <td>13: Change Over Previous Quarter</td>\n",
       "      <td>6: Tasmania</td>\n",
       "      <td>2021-Q1</td>\n",
       "      <td>1529.0</td>\n",
       "    </tr>\n",
       "    <tr>\n",
       "      <th>7211</th>\n",
       "      <td>13: Change Over Previous Quarter</td>\n",
       "      <td>6: Tasmania</td>\n",
       "      <td>2021-Q2</td>\n",
       "      <td>823.0</td>\n",
       "    </tr>\n",
       "    <tr>\n",
       "      <th>7212</th>\n",
       "      <td>13: Change Over Previous Quarter</td>\n",
       "      <td>6: Tasmania</td>\n",
       "      <td>2021-Q3</td>\n",
       "      <td>-197.0</td>\n",
       "    </tr>\n",
       "    <tr>\n",
       "      <th>7213</th>\n",
       "      <td>13: Change Over Previous Quarter</td>\n",
       "      <td>6: Tasmania</td>\n",
       "      <td>2021-Q4</td>\n",
       "      <td>2115.0</td>\n",
       "    </tr>\n",
       "    <tr>\n",
       "      <th>7214</th>\n",
       "      <td>13: Change Over Previous Quarter</td>\n",
       "      <td>6: Tasmania</td>\n",
       "      <td>2022-Q1</td>\n",
       "      <td>1338.0</td>\n",
       "    </tr>\n",
       "  </tbody>\n",
       "</table>\n",
       "<p>7215 rows × 4 columns</p>\n",
       "</div>"
      ],
      "text/plain": [
       "                            measure_id       state_id quarter_id  net_change\n",
       "0                  3: Natural Increase  3: Queensland    1981-Q2      6191.0\n",
       "1                  3: Natural Increase  3: Queensland    1981-Q3      4920.0\n",
       "2                  3: Natural Increase  3: Queensland    1981-Q4      4756.0\n",
       "3                  3: Natural Increase  3: Queensland    1982-Q1      6331.0\n",
       "4                  3: Natural Increase  3: Queensland    1982-Q2      6081.0\n",
       "...                                ...            ...        ...         ...\n",
       "7210  13: Change Over Previous Quarter    6: Tasmania    2021-Q1      1529.0\n",
       "7211  13: Change Over Previous Quarter    6: Tasmania    2021-Q2       823.0\n",
       "7212  13: Change Over Previous Quarter    6: Tasmania    2021-Q3      -197.0\n",
       "7213  13: Change Over Previous Quarter    6: Tasmania    2021-Q4      2115.0\n",
       "7214  13: Change Over Previous Quarter    6: Tasmania    2022-Q1      1338.0\n",
       "\n",
       "[7215 rows x 4 columns]"
      ]
     },
     "execution_count": 76,
     "metadata": {},
     "output_type": "execute_result"
    }
   ],
   "source": [
    "# Rename columns \n",
    "erp_data_df = erp_data_df.rename(columns={\"MEASURE: Measure\": \"measure_id\",\"REGION: Region\": \"state_id\", \"TIME_PERIOD: Time Period\": \"quarter_id\",\n",
    "                                              \"OBS_VALUE\": \"net_change\"})\n",
    "erp_data_df"
   ]
  },
  {
   "cell_type": "code",
   "execution_count": 77,
   "metadata": {
    "colab": {
     "base_uri": "https://localhost:8080/"
    },
    "id": "BXVaXEbH1_rB",
    "outputId": "8af204c8-6047-46c2-d6ec-f04c55976507"
   },
   "outputs": [
    {
     "data": {
      "text/plain": [
       "measure_id    7215\n",
       "state_id      7215\n",
       "quarter_id    7215\n",
       "net_change    7081\n",
       "dtype: int64"
      ]
     },
     "execution_count": 77,
     "metadata": {},
     "output_type": "execute_result"
    }
   ],
   "source": [
    "# Identify incomplete rows\n",
    "erp_data_df.count()"
   ]
  },
  {
   "cell_type": "code",
   "execution_count": 78,
   "metadata": {
    "id": "KUgI2etJ2GsU"
   },
   "outputs": [],
   "source": [
    "# Drop all rows with missing information\n",
    "#erp_data_df = erp_data_df.dropna(how='any')"
   ]
  },
  {
   "cell_type": "code",
   "execution_count": 81,
   "metadata": {
    "colab": {
     "base_uri": "https://localhost:8080/"
    },
    "id": "UA0Lg_ml2VpS",
    "outputId": "d9f71607-f58c-499f-ecf7-bafa664c67ce"
   },
   "outputs": [
    {
     "data": {
      "text/plain": [
       "measure_id    7215\n",
       "state_id      7215\n",
       "quarter_id    7215\n",
       "net_change    7081\n",
       "dtype: int64"
      ]
     },
     "execution_count": 81,
     "metadata": {},
     "output_type": "execute_result"
    }
   ],
   "source": [
    "# Verify dropped rows\n",
    "erp_data_df.count()"
   ]
  },
  {
   "cell_type": "code",
   "execution_count": 83,
   "metadata": {
    "colab": {
     "base_uri": "https://localhost:8080/",
     "height": 206
    },
    "id": "7hnQsk0-wKwx",
    "outputId": "36d123e1-5751-493b-f210-2f64b52baac2",
    "scrolled": true
   },
   "outputs": [
    {
     "data": {
      "text/html": [
       "<div>\n",
       "<style scoped>\n",
       "    .dataframe tbody tr th:only-of-type {\n",
       "        vertical-align: middle;\n",
       "    }\n",
       "\n",
       "    .dataframe tbody tr th {\n",
       "        vertical-align: top;\n",
       "    }\n",
       "\n",
       "    .dataframe thead th {\n",
       "        text-align: right;\n",
       "    }\n",
       "</style>\n",
       "<table border=\"1\" class=\"dataframe\">\n",
       "  <thead>\n",
       "    <tr style=\"text-align: right;\">\n",
       "      <th></th>\n",
       "      <th>measure_id</th>\n",
       "      <th>state_id</th>\n",
       "      <th>quarter_id</th>\n",
       "      <th>net_change</th>\n",
       "    </tr>\n",
       "  </thead>\n",
       "  <tbody>\n",
       "    <tr>\n",
       "      <th>0</th>\n",
       "      <td>3: Natural Increase</td>\n",
       "      <td>3: Queensland</td>\n",
       "      <td>1981-Q2</td>\n",
       "      <td>6191.0</td>\n",
       "    </tr>\n",
       "    <tr>\n",
       "      <th>1</th>\n",
       "      <td>3: Natural Increase</td>\n",
       "      <td>3: Queensland</td>\n",
       "      <td>1981-Q3</td>\n",
       "      <td>4920.0</td>\n",
       "    </tr>\n",
       "    <tr>\n",
       "      <th>2</th>\n",
       "      <td>3: Natural Increase</td>\n",
       "      <td>3: Queensland</td>\n",
       "      <td>1981-Q4</td>\n",
       "      <td>4756.0</td>\n",
       "    </tr>\n",
       "    <tr>\n",
       "      <th>3</th>\n",
       "      <td>3: Natural Increase</td>\n",
       "      <td>3: Queensland</td>\n",
       "      <td>1982-Q1</td>\n",
       "      <td>6331.0</td>\n",
       "    </tr>\n",
       "    <tr>\n",
       "      <th>4</th>\n",
       "      <td>3: Natural Increase</td>\n",
       "      <td>3: Queensland</td>\n",
       "      <td>1982-Q2</td>\n",
       "      <td>6081.0</td>\n",
       "    </tr>\n",
       "  </tbody>\n",
       "</table>\n",
       "</div>"
      ],
      "text/plain": [
       "            measure_id       state_id quarter_id  net_change\n",
       "0  3: Natural Increase  3: Queensland    1981-Q2      6191.0\n",
       "1  3: Natural Increase  3: Queensland    1981-Q3      4920.0\n",
       "2  3: Natural Increase  3: Queensland    1981-Q4      4756.0\n",
       "3  3: Natural Increase  3: Queensland    1982-Q1      6331.0\n",
       "4  3: Natural Increase  3: Queensland    1982-Q2      6081.0"
      ]
     },
     "execution_count": 83,
     "metadata": {},
     "output_type": "execute_result"
    }
   ],
   "source": [
    "new_erp_data_df = erp_data_df[['measure_id', 'state_id','quarter_id','net_change']].copy()\n",
    "new_erp_data_df.head()"
   ]
  },
  {
   "cell_type": "code",
   "execution_count": 84,
   "metadata": {},
   "outputs": [],
   "source": [
    "new_erp_data_df.to_csv(\"Resources/johan_erp_clean.csv\", index=False)"
   ]
  },
  {
   "cell_type": "markdown",
   "metadata": {
    "id": "IRVfhRlKwKwx"
   },
   "source": [
    "**bold text**### Store  ABS AWE CSV into DataFrame"
   ]
  },
  {
   "cell_type": "code",
   "execution_count": 112,
   "metadata": {
    "colab": {
     "base_uri": "https://localhost:8080/",
     "height": 545
    },
    "id": "RkcoOWDPwKwy",
    "outputId": "7f45ae09-1ca0-4e7a-ed5f-7820ec08ec6e"
   },
   "outputs": [
    {
     "data": {
      "text/html": [
       "<div>\n",
       "<style scoped>\n",
       "    .dataframe tbody tr th:only-of-type {\n",
       "        vertical-align: middle;\n",
       "    }\n",
       "\n",
       "    .dataframe tbody tr th {\n",
       "        vertical-align: top;\n",
       "    }\n",
       "\n",
       "    .dataframe thead th {\n",
       "        text-align: right;\n",
       "    }\n",
       "</style>\n",
       "<table border=\"1\" class=\"dataframe\">\n",
       "  <thead>\n",
       "    <tr style=\"text-align: right;\">\n",
       "      <th></th>\n",
       "      <th>DATAFLOW</th>\n",
       "      <th>MEASURE: Measure</th>\n",
       "      <th>ESTIMATE_TYPE: Estimate Type</th>\n",
       "      <th>SEX: Sex</th>\n",
       "      <th>SECTOR: Sector</th>\n",
       "      <th>INDUSTRY: Industry</th>\n",
       "      <th>TSEST: Adjustment Type</th>\n",
       "      <th>REGION: Region</th>\n",
       "      <th>FREQ: Frequency</th>\n",
       "      <th>TIME_PERIOD: Time Period</th>\n",
       "      <th>OBS_VALUE</th>\n",
       "      <th>UNIT_MEASURE: Unit of Measure</th>\n",
       "      <th>OBS_STATUS: Observation Status</th>\n",
       "      <th>OBS_COMMENT: Observation Comment</th>\n",
       "    </tr>\n",
       "  </thead>\n",
       "  <tbody>\n",
       "    <tr>\n",
       "      <th>0</th>\n",
       "      <td>ABS:AWE(1.0.0)</td>\n",
       "      <td>1: All employees average weekly total earnings</td>\n",
       "      <td>1: Earnings</td>\n",
       "      <td>3: Persons</td>\n",
       "      <td>7: Private and Public</td>\n",
       "      <td>TOT: All Industries</td>\n",
       "      <td>10: Original</td>\n",
       "      <td>7: Northern Territory</td>\n",
       "      <td>Q: Quarterly</td>\n",
       "      <td>1994-Q4</td>\n",
       "      <td>564.4</td>\n",
       "      <td>AUD: Australian Dollars</td>\n",
       "      <td>NaN</td>\n",
       "      <td>NaN</td>\n",
       "    </tr>\n",
       "    <tr>\n",
       "      <th>1</th>\n",
       "      <td>ABS:AWE(1.0.0)</td>\n",
       "      <td>1: All employees average weekly total earnings</td>\n",
       "      <td>1: Earnings</td>\n",
       "      <td>3: Persons</td>\n",
       "      <td>7: Private and Public</td>\n",
       "      <td>TOT: All Industries</td>\n",
       "      <td>10: Original</td>\n",
       "      <td>7: Northern Territory</td>\n",
       "      <td>Q: Quarterly</td>\n",
       "      <td>1995-Q2</td>\n",
       "      <td>564.7</td>\n",
       "      <td>AUD: Australian Dollars</td>\n",
       "      <td>NaN</td>\n",
       "      <td>NaN</td>\n",
       "    </tr>\n",
       "    <tr>\n",
       "      <th>2</th>\n",
       "      <td>ABS:AWE(1.0.0)</td>\n",
       "      <td>1: All employees average weekly total earnings</td>\n",
       "      <td>1: Earnings</td>\n",
       "      <td>3: Persons</td>\n",
       "      <td>7: Private and Public</td>\n",
       "      <td>TOT: All Industries</td>\n",
       "      <td>10: Original</td>\n",
       "      <td>7: Northern Territory</td>\n",
       "      <td>Q: Quarterly</td>\n",
       "      <td>1995-Q4</td>\n",
       "      <td>567.6</td>\n",
       "      <td>AUD: Australian Dollars</td>\n",
       "      <td>NaN</td>\n",
       "      <td>NaN</td>\n",
       "    </tr>\n",
       "    <tr>\n",
       "      <th>3</th>\n",
       "      <td>ABS:AWE(1.0.0)</td>\n",
       "      <td>1: All employees average weekly total earnings</td>\n",
       "      <td>1: Earnings</td>\n",
       "      <td>3: Persons</td>\n",
       "      <td>7: Private and Public</td>\n",
       "      <td>TOT: All Industries</td>\n",
       "      <td>10: Original</td>\n",
       "      <td>7: Northern Territory</td>\n",
       "      <td>Q: Quarterly</td>\n",
       "      <td>1996-Q2</td>\n",
       "      <td>571.0</td>\n",
       "      <td>AUD: Australian Dollars</td>\n",
       "      <td>NaN</td>\n",
       "      <td>NaN</td>\n",
       "    </tr>\n",
       "    <tr>\n",
       "      <th>4</th>\n",
       "      <td>ABS:AWE(1.0.0)</td>\n",
       "      <td>1: All employees average weekly total earnings</td>\n",
       "      <td>1: Earnings</td>\n",
       "      <td>3: Persons</td>\n",
       "      <td>7: Private and Public</td>\n",
       "      <td>TOT: All Industries</td>\n",
       "      <td>10: Original</td>\n",
       "      <td>7: Northern Territory</td>\n",
       "      <td>Q: Quarterly</td>\n",
       "      <td>1996-Q4</td>\n",
       "      <td>581.6</td>\n",
       "      <td>AUD: Australian Dollars</td>\n",
       "      <td>NaN</td>\n",
       "      <td>NaN</td>\n",
       "    </tr>\n",
       "  </tbody>\n",
       "</table>\n",
       "</div>"
      ],
      "text/plain": [
       "         DATAFLOW                                MEASURE: Measure  \\\n",
       "0  ABS:AWE(1.0.0)  1: All employees average weekly total earnings   \n",
       "1  ABS:AWE(1.0.0)  1: All employees average weekly total earnings   \n",
       "2  ABS:AWE(1.0.0)  1: All employees average weekly total earnings   \n",
       "3  ABS:AWE(1.0.0)  1: All employees average weekly total earnings   \n",
       "4  ABS:AWE(1.0.0)  1: All employees average weekly total earnings   \n",
       "\n",
       "  ESTIMATE_TYPE: Estimate Type    SEX: Sex         SECTOR: Sector  \\\n",
       "0                  1: Earnings  3: Persons  7: Private and Public   \n",
       "1                  1: Earnings  3: Persons  7: Private and Public   \n",
       "2                  1: Earnings  3: Persons  7: Private and Public   \n",
       "3                  1: Earnings  3: Persons  7: Private and Public   \n",
       "4                  1: Earnings  3: Persons  7: Private and Public   \n",
       "\n",
       "    INDUSTRY: Industry TSEST: Adjustment Type         REGION: Region  \\\n",
       "0  TOT: All Industries           10: Original  7: Northern Territory   \n",
       "1  TOT: All Industries           10: Original  7: Northern Territory   \n",
       "2  TOT: All Industries           10: Original  7: Northern Territory   \n",
       "3  TOT: All Industries           10: Original  7: Northern Territory   \n",
       "4  TOT: All Industries           10: Original  7: Northern Territory   \n",
       "\n",
       "  FREQ: Frequency TIME_PERIOD: Time Period  OBS_VALUE  \\\n",
       "0    Q: Quarterly                  1994-Q4      564.4   \n",
       "1    Q: Quarterly                  1995-Q2      564.7   \n",
       "2    Q: Quarterly                  1995-Q4      567.6   \n",
       "3    Q: Quarterly                  1996-Q2      571.0   \n",
       "4    Q: Quarterly                  1996-Q4      581.6   \n",
       "\n",
       "  UNIT_MEASURE: Unit of Measure OBS_STATUS: Observation Status  \\\n",
       "0       AUD: Australian Dollars                            NaN   \n",
       "1       AUD: Australian Dollars                            NaN   \n",
       "2       AUD: Australian Dollars                            NaN   \n",
       "3       AUD: Australian Dollars                            NaN   \n",
       "4       AUD: Australian Dollars                            NaN   \n",
       "\n",
       "   OBS_COMMENT: Observation Comment  \n",
       "0                               NaN  \n",
       "1                               NaN  \n",
       "2                               NaN  \n",
       "3                               NaN  \n",
       "4                               NaN  "
      ]
     },
     "execution_count": 112,
     "metadata": {},
     "output_type": "execute_result"
    }
   ],
   "source": [
    "csv_file = \"Resources/ABS_AWE.csv\"\n",
    "awe_data_df = pd.read_csv(csv_file)\n",
    "awe_data_df.head()"
   ]
  },
  {
   "cell_type": "markdown",
   "metadata": {},
   "source": [
    "Check Data Types"
   ]
  },
  {
   "cell_type": "code",
   "execution_count": 113,
   "metadata": {},
   "outputs": [
    {
     "data": {
      "text/plain": [
       "DATAFLOW                             object\n",
       "MEASURE: Measure                     object\n",
       "ESTIMATE_TYPE: Estimate Type         object\n",
       "SEX: Sex                             object\n",
       "SECTOR: Sector                       object\n",
       "INDUSTRY: Industry                   object\n",
       "TSEST: Adjustment Type               object\n",
       "REGION: Region                       object\n",
       "FREQ: Frequency                      object\n",
       "TIME_PERIOD: Time Period             object\n",
       "OBS_VALUE                           float64\n",
       "UNIT_MEASURE: Unit of Measure        object\n",
       "OBS_STATUS: Observation Status       object\n",
       "OBS_COMMENT: Observation Comment    float64\n",
       "dtype: object"
      ]
     },
     "execution_count": 113,
     "metadata": {},
     "output_type": "execute_result"
    }
   ],
   "source": [
    "awe_data_df.dtypes"
   ]
  },
  {
   "cell_type": "code",
   "execution_count": 114,
   "metadata": {
    "colab": {
     "base_uri": "https://localhost:8080/",
     "height": 458
    },
    "id": "uuz27M1k3CHE",
    "outputId": "70bbe3a1-b415-40fc-d29b-918afe696644"
   },
   "outputs": [
    {
     "data": {
      "text/html": [
       "<div>\n",
       "<style scoped>\n",
       "    .dataframe tbody tr th:only-of-type {\n",
       "        vertical-align: middle;\n",
       "    }\n",
       "\n",
       "    .dataframe tbody tr th {\n",
       "        vertical-align: top;\n",
       "    }\n",
       "\n",
       "    .dataframe thead th {\n",
       "        text-align: right;\n",
       "    }\n",
       "</style>\n",
       "<table border=\"1\" class=\"dataframe\">\n",
       "  <thead>\n",
       "    <tr style=\"text-align: right;\">\n",
       "      <th></th>\n",
       "      <th>MEASURE: Measure</th>\n",
       "      <th>ESTIMATE_TYPE: Estimate Type</th>\n",
       "      <th>SECTOR: Sector</th>\n",
       "      <th>INDUSTRY: Industry</th>\n",
       "      <th>REGION: Region</th>\n",
       "      <th>TIME_PERIOD: Time Period</th>\n",
       "      <th>OBS_VALUE</th>\n",
       "    </tr>\n",
       "  </thead>\n",
       "  <tbody>\n",
       "    <tr>\n",
       "      <th>0</th>\n",
       "      <td>1: All employees average weekly total earnings</td>\n",
       "      <td>1: Earnings</td>\n",
       "      <td>7: Private and Public</td>\n",
       "      <td>TOT: All Industries</td>\n",
       "      <td>7: Northern Territory</td>\n",
       "      <td>1994-Q4</td>\n",
       "      <td>564.4</td>\n",
       "    </tr>\n",
       "    <tr>\n",
       "      <th>1</th>\n",
       "      <td>1: All employees average weekly total earnings</td>\n",
       "      <td>1: Earnings</td>\n",
       "      <td>7: Private and Public</td>\n",
       "      <td>TOT: All Industries</td>\n",
       "      <td>7: Northern Territory</td>\n",
       "      <td>1995-Q2</td>\n",
       "      <td>564.7</td>\n",
       "    </tr>\n",
       "    <tr>\n",
       "      <th>2</th>\n",
       "      <td>1: All employees average weekly total earnings</td>\n",
       "      <td>1: Earnings</td>\n",
       "      <td>7: Private and Public</td>\n",
       "      <td>TOT: All Industries</td>\n",
       "      <td>7: Northern Territory</td>\n",
       "      <td>1995-Q4</td>\n",
       "      <td>567.6</td>\n",
       "    </tr>\n",
       "    <tr>\n",
       "      <th>3</th>\n",
       "      <td>1: All employees average weekly total earnings</td>\n",
       "      <td>1: Earnings</td>\n",
       "      <td>7: Private and Public</td>\n",
       "      <td>TOT: All Industries</td>\n",
       "      <td>7: Northern Territory</td>\n",
       "      <td>1996-Q2</td>\n",
       "      <td>571.0</td>\n",
       "    </tr>\n",
       "    <tr>\n",
       "      <th>4</th>\n",
       "      <td>1: All employees average weekly total earnings</td>\n",
       "      <td>1: Earnings</td>\n",
       "      <td>7: Private and Public</td>\n",
       "      <td>TOT: All Industries</td>\n",
       "      <td>7: Northern Territory</td>\n",
       "      <td>1996-Q4</td>\n",
       "      <td>581.6</td>\n",
       "    </tr>\n",
       "  </tbody>\n",
       "</table>\n",
       "</div>"
      ],
      "text/plain": [
       "                                 MEASURE: Measure  \\\n",
       "0  1: All employees average weekly total earnings   \n",
       "1  1: All employees average weekly total earnings   \n",
       "2  1: All employees average weekly total earnings   \n",
       "3  1: All employees average weekly total earnings   \n",
       "4  1: All employees average weekly total earnings   \n",
       "\n",
       "  ESTIMATE_TYPE: Estimate Type         SECTOR: Sector   INDUSTRY: Industry  \\\n",
       "0                  1: Earnings  7: Private and Public  TOT: All Industries   \n",
       "1                  1: Earnings  7: Private and Public  TOT: All Industries   \n",
       "2                  1: Earnings  7: Private and Public  TOT: All Industries   \n",
       "3                  1: Earnings  7: Private and Public  TOT: All Industries   \n",
       "4                  1: Earnings  7: Private and Public  TOT: All Industries   \n",
       "\n",
       "          REGION: Region TIME_PERIOD: Time Period  OBS_VALUE  \n",
       "0  7: Northern Territory                  1994-Q4      564.4  \n",
       "1  7: Northern Territory                  1995-Q2      564.7  \n",
       "2  7: Northern Territory                  1995-Q4      567.6  \n",
       "3  7: Northern Territory                  1996-Q2      571.0  \n",
       "4  7: Northern Territory                  1996-Q4      581.6  "
      ]
     },
     "execution_count": 114,
     "metadata": {},
     "output_type": "execute_result"
    }
   ],
   "source": [
    "# Delete column we don't want\n",
    "del awe_data_df['DATAFLOW']\n",
    "del awe_data_df['OBS_STATUS: Observation Status']\n",
    "del awe_data_df['OBS_COMMENT: Observation Comment']\n",
    "del awe_data_df['UNIT_MEASURE: Unit of Measure']\n",
    "del awe_data_df['TSEST: Adjustment Type']\n",
    "del awe_data_df['SEX: Sex']\n",
    "del awe_data_df['FREQ: Frequency']\n",
    "awe_data_df.head()"
   ]
  },
  {
   "cell_type": "code",
   "execution_count": 115,
   "metadata": {
    "colab": {
     "base_uri": "https://localhost:8080/"
    },
    "id": "QHA3EVg_3HsN",
    "outputId": "154b0d2e-a964-4b64-9591-bdc6794074d6"
   },
   "outputs": [
    {
     "data": {
      "text/plain": [
       "MEASURE: Measure                27726\n",
       "ESTIMATE_TYPE: Estimate Type    27726\n",
       "SECTOR: Sector                  27726\n",
       "INDUSTRY: Industry              27726\n",
       "REGION: Region                  27726\n",
       "TIME_PERIOD: Time Period        27726\n",
       "OBS_VALUE                       27726\n",
       "dtype: int64"
      ]
     },
     "execution_count": 115,
     "metadata": {},
     "output_type": "execute_result"
    }
   ],
   "source": [
    "# Identify incomplete rows\n",
    "awe_data_df.count()"
   ]
  },
  {
   "cell_type": "code",
   "execution_count": 116,
   "metadata": {},
   "outputs": [
    {
     "data": {
      "text/html": [
       "<div>\n",
       "<style scoped>\n",
       "    .dataframe tbody tr th:only-of-type {\n",
       "        vertical-align: middle;\n",
       "    }\n",
       "\n",
       "    .dataframe tbody tr th {\n",
       "        vertical-align: top;\n",
       "    }\n",
       "\n",
       "    .dataframe thead th {\n",
       "        text-align: right;\n",
       "    }\n",
       "</style>\n",
       "<table border=\"1\" class=\"dataframe\">\n",
       "  <thead>\n",
       "    <tr style=\"text-align: right;\">\n",
       "      <th></th>\n",
       "      <th>measure_id</th>\n",
       "      <th>type_id</th>\n",
       "      <th>sector_id</th>\n",
       "      <th>industry_id</th>\n",
       "      <th>state_id</th>\n",
       "      <th>quarter_id</th>\n",
       "      <th>net_change</th>\n",
       "    </tr>\n",
       "  </thead>\n",
       "  <tbody>\n",
       "    <tr>\n",
       "      <th>0</th>\n",
       "      <td>1: All employees average weekly total earnings</td>\n",
       "      <td>1: Earnings</td>\n",
       "      <td>7: Private and Public</td>\n",
       "      <td>TOT: All Industries</td>\n",
       "      <td>7: Northern Territory</td>\n",
       "      <td>1994-Q4</td>\n",
       "      <td>564.4</td>\n",
       "    </tr>\n",
       "    <tr>\n",
       "      <th>1</th>\n",
       "      <td>1: All employees average weekly total earnings</td>\n",
       "      <td>1: Earnings</td>\n",
       "      <td>7: Private and Public</td>\n",
       "      <td>TOT: All Industries</td>\n",
       "      <td>7: Northern Territory</td>\n",
       "      <td>1995-Q2</td>\n",
       "      <td>564.7</td>\n",
       "    </tr>\n",
       "    <tr>\n",
       "      <th>2</th>\n",
       "      <td>1: All employees average weekly total earnings</td>\n",
       "      <td>1: Earnings</td>\n",
       "      <td>7: Private and Public</td>\n",
       "      <td>TOT: All Industries</td>\n",
       "      <td>7: Northern Territory</td>\n",
       "      <td>1995-Q4</td>\n",
       "      <td>567.6</td>\n",
       "    </tr>\n",
       "    <tr>\n",
       "      <th>3</th>\n",
       "      <td>1: All employees average weekly total earnings</td>\n",
       "      <td>1: Earnings</td>\n",
       "      <td>7: Private and Public</td>\n",
       "      <td>TOT: All Industries</td>\n",
       "      <td>7: Northern Territory</td>\n",
       "      <td>1996-Q2</td>\n",
       "      <td>571.0</td>\n",
       "    </tr>\n",
       "    <tr>\n",
       "      <th>4</th>\n",
       "      <td>1: All employees average weekly total earnings</td>\n",
       "      <td>1: Earnings</td>\n",
       "      <td>7: Private and Public</td>\n",
       "      <td>TOT: All Industries</td>\n",
       "      <td>7: Northern Territory</td>\n",
       "      <td>1996-Q4</td>\n",
       "      <td>581.6</td>\n",
       "    </tr>\n",
       "    <tr>\n",
       "      <th>...</th>\n",
       "      <td>...</td>\n",
       "      <td>...</td>\n",
       "      <td>...</td>\n",
       "      <td>...</td>\n",
       "      <td>...</td>\n",
       "      <td>...</td>\n",
       "      <td>...</td>\n",
       "    </tr>\n",
       "    <tr>\n",
       "      <th>27721</th>\n",
       "      <td>3: Full-time adult average weekly ordinary tim...</td>\n",
       "      <td>2: Standard Error</td>\n",
       "      <td>7: Private and Public</td>\n",
       "      <td>R: Arts and Recreation Services</td>\n",
       "      <td>AUS: Australia</td>\n",
       "      <td>2020-Q2</td>\n",
       "      <td>45.4</td>\n",
       "    </tr>\n",
       "    <tr>\n",
       "      <th>27722</th>\n",
       "      <td>3: Full-time adult average weekly ordinary tim...</td>\n",
       "      <td>2: Standard Error</td>\n",
       "      <td>7: Private and Public</td>\n",
       "      <td>R: Arts and Recreation Services</td>\n",
       "      <td>AUS: Australia</td>\n",
       "      <td>2020-Q4</td>\n",
       "      <td>35.9</td>\n",
       "    </tr>\n",
       "    <tr>\n",
       "      <th>27723</th>\n",
       "      <td>3: Full-time adult average weekly ordinary tim...</td>\n",
       "      <td>2: Standard Error</td>\n",
       "      <td>7: Private and Public</td>\n",
       "      <td>R: Arts and Recreation Services</td>\n",
       "      <td>AUS: Australia</td>\n",
       "      <td>2021-Q2</td>\n",
       "      <td>26.7</td>\n",
       "    </tr>\n",
       "    <tr>\n",
       "      <th>27724</th>\n",
       "      <td>3: Full-time adult average weekly ordinary tim...</td>\n",
       "      <td>2: Standard Error</td>\n",
       "      <td>7: Private and Public</td>\n",
       "      <td>R: Arts and Recreation Services</td>\n",
       "      <td>AUS: Australia</td>\n",
       "      <td>2021-Q4</td>\n",
       "      <td>30.9</td>\n",
       "    </tr>\n",
       "    <tr>\n",
       "      <th>27725</th>\n",
       "      <td>3: Full-time adult average weekly ordinary tim...</td>\n",
       "      <td>2: Standard Error</td>\n",
       "      <td>7: Private and Public</td>\n",
       "      <td>R: Arts and Recreation Services</td>\n",
       "      <td>AUS: Australia</td>\n",
       "      <td>2022-Q2</td>\n",
       "      <td>49.3</td>\n",
       "    </tr>\n",
       "  </tbody>\n",
       "</table>\n",
       "<p>27726 rows × 7 columns</p>\n",
       "</div>"
      ],
      "text/plain": [
       "                                              measure_id            type_id  \\\n",
       "0         1: All employees average weekly total earnings        1: Earnings   \n",
       "1         1: All employees average weekly total earnings        1: Earnings   \n",
       "2         1: All employees average weekly total earnings        1: Earnings   \n",
       "3         1: All employees average weekly total earnings        1: Earnings   \n",
       "4         1: All employees average weekly total earnings        1: Earnings   \n",
       "...                                                  ...                ...   \n",
       "27721  3: Full-time adult average weekly ordinary tim...  2: Standard Error   \n",
       "27722  3: Full-time adult average weekly ordinary tim...  2: Standard Error   \n",
       "27723  3: Full-time adult average weekly ordinary tim...  2: Standard Error   \n",
       "27724  3: Full-time adult average weekly ordinary tim...  2: Standard Error   \n",
       "27725  3: Full-time adult average weekly ordinary tim...  2: Standard Error   \n",
       "\n",
       "                   sector_id                      industry_id  \\\n",
       "0      7: Private and Public              TOT: All Industries   \n",
       "1      7: Private and Public              TOT: All Industries   \n",
       "2      7: Private and Public              TOT: All Industries   \n",
       "3      7: Private and Public              TOT: All Industries   \n",
       "4      7: Private and Public              TOT: All Industries   \n",
       "...                      ...                              ...   \n",
       "27721  7: Private and Public  R: Arts and Recreation Services   \n",
       "27722  7: Private and Public  R: Arts and Recreation Services   \n",
       "27723  7: Private and Public  R: Arts and Recreation Services   \n",
       "27724  7: Private and Public  R: Arts and Recreation Services   \n",
       "27725  7: Private and Public  R: Arts and Recreation Services   \n",
       "\n",
       "                    state_id quarter_id  net_change  \n",
       "0      7: Northern Territory    1994-Q4       564.4  \n",
       "1      7: Northern Territory    1995-Q2       564.7  \n",
       "2      7: Northern Territory    1995-Q4       567.6  \n",
       "3      7: Northern Territory    1996-Q2       571.0  \n",
       "4      7: Northern Territory    1996-Q4       581.6  \n",
       "...                      ...        ...         ...  \n",
       "27721         AUS: Australia    2020-Q2        45.4  \n",
       "27722         AUS: Australia    2020-Q4        35.9  \n",
       "27723         AUS: Australia    2021-Q2        26.7  \n",
       "27724         AUS: Australia    2021-Q4        30.9  \n",
       "27725         AUS: Australia    2022-Q2        49.3  \n",
       "\n",
       "[27726 rows x 7 columns]"
      ]
     },
     "execution_count": 116,
     "metadata": {},
     "output_type": "execute_result"
    }
   ],
   "source": [
    "# Rename columns \n",
    "awe_data_df = awe_data_df.rename(columns={\"MEASURE: Measure\": \"measure_id\",\"REGION: Region\": \"state_id\", \"TIME_PERIOD: Time Period\": \"quarter_id\",\n",
    "                                              \"OBS_VALUE\": \"net_change\",\"ESTIMATE_TYPE: Estimate Type\":\"type_id\",\"SECTOR: Sector\":\"sector_id\",\"INDUSTRY: Industry\":\"industry_id\"})\n",
    "awe_data_df"
   ]
  },
  {
   "cell_type": "code",
   "execution_count": 117,
   "metadata": {
    "colab": {
     "base_uri": "https://localhost:8080/",
     "height": 300
    },
    "id": "F3hxVujC5pwk",
    "outputId": "866c49ca-dfef-4324-edc6-57c8bca2b05d"
   },
   "outputs": [
    {
     "data": {
      "text/html": [
       "<div>\n",
       "<style scoped>\n",
       "    .dataframe tbody tr th:only-of-type {\n",
       "        vertical-align: middle;\n",
       "    }\n",
       "\n",
       "    .dataframe tbody tr th {\n",
       "        vertical-align: top;\n",
       "    }\n",
       "\n",
       "    .dataframe thead th {\n",
       "        text-align: right;\n",
       "    }\n",
       "</style>\n",
       "<table border=\"1\" class=\"dataframe\">\n",
       "  <thead>\n",
       "    <tr style=\"text-align: right;\">\n",
       "      <th></th>\n",
       "      <th>net_change</th>\n",
       "    </tr>\n",
       "  </thead>\n",
       "  <tbody>\n",
       "    <tr>\n",
       "      <th>count</th>\n",
       "      <td>27726.000000</td>\n",
       "    </tr>\n",
       "    <tr>\n",
       "      <th>mean</th>\n",
       "      <td>812.616212</td>\n",
       "    </tr>\n",
       "    <tr>\n",
       "      <th>std</th>\n",
       "      <td>625.392315</td>\n",
       "    </tr>\n",
       "    <tr>\n",
       "      <th>min</th>\n",
       "      <td>2.300000</td>\n",
       "    </tr>\n",
       "    <tr>\n",
       "      <th>25%</th>\n",
       "      <td>43.500000</td>\n",
       "    </tr>\n",
       "    <tr>\n",
       "      <th>50%</th>\n",
       "      <td>837.150000</td>\n",
       "    </tr>\n",
       "    <tr>\n",
       "      <th>75%</th>\n",
       "      <td>1305.700000</td>\n",
       "    </tr>\n",
       "    <tr>\n",
       "      <th>max</th>\n",
       "      <td>2873.400000</td>\n",
       "    </tr>\n",
       "  </tbody>\n",
       "</table>\n",
       "</div>"
      ],
      "text/plain": [
       "         net_change\n",
       "count  27726.000000\n",
       "mean     812.616212\n",
       "std      625.392315\n",
       "min        2.300000\n",
       "25%       43.500000\n",
       "50%      837.150000\n",
       "75%     1305.700000\n",
       "max     2873.400000"
      ]
     },
     "execution_count": 117,
     "metadata": {},
     "output_type": "execute_result"
    }
   ],
   "source": [
    "# Display a statistical overview\n",
    "# We can infer the maximum allowable individual contribution from 'max'\n",
    "awe_data_df.describe()"
   ]
  },
  {
   "cell_type": "code",
   "execution_count": 118,
   "metadata": {
    "id": "4YM0filq508q"
   },
   "outputs": [],
   "source": [
    "awe_data_df.to_csv(\"Resources/johan_awe_employment_clean.csv\", index=False)"
   ]
  },
  {
   "cell_type": "markdown",
   "metadata": {
    "id": "f7U3l839wKwy"
   },
   "source": [
    "### Clean DataFrame"
   ]
  },
  {
   "cell_type": "code",
   "execution_count": 119,
   "metadata": {
    "colab": {
     "base_uri": "https://localhost:8080/",
     "height": 206
    },
    "id": "tMn2pkuywKwy",
    "outputId": "31fb1d21-23ba-474e-b40e-6f3e4ede5327"
   },
   "outputs": [
    {
     "ename": "KeyError",
     "evalue": "\"None of [Index(['MEASURE: Measure', 'REGION: Region', 'OBS_VALUE',\\n       'TIME_PERIOD: Time Period'],\\n      dtype='object')] are in the [columns]\"",
     "output_type": "error",
     "traceback": [
      "\u001b[1;31m---------------------------------------------------------------------------\u001b[0m",
      "\u001b[1;31mKeyError\u001b[0m                                  Traceback (most recent call last)",
      "\u001b[1;32m~\\AppData\\Local\\Temp\\ipykernel_7176\\1748818776.py\u001b[0m in \u001b[0;36m<module>\u001b[1;34m\u001b[0m\n\u001b[1;32m----> 1\u001b[1;33m \u001b[0mnew_awe_data_df\u001b[0m \u001b[1;33m=\u001b[0m \u001b[0mawe_data_df\u001b[0m\u001b[1;33m[\u001b[0m\u001b[1;33m[\u001b[0m\u001b[1;34m\"MEASURE: Measure\"\u001b[0m\u001b[1;33m,\u001b[0m \u001b[1;34m\"REGION: Region\"\u001b[0m\u001b[1;33m,\u001b[0m \u001b[1;34m\"OBS_VALUE\"\u001b[0m\u001b[1;33m,\u001b[0m \u001b[1;34m\"TIME_PERIOD: Time Period\"\u001b[0m\u001b[1;33m]\u001b[0m\u001b[1;33m]\u001b[0m\u001b[1;33m.\u001b[0m\u001b[0mcopy\u001b[0m\u001b[1;33m(\u001b[0m\u001b[1;33m)\u001b[0m\u001b[1;33m\u001b[0m\u001b[1;33m\u001b[0m\u001b[0m\n\u001b[0m\u001b[0;32m      2\u001b[0m \u001b[0mnew_awe_data_df\u001b[0m\u001b[1;33m.\u001b[0m\u001b[0mhead\u001b[0m\u001b[1;33m(\u001b[0m\u001b[1;33m)\u001b[0m\u001b[1;33m\u001b[0m\u001b[1;33m\u001b[0m\u001b[0m\n",
      "\u001b[1;32m~\\anaconda3\\envs\\PythonData\\lib\\site-packages\\pandas\\core\\frame.py\u001b[0m in \u001b[0;36m__getitem__\u001b[1;34m(self, key)\u001b[0m\n\u001b[0;32m   2804\u001b[0m             \u001b[1;32mif\u001b[0m \u001b[0mis_iterator\u001b[0m\u001b[1;33m(\u001b[0m\u001b[0mkey\u001b[0m\u001b[1;33m)\u001b[0m\u001b[1;33m:\u001b[0m\u001b[1;33m\u001b[0m\u001b[1;33m\u001b[0m\u001b[0m\n\u001b[0;32m   2805\u001b[0m                 \u001b[0mkey\u001b[0m \u001b[1;33m=\u001b[0m \u001b[0mlist\u001b[0m\u001b[1;33m(\u001b[0m\u001b[0mkey\u001b[0m\u001b[1;33m)\u001b[0m\u001b[1;33m\u001b[0m\u001b[1;33m\u001b[0m\u001b[0m\n\u001b[1;32m-> 2806\u001b[1;33m             \u001b[0mindexer\u001b[0m \u001b[1;33m=\u001b[0m \u001b[0mself\u001b[0m\u001b[1;33m.\u001b[0m\u001b[0mloc\u001b[0m\u001b[1;33m.\u001b[0m\u001b[0m_get_listlike_indexer\u001b[0m\u001b[1;33m(\u001b[0m\u001b[0mkey\u001b[0m\u001b[1;33m,\u001b[0m \u001b[0maxis\u001b[0m\u001b[1;33m=\u001b[0m\u001b[1;36m1\u001b[0m\u001b[1;33m,\u001b[0m \u001b[0mraise_missing\u001b[0m\u001b[1;33m=\u001b[0m\u001b[1;32mTrue\u001b[0m\u001b[1;33m)\u001b[0m\u001b[1;33m[\u001b[0m\u001b[1;36m1\u001b[0m\u001b[1;33m]\u001b[0m\u001b[1;33m\u001b[0m\u001b[1;33m\u001b[0m\u001b[0m\n\u001b[0m\u001b[0;32m   2807\u001b[0m \u001b[1;33m\u001b[0m\u001b[0m\n\u001b[0;32m   2808\u001b[0m         \u001b[1;31m# take() does not accept boolean indexers\u001b[0m\u001b[1;33m\u001b[0m\u001b[1;33m\u001b[0m\u001b[1;33m\u001b[0m\u001b[0m\n",
      "\u001b[1;32m~\\anaconda3\\envs\\PythonData\\lib\\site-packages\\pandas\\core\\indexing.py\u001b[0m in \u001b[0;36m_get_listlike_indexer\u001b[1;34m(self, key, axis, raise_missing)\u001b[0m\n\u001b[0;32m   1551\u001b[0m \u001b[1;33m\u001b[0m\u001b[0m\n\u001b[0;32m   1552\u001b[0m         self._validate_read_indexer(\n\u001b[1;32m-> 1553\u001b[1;33m             \u001b[0mkeyarr\u001b[0m\u001b[1;33m,\u001b[0m \u001b[0mindexer\u001b[0m\u001b[1;33m,\u001b[0m \u001b[0mo\u001b[0m\u001b[1;33m.\u001b[0m\u001b[0m_get_axis_number\u001b[0m\u001b[1;33m(\u001b[0m\u001b[0maxis\u001b[0m\u001b[1;33m)\u001b[0m\u001b[1;33m,\u001b[0m \u001b[0mraise_missing\u001b[0m\u001b[1;33m=\u001b[0m\u001b[0mraise_missing\u001b[0m\u001b[1;33m\u001b[0m\u001b[1;33m\u001b[0m\u001b[0m\n\u001b[0m\u001b[0;32m   1554\u001b[0m         )\n\u001b[0;32m   1555\u001b[0m         \u001b[1;32mreturn\u001b[0m \u001b[0mkeyarr\u001b[0m\u001b[1;33m,\u001b[0m \u001b[0mindexer\u001b[0m\u001b[1;33m\u001b[0m\u001b[1;33m\u001b[0m\u001b[0m\n",
      "\u001b[1;32m~\\anaconda3\\envs\\PythonData\\lib\\site-packages\\pandas\\core\\indexing.py\u001b[0m in \u001b[0;36m_validate_read_indexer\u001b[1;34m(self, key, indexer, axis, raise_missing)\u001b[0m\n\u001b[0;32m   1638\u001b[0m             \u001b[1;32mif\u001b[0m \u001b[0mmissing\u001b[0m \u001b[1;33m==\u001b[0m \u001b[0mlen\u001b[0m\u001b[1;33m(\u001b[0m\u001b[0mindexer\u001b[0m\u001b[1;33m)\u001b[0m\u001b[1;33m:\u001b[0m\u001b[1;33m\u001b[0m\u001b[1;33m\u001b[0m\u001b[0m\n\u001b[0;32m   1639\u001b[0m                 \u001b[0maxis_name\u001b[0m \u001b[1;33m=\u001b[0m \u001b[0mself\u001b[0m\u001b[1;33m.\u001b[0m\u001b[0mobj\u001b[0m\u001b[1;33m.\u001b[0m\u001b[0m_get_axis_name\u001b[0m\u001b[1;33m(\u001b[0m\u001b[0maxis\u001b[0m\u001b[1;33m)\u001b[0m\u001b[1;33m\u001b[0m\u001b[1;33m\u001b[0m\u001b[0m\n\u001b[1;32m-> 1640\u001b[1;33m                 \u001b[1;32mraise\u001b[0m \u001b[0mKeyError\u001b[0m\u001b[1;33m(\u001b[0m\u001b[1;34mf\"None of [{key}] are in the [{axis_name}]\"\u001b[0m\u001b[1;33m)\u001b[0m\u001b[1;33m\u001b[0m\u001b[1;33m\u001b[0m\u001b[0m\n\u001b[0m\u001b[0;32m   1641\u001b[0m \u001b[1;33m\u001b[0m\u001b[0m\n\u001b[0;32m   1642\u001b[0m             \u001b[1;31m# We (temporarily) allow for some missing keys with .loc, except in\u001b[0m\u001b[1;33m\u001b[0m\u001b[1;33m\u001b[0m\u001b[1;33m\u001b[0m\u001b[0m\n",
      "\u001b[1;31mKeyError\u001b[0m: \"None of [Index(['MEASURE: Measure', 'REGION: Region', 'OBS_VALUE',\\n       'TIME_PERIOD: Time Period'],\\n      dtype='object')] are in the [columns]\""
     ]
    }
   ],
   "source": [
    "new_awe_data_df = awe_data_df[[\"MEASURE: Measure\", \"REGION: Region\", \"OBS_VALUE\", \"TIME_PERIOD: Time Period\"]].copy()\n",
    "new_awe_data_df.head()"
   ]
  },
  {
   "cell_type": "markdown",
   "metadata": {
    "id": "-pD1xHyfwKwy"
   },
   "source": [
    "### Connect to local database"
   ]
  },
  {
   "cell_type": "code",
   "execution_count": null,
   "metadata": {
    "id": "RPT9qIz_wKwz"
   },
   "outputs": [],
   "source": [
    "protocol = 'postgresql'\n",
    "username = '<user name>'\n",
    "password = '<password>'\n",
    "host = 'localhost'\n",
    "port = 5432\n",
    "database_name = 'customer_db'\n",
    "rds_connection_string = f'{protocol}://{username}:{password}@{host}:{port}/{database_name}'\n",
    "engine = create_engine(rds_connection_string)\n",
    "insp = inspect(engine)"
   ]
  },
  {
   "cell_type": "markdown",
   "metadata": {
    "id": "p3A9DvngwKwz"
   },
   "source": [
    "### Check for tables"
   ]
  },
  {
   "cell_type": "code",
   "execution_count": null,
   "metadata": {
    "id": "iMh7KiK3wKwz",
    "outputId": "91e44989-8bde-4695-d855-69d5dad105ac"
   },
   "outputs": [
    {
     "data": {
      "text/plain": [
       "['customer_name', 'customer_location']"
      ]
     },
     "execution_count": 7,
     "metadata": {},
     "output_type": "execute_result"
    }
   ],
   "source": [
    "insp.get_table_names()"
   ]
  },
  {
   "cell_type": "markdown",
   "metadata": {
    "id": "1jRHbQKYwKwz"
   },
   "source": [
    "### Use pandas to load csv converted DataFrame into database"
   ]
  },
  {
   "cell_type": "code",
   "execution_count": null,
   "metadata": {
    "id": "tzudtGTvwKw0"
   },
   "outputs": [],
   "source": [
    "new_customer_data_df.to_sql(name='customer_name', con=engine, if_exists='append', index=False)"
   ]
  },
  {
   "cell_type": "markdown",
   "metadata": {
    "id": "skjTANHawKw0"
   },
   "source": [
    "### Use pandas to load json converted DataFrame into database"
   ]
  },
  {
   "cell_type": "code",
   "execution_count": null,
   "metadata": {
    "id": "puDJVBsHwKw0"
   },
   "outputs": [],
   "source": [
    "new_customer_location_df.to_sql(name='customer_location', con=engine, if_exists='append', index=False)"
   ]
  },
  {
   "cell_type": "markdown",
   "metadata": {
    "id": "RtNAtC23wKw0"
   },
   "source": [
    "### Confirm data has been added by querying the customer_name table\n",
    "* NOTE: can also check using pgAdmin"
   ]
  },
  {
   "cell_type": "code",
   "execution_count": null,
   "metadata": {
    "id": "E47VNCk_wKw0",
    "outputId": "94e18ced-e2b6-4003-9eb5-b5db3870475d"
   },
   "outputs": [
    {
     "data": {
      "text/html": [
       "<div>\n",
       "<style scoped>\n",
       "    .dataframe tbody tr th:only-of-type {\n",
       "        vertical-align: middle;\n",
       "    }\n",
       "\n",
       "    .dataframe tbody tr th {\n",
       "        vertical-align: top;\n",
       "    }\n",
       "\n",
       "    .dataframe thead th {\n",
       "        text-align: right;\n",
       "    }\n",
       "</style>\n",
       "<table border=\"1\" class=\"dataframe\">\n",
       "  <thead>\n",
       "    <tr style=\"text-align: right;\">\n",
       "      <th></th>\n",
       "      <th>id</th>\n",
       "      <th>first_name</th>\n",
       "      <th>last_name</th>\n",
       "    </tr>\n",
       "  </thead>\n",
       "  <tbody>\n",
       "    <tr>\n",
       "      <th>0</th>\n",
       "      <td>1</td>\n",
       "      <td>Benetta</td>\n",
       "      <td>Cancott</td>\n",
       "    </tr>\n",
       "    <tr>\n",
       "      <th>1</th>\n",
       "      <td>2</td>\n",
       "      <td>Lilyan</td>\n",
       "      <td>Cherry</td>\n",
       "    </tr>\n",
       "    <tr>\n",
       "      <th>2</th>\n",
       "      <td>3</td>\n",
       "      <td>Ezekiel</td>\n",
       "      <td>Benasik</td>\n",
       "    </tr>\n",
       "    <tr>\n",
       "      <th>3</th>\n",
       "      <td>4</td>\n",
       "      <td>Kennedy</td>\n",
       "      <td>Atlay</td>\n",
       "    </tr>\n",
       "    <tr>\n",
       "      <th>4</th>\n",
       "      <td>5</td>\n",
       "      <td>Sanford</td>\n",
       "      <td>Salmen</td>\n",
       "    </tr>\n",
       "  </tbody>\n",
       "</table>\n",
       "</div>"
      ],
      "text/plain": [
       "   id first_name last_name\n",
       "0   1    Benetta   Cancott\n",
       "1   2     Lilyan    Cherry\n",
       "2   3    Ezekiel   Benasik\n",
       "3   4    Kennedy     Atlay\n",
       "4   5    Sanford    Salmen"
      ]
     },
     "execution_count": 10,
     "metadata": {},
     "output_type": "execute_result"
    }
   ],
   "source": [
    "pd.read_sql_query('select * from customer_name', con=engine).head()"
   ]
  },
  {
   "cell_type": "markdown",
   "metadata": {
    "id": "dkuGpRCiwKw1"
   },
   "source": [
    "### Confirm data has been added by querying the customer_location table"
   ]
  },
  {
   "cell_type": "code",
   "execution_count": null,
   "metadata": {
    "id": "OABAo2g_wKw1",
    "outputId": "3ac5fa12-edf6-450e-d9ae-7c0e4d1873db"
   },
   "outputs": [
    {
     "data": {
      "text/html": [
       "<div>\n",
       "<style scoped>\n",
       "    .dataframe tbody tr th:only-of-type {\n",
       "        vertical-align: middle;\n",
       "    }\n",
       "\n",
       "    .dataframe tbody tr th {\n",
       "        vertical-align: top;\n",
       "    }\n",
       "\n",
       "    .dataframe thead th {\n",
       "        text-align: right;\n",
       "    }\n",
       "</style>\n",
       "<table border=\"1\" class=\"dataframe\">\n",
       "  <thead>\n",
       "    <tr style=\"text-align: right;\">\n",
       "      <th></th>\n",
       "      <th>id</th>\n",
       "      <th>address</th>\n",
       "      <th>city</th>\n",
       "      <th>aus_state</th>\n",
       "    </tr>\n",
       "  </thead>\n",
       "  <tbody>\n",
       "    <tr>\n",
       "      <th>0</th>\n",
       "      <td>1</td>\n",
       "      <td>043 Mockingbird Place</td>\n",
       "      <td>Ballarat</td>\n",
       "      <td>VIC</td>\n",
       "    </tr>\n",
       "    <tr>\n",
       "      <th>1</th>\n",
       "      <td>2</td>\n",
       "      <td>4 Prentice Point</td>\n",
       "      <td>Glenore Grove</td>\n",
       "      <td>QLD</td>\n",
       "    </tr>\n",
       "    <tr>\n",
       "      <th>2</th>\n",
       "      <td>3</td>\n",
       "      <td>46 Derek Junction</td>\n",
       "      <td>Bankstown</td>\n",
       "      <td>NSW</td>\n",
       "    </tr>\n",
       "    <tr>\n",
       "      <th>3</th>\n",
       "      <td>4</td>\n",
       "      <td>11966 Old Shore Place</td>\n",
       "      <td>Darwin</td>\n",
       "      <td>NT</td>\n",
       "    </tr>\n",
       "    <tr>\n",
       "      <th>4</th>\n",
       "      <td>5</td>\n",
       "      <td>5 Evergreen Circle</td>\n",
       "      <td>Horsham</td>\n",
       "      <td>VIC</td>\n",
       "    </tr>\n",
       "  </tbody>\n",
       "</table>\n",
       "</div>"
      ],
      "text/plain": [
       "   id                address           city aus_state\n",
       "0   1  043 Mockingbird Place       Ballarat       VIC\n",
       "1   2       4 Prentice Point  Glenore Grove       QLD\n",
       "2   3      46 Derek Junction      Bankstown       NSW\n",
       "3   4  11966 Old Shore Place         Darwin        NT\n",
       "4   5     5 Evergreen Circle        Horsham       VIC"
      ]
     },
     "execution_count": 11,
     "metadata": {},
     "output_type": "execute_result"
    }
   ],
   "source": [
    "pd.read_sql_query('select * from customer_location', con=engine).head()"
   ]
  },
  {
   "cell_type": "code",
   "execution_count": null,
   "metadata": {
    "id": "8gKgak65wKw1",
    "outputId": "7be9b1fb-9a51-4768-d14b-ad16ccd09d70"
   },
   "outputs": [
    {
     "data": {
      "text/html": [
       "<div>\n",
       "<style scoped>\n",
       "    .dataframe tbody tr th:only-of-type {\n",
       "        vertical-align: middle;\n",
       "    }\n",
       "\n",
       "    .dataframe tbody tr th {\n",
       "        vertical-align: top;\n",
       "    }\n",
       "\n",
       "    .dataframe thead th {\n",
       "        text-align: right;\n",
       "    }\n",
       "</style>\n",
       "<table border=\"1\" class=\"dataframe\">\n",
       "  <thead>\n",
       "    <tr style=\"text-align: right;\">\n",
       "      <th></th>\n",
       "      <th>id</th>\n",
       "      <th>first_name</th>\n",
       "      <th>last_name</th>\n",
       "      <th>address</th>\n",
       "      <th>city</th>\n",
       "      <th>aus_state</th>\n",
       "    </tr>\n",
       "  </thead>\n",
       "  <tbody>\n",
       "    <tr>\n",
       "      <th>0</th>\n",
       "      <td>1</td>\n",
       "      <td>Benetta</td>\n",
       "      <td>Cancott</td>\n",
       "      <td>043 Mockingbird Place</td>\n",
       "      <td>Ballarat</td>\n",
       "      <td>VIC</td>\n",
       "    </tr>\n",
       "    <tr>\n",
       "      <th>1</th>\n",
       "      <td>2</td>\n",
       "      <td>Lilyan</td>\n",
       "      <td>Cherry</td>\n",
       "      <td>4 Prentice Point</td>\n",
       "      <td>Glenore Grove</td>\n",
       "      <td>QLD</td>\n",
       "    </tr>\n",
       "    <tr>\n",
       "      <th>2</th>\n",
       "      <td>3</td>\n",
       "      <td>Ezekiel</td>\n",
       "      <td>Benasik</td>\n",
       "      <td>46 Derek Junction</td>\n",
       "      <td>Bankstown</td>\n",
       "      <td>NSW</td>\n",
       "    </tr>\n",
       "    <tr>\n",
       "      <th>3</th>\n",
       "      <td>4</td>\n",
       "      <td>Kennedy</td>\n",
       "      <td>Atlay</td>\n",
       "      <td>11966 Old Shore Place</td>\n",
       "      <td>Darwin</td>\n",
       "      <td>NT</td>\n",
       "    </tr>\n",
       "    <tr>\n",
       "      <th>4</th>\n",
       "      <td>5</td>\n",
       "      <td>Sanford</td>\n",
       "      <td>Salmen</td>\n",
       "      <td>5 Evergreen Circle</td>\n",
       "      <td>Horsham</td>\n",
       "      <td>VIC</td>\n",
       "    </tr>\n",
       "  </tbody>\n",
       "</table>\n",
       "</div>"
      ],
      "text/plain": [
       "   id first_name last_name                address           city aus_state\n",
       "0   1    Benetta   Cancott  043 Mockingbird Place       Ballarat       VIC\n",
       "1   2     Lilyan    Cherry       4 Prentice Point  Glenore Grove       QLD\n",
       "2   3    Ezekiel   Benasik      46 Derek Junction      Bankstown       NSW\n",
       "3   4    Kennedy     Atlay  11966 Old Shore Place         Darwin        NT\n",
       "4   5    Sanford    Salmen     5 Evergreen Circle        Horsham       VIC"
      ]
     },
     "execution_count": 12,
     "metadata": {},
     "output_type": "execute_result"
    }
   ],
   "source": [
    "sql_join = r\"\"\"SELECT customer_name.id, customer_name.first_name, customer_name.last_name, \n",
    "customer_location.address, customer_location.city, customer_location.aus_state\n",
    "FROM customer_name\n",
    "JOIN customer_location\n",
    "ON customer_name.id = customer_location.id\"\"\"\n",
    "pd.read_sql_query(sql_join, con=engine).head()"
   ]
  },
  {
   "cell_type": "code",
   "execution_count": null,
   "metadata": {
    "id": "gLfJoCVxwKw1"
   },
   "outputs": [],
   "source": []
  }
 ],
 "metadata": {
  "colab": {
   "provenance": []
  },
  "kernelspec": {
   "display_name": "PythonData",
   "language": "python",
   "name": "pythondata"
  },
  "language_info": {
   "codemirror_mode": {
    "name": "ipython",
    "version": 3
   },
   "file_extension": ".py",
   "mimetype": "text/x-python",
   "name": "python",
   "nbconvert_exporter": "python",
   "pygments_lexer": "ipython3",
   "version": "3.7.7"
  },
  "nteract": {
   "version": "0.12.3"
  }
 },
 "nbformat": 4,
 "nbformat_minor": 1
}
