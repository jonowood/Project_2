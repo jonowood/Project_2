{
 "cells": [
  {
   "cell_type": "code",
   "execution_count": 1,
   "metadata": {
    "id": "LGQmj4V0wKwp"
   },
   "outputs": [],
   "source": [
    "import os\n",
    "import pandas as pd\n",
    "from sqlalchemy import create_engine\n",
    "from sqlalchemy import inspect"
   ]
  },
  {
   "cell_type": "markdown",
   "metadata": {
    "id": "5fIz2mG8wKws"
   },
   "source": [
    "# Load and Store  ABS ERP CSV into DataFrame\n",
    "Load CSV"
   ]
  },
  {
   "cell_type": "code",
   "execution_count": 2,
   "metadata": {
    "colab": {
     "base_uri": "https://localhost:8080/",
     "height": 354
    },
    "id": "OTQspbMJwKwv",
    "outputId": "80ab72f5-fdf1-4e47-f12f-1c2a80abaaf5",
    "scrolled": false
   },
   "outputs": [
    {
     "data": {
      "text/html": [
       "<div>\n",
       "<style scoped>\n",
       "    .dataframe tbody tr th:only-of-type {\n",
       "        vertical-align: middle;\n",
       "    }\n",
       "\n",
       "    .dataframe tbody tr th {\n",
       "        vertical-align: top;\n",
       "    }\n",
       "\n",
       "    .dataframe thead th {\n",
       "        text-align: right;\n",
       "    }\n",
       "</style>\n",
       "<table border=\"1\" class=\"dataframe\">\n",
       "  <thead>\n",
       "    <tr style=\"text-align: right;\">\n",
       "      <th></th>\n",
       "      <th>DATAFLOW</th>\n",
       "      <th>MEASURE: Measure</th>\n",
       "      <th>REGION: Region</th>\n",
       "      <th>FREQ: Frequency</th>\n",
       "      <th>TIME_PERIOD: Time Period</th>\n",
       "      <th>OBS_VALUE</th>\n",
       "      <th>UNIT_MEASURE: Unit of Measure</th>\n",
       "      <th>UNIT_MULT: Unit of Multiplier</th>\n",
       "      <th>OBS_STATUS: Observation Status</th>\n",
       "      <th>OBS_COMMENT: Observation Comment</th>\n",
       "    </tr>\n",
       "  </thead>\n",
       "  <tbody>\n",
       "    <tr>\n",
       "      <th>0</th>\n",
       "      <td>ABS:ERP_COMP_Q(1.0.0)</td>\n",
       "      <td>Net Internal Migration</td>\n",
       "      <td>Western Australia</td>\n",
       "      <td>Q: Quarterly</td>\n",
       "      <td>1981-Q2</td>\n",
       "      <td>680.0</td>\n",
       "      <td>NUM: Number</td>\n",
       "      <td>0: Units</td>\n",
       "      <td>NaN</td>\n",
       "      <td>NaN</td>\n",
       "    </tr>\n",
       "    <tr>\n",
       "      <th>1</th>\n",
       "      <td>ABS:ERP_COMP_Q(1.0.0)</td>\n",
       "      <td>Net Internal Migration</td>\n",
       "      <td>Western Australia</td>\n",
       "      <td>Q: Quarterly</td>\n",
       "      <td>1981-Q3</td>\n",
       "      <td>2002.0</td>\n",
       "      <td>NUM: Number</td>\n",
       "      <td>0: Units</td>\n",
       "      <td>NaN</td>\n",
       "      <td>NaN</td>\n",
       "    </tr>\n",
       "    <tr>\n",
       "      <th>2</th>\n",
       "      <td>ABS:ERP_COMP_Q(1.0.0)</td>\n",
       "      <td>Net Internal Migration</td>\n",
       "      <td>Western Australia</td>\n",
       "      <td>Q: Quarterly</td>\n",
       "      <td>1981-Q4</td>\n",
       "      <td>441.0</td>\n",
       "      <td>NUM: Number</td>\n",
       "      <td>0: Units</td>\n",
       "      <td>NaN</td>\n",
       "      <td>NaN</td>\n",
       "    </tr>\n",
       "    <tr>\n",
       "      <th>3</th>\n",
       "      <td>ABS:ERP_COMP_Q(1.0.0)</td>\n",
       "      <td>Net Internal Migration</td>\n",
       "      <td>Western Australia</td>\n",
       "      <td>Q: Quarterly</td>\n",
       "      <td>1982-Q1</td>\n",
       "      <td>494.0</td>\n",
       "      <td>NUM: Number</td>\n",
       "      <td>0: Units</td>\n",
       "      <td>NaN</td>\n",
       "      <td>NaN</td>\n",
       "    </tr>\n",
       "    <tr>\n",
       "      <th>4</th>\n",
       "      <td>ABS:ERP_COMP_Q(1.0.0)</td>\n",
       "      <td>Net Internal Migration</td>\n",
       "      <td>Western Australia</td>\n",
       "      <td>Q: Quarterly</td>\n",
       "      <td>1982-Q2</td>\n",
       "      <td>621.0</td>\n",
       "      <td>NUM: Number</td>\n",
       "      <td>0: Units</td>\n",
       "      <td>NaN</td>\n",
       "      <td>NaN</td>\n",
       "    </tr>\n",
       "  </tbody>\n",
       "</table>\n",
       "</div>"
      ],
      "text/plain": [
       "                DATAFLOW         MEASURE: Measure      REGION: Region  \\\n",
       "0  ABS:ERP_COMP_Q(1.0.0)   Net Internal Migration   Western Australia   \n",
       "1  ABS:ERP_COMP_Q(1.0.0)   Net Internal Migration   Western Australia   \n",
       "2  ABS:ERP_COMP_Q(1.0.0)   Net Internal Migration   Western Australia   \n",
       "3  ABS:ERP_COMP_Q(1.0.0)   Net Internal Migration   Western Australia   \n",
       "4  ABS:ERP_COMP_Q(1.0.0)   Net Internal Migration   Western Australia   \n",
       "\n",
       "  FREQ: Frequency TIME_PERIOD: Time Period  OBS_VALUE  \\\n",
       "0    Q: Quarterly                  1981-Q2      680.0   \n",
       "1    Q: Quarterly                  1981-Q3     2002.0   \n",
       "2    Q: Quarterly                  1981-Q4      441.0   \n",
       "3    Q: Quarterly                  1982-Q1      494.0   \n",
       "4    Q: Quarterly                  1982-Q2      621.0   \n",
       "\n",
       "  UNIT_MEASURE: Unit of Measure UNIT_MULT: Unit of Multiplier  \\\n",
       "0                   NUM: Number                      0: Units   \n",
       "1                   NUM: Number                      0: Units   \n",
       "2                   NUM: Number                      0: Units   \n",
       "3                   NUM: Number                      0: Units   \n",
       "4                   NUM: Number                      0: Units   \n",
       "\n",
       "  OBS_STATUS: Observation Status  OBS_COMMENT: Observation Comment  \n",
       "0                            NaN                               NaN  \n",
       "1                            NaN                               NaN  \n",
       "2                            NaN                               NaN  \n",
       "3                            NaN                               NaN  \n",
       "4                            NaN                               NaN  "
      ]
     },
     "execution_count": 2,
     "metadata": {},
     "output_type": "execute_result"
    }
   ],
   "source": [
    "csv_file = os.path.join('..', 'Resources', 'ABS_ERP_COMP_CLEAN.csv')\n",
    "# csv_file = \"Resources/ABS_ERP_COMP_CLEAN.csv\"\n",
    "erp_data_df = pd.read_csv(csv_file)\n",
    "erp_data_df.head()"
   ]
  },
  {
   "cell_type": "markdown",
   "metadata": {},
   "source": [
    "TEMP file for INDEX resets for STATEs and QUARTERS"
   ]
  },
  {
   "cell_type": "code",
   "execution_count": null,
   "metadata": {},
   "outputs": [],
   "source": [
    "new_test_region_df = erp_data_df[['REGION: Region']].copy()\n",
    "new_test_region_df.head()"
   ]
  },
  {
   "cell_type": "code",
   "execution_count": null,
   "metadata": {},
   "outputs": [],
   "source": [
    "new_test_quarter_df = erp_data_df[['TIME_PERIOD: Time Period']].copy()\n",
    "new_test_quarter_df.head()"
   ]
  },
  {
   "cell_type": "code",
   "execution_count": null,
   "metadata": {},
   "outputs": [],
   "source": [
    "new_test_region_df = new_test_region_df.sort_values('REGION: Region').drop_duplicates('REGION: Region', keep='last')"
   ]
  },
  {
   "cell_type": "code",
   "execution_count": null,
   "metadata": {},
   "outputs": [],
   "source": [
    "new_test_quarter_df = new_test_quarter_df.sort_values('TIME_PERIOD: Time Period').drop_duplicates('TIME_PERIOD: Time Period', keep='last')"
   ]
  },
  {
   "cell_type": "code",
   "execution_count": null,
   "metadata": {
    "scrolled": true
   },
   "outputs": [],
   "source": [
    "new_test_region_df.reset_index(level=0, inplace=True)\n",
    "new_test_region_df"
   ]
  },
  {
   "cell_type": "code",
   "execution_count": null,
   "metadata": {},
   "outputs": [],
   "source": [
    "new_test_quarter_df.reset_index(level=0, inplace=True)\n",
    "new_test_quarter_df"
   ]
  },
  {
   "cell_type": "code",
   "execution_count": null,
   "metadata": {
    "scrolled": true
   },
   "outputs": [],
   "source": [
    "new_test_region_df.rename(columns = {'index':'state_id', 'REGION: Region': 'state_name'}, inplace=True)\n",
    "new_test_region_df"
   ]
  },
  {
   "cell_type": "code",
   "execution_count": null,
   "metadata": {},
   "outputs": [],
   "source": [
    "new_test_quarter_df.rename(columns = {'index':'quarter_id', 'TIME_PERIOD: Time Period': 'date_quarter'}, inplace=True)\n",
    "new_test_quarter_df"
   ]
  },
  {
   "cell_type": "markdown",
   "metadata": {},
   "source": [
    "---------------------------------------------------------------------------"
   ]
  },
  {
   "cell_type": "markdown",
   "metadata": {},
   "source": [
    "# Load and Store ABS AWE CSV into DataFrame\n",
    "Load CSV"
   ]
  },
  {
   "cell_type": "code",
   "execution_count": null,
   "metadata": {
    "colab": {
     "base_uri": "https://localhost:8080/",
     "height": 545
    },
    "id": "RkcoOWDPwKwy",
    "outputId": "7f45ae09-1ca0-4e7a-ed5f-7820ec08ec6e",
    "scrolled": true
   },
   "outputs": [],
   "source": [
    "csv_file = os.path.join('..', 'Resources', 'ABS_ERP_COMP_CLEAN.csv')\n",
    "# csv_file = \"Resources/ABS_AWE_CLEAN.csv\"\n",
    "awe_data_df = pd.read_csv(csv_file)\n",
    "awe_data_df.head()"
   ]
  },
  {
   "cell_type": "markdown",
   "metadata": {},
   "source": [
    "Check Data Types"
   ]
  },
  {
   "cell_type": "code",
   "execution_count": null,
   "metadata": {
    "scrolled": true
   },
   "outputs": [],
   "source": [
    "awe_data_df.dtypes"
   ]
  },
  {
   "cell_type": "code",
   "execution_count": null,
   "metadata": {},
   "outputs": [],
   "source": [
    "new_test2_df = awe_data_df[['REGION: Region']].copy()\n",
    "new_test2_df.head()"
   ]
  },
  {
   "cell_type": "code",
   "execution_count": null,
   "metadata": {},
   "outputs": [],
   "source": [
    "new_test2_df = new_test2_df.sort_values('REGION: Region').drop_duplicates('REGION: Region', keep='last')"
   ]
  },
  {
   "cell_type": "code",
   "execution_count": null,
   "metadata": {},
   "outputs": [],
   "source": [
    "#new_test_df=new_test_df.set_index(name=\"index\",start=100)\n",
    "new_test2_df.reset_index(level=0, inplace=True)\n",
    "new_test2_df"
   ]
  },
  {
   "cell_type": "code",
   "execution_count": null,
   "metadata": {},
   "outputs": [],
   "source": [
    "awe_data_df"
   ]
  },
  {
   "cell_type": "code",
   "execution_count": null,
   "metadata": {
    "colab": {
     "base_uri": "https://localhost:8080/",
     "height": 458
    },
    "id": "uuz27M1k3CHE",
    "outputId": "70bbe3a1-b415-40fc-d29b-918afe696644"
   },
   "outputs": [],
   "source": [
    "# Delete column we don't want\n",
    "# del awe_data_df['DATAFLOW']\n",
    "del awe_data_df['OBS_STATUS: Observation Status']\n",
    "del awe_data_df['OBS_COMMENT: Observation Comment']\n",
    "del awe_data_df['UNIT_MEASURE: Unit of Measure']\n",
    "# del awe_data_df['TSEST: Adjustment Type']\n",
    "# del awe_data_df['SEX: Sex']\n",
    "del awe_data_df['FREQ: Frequency']\n",
    "awe_data_df.head()"
   ]
  },
  {
   "cell_type": "code",
   "execution_count": null,
   "metadata": {
    "scrolled": true
   },
   "outputs": [],
   "source": [
    "# Merge two dataframes using an inner join\n",
    "awe_merge_df = pd.merge(awe_data_df, new_test2_df, on=\"REGION: Region\")\n",
    "awe_merge_df"
   ]
  },
  {
   "cell_type": "code",
   "execution_count": null,
   "metadata": {},
   "outputs": [],
   "source": [
    "# Identify incomplete rows\n",
    "awe_merge_df.count()"
   ]
  },
  {
   "cell_type": "code",
   "execution_count": null,
   "metadata": {
    "colab": {
     "base_uri": "https://localhost:8080/"
    },
    "id": "QHA3EVg_3HsN",
    "outputId": "154b0d2e-a964-4b64-9591-bdc6794074d6",
    "scrolled": true
   },
   "outputs": [],
   "source": [
    "# Identify incomplete rows\n",
    "awe_data_df.count()"
   ]
  },
  {
   "cell_type": "code",
   "execution_count": null,
   "metadata": {},
   "outputs": [],
   "source": [
    "new_test2_df = awe_data_df[['REGION: Region']].copy()\n",
    "new_test2_df.head()"
   ]
  },
  {
   "cell_type": "code",
   "execution_count": null,
   "metadata": {},
   "outputs": [],
   "source": [
    "# Rename columns \n",
    "awe_data_df = awe_data_df.rename(columns={\"MEASURE: Measure\": \"measure_id\",\"REGION: Region\": \"region\", \"TIME_PERIOD: Time Period\": \"quarter_id\",\n",
    "                                              \"OBS_VALUE\": \"net_change\",\"ESTIMATE_TYPE: Estimate Type\":\"type_id\",\"SECTOR: Sector\":\"sector_id\",\"INDUSTRY: Industry\":\"industry_id\"})\n",
    "awe_data_df"
   ]
  },
  {
   "cell_type": "code",
   "execution_count": null,
   "metadata": {
    "colab": {
     "base_uri": "https://localhost:8080/",
     "height": 300
    },
    "id": "F3hxVujC5pwk",
    "outputId": "866c49ca-dfef-4324-edc6-57c8bca2b05d"
   },
   "outputs": [],
   "source": [
    "# Display a statistical overview\n",
    "# We can infer the maximum allowable individual contribution from 'max'\n",
    "awe_data_df.describe()"
   ]
  },
  {
   "cell_type": "code",
   "execution_count": null,
   "metadata": {
    "id": "4YM0filq508q"
   },
   "outputs": [],
   "source": [
    "awe_data_df.to_csv(\"Resources/johan_awe_employment_clean.csv\", index=False)"
   ]
  },
  {
   "cell_type": "markdown",
   "metadata": {
    "id": "f7U3l839wKwy"
   },
   "source": [
    "### Clean DataFrame"
   ]
  },
  {
   "cell_type": "code",
   "execution_count": null,
   "metadata": {},
   "outputs": [],
   "source": [
    "# Identify incomplete rows\n",
    "awe_data_df.count()"
   ]
  },
  {
   "cell_type": "code",
   "execution_count": null,
   "metadata": {
    "colab": {
     "base_uri": "https://localhost:8080/",
     "height": 206
    },
    "id": "tMn2pkuywKwy",
    "outputId": "31fb1d21-23ba-474e-b40e-6f3e4ede5327"
   },
   "outputs": [],
   "source": [
    "new_awe_data_df = awe_data_df[['measure_id','state_id','quarter_id','net_change','type_id','sector_id','industry_id']].copy()\n",
    "new_awe_data_df.head()\n",
    "                             "
   ]
  },
  {
   "cell_type": "code",
   "execution_count": null,
   "metadata": {
    "scrolled": false
   },
   "outputs": [],
   "source": [
    "average_aernings_df = awe_data_df[['state_id','quarter_id','net_change']].copy()\n",
    "average_aernings_df.head()"
   ]
  },
  {
   "cell_type": "code",
   "execution_count": null,
   "metadata": {},
   "outputs": [],
   "source": [
    "#Rename columns \n",
    "average_aernings_df = average_aernings_df.rename(columns={\"net_change\": \"avg_earnings\"})\n",
    "average_aernings_df"
   ]
  },
  {
   "cell_type": "code",
   "execution_count": null,
   "metadata": {},
   "outputs": [],
   "source": [
    "new_awe_data_df.to_csv(\"Resources/johan_awe_employment_clean.csv\", index=False)\n",
    "average_aernings_df.to_csv(\"Resources/johan_average_earnings_clean.csv\", index=False)"
   ]
  },
  {
   "cell_type": "markdown",
   "metadata": {
    "id": "-pD1xHyfwKwy"
   },
   "source": [
    "### Connect to local database"
   ]
  },
  {
   "cell_type": "code",
   "execution_count": null,
   "metadata": {
    "id": "RPT9qIz_wKwz"
   },
   "outputs": [],
   "source": [
    "protocol = 'postgresql'\n",
    "username = 'postgres'\n",
    "password = 'Fransien1'\n",
    "host = 'localhost'\n",
    "port = 5433\n",
    "database_name = 'Project2'\n",
    "rds_connection_string = f'{protocol}://{username}:{password}@{host}:{port}/{database_name}'\n",
    "engine = create_engine(rds_connection_string)\n",
    "insp = inspect(engine)"
   ]
  },
  {
   "cell_type": "markdown",
   "metadata": {
    "id": "p3A9DvngwKwz"
   },
   "source": [
    "### Check for tables"
   ]
  },
  {
   "cell_type": "code",
   "execution_count": null,
   "metadata": {
    "id": "iMh7KiK3wKwz",
    "outputId": "91e44989-8bde-4695-d855-69d5dad105ac"
   },
   "outputs": [],
   "source": [
    "insp.get_table_names()"
   ]
  },
  {
   "cell_type": "markdown",
   "metadata": {
    "id": "1jRHbQKYwKwz"
   },
   "source": [
    "### Use pandas to load csv converted DataFrame into database"
   ]
  },
  {
   "cell_type": "code",
   "execution_count": null,
   "metadata": {},
   "outputs": [],
   "source": [
    "#check if the DF is goof to load\n",
    "new_test_region_df.head()"
   ]
  },
  {
   "cell_type": "code",
   "execution_count": null,
   "metadata": {
    "id": "puDJVBsHwKw0",
    "scrolled": true
   },
   "outputs": [],
   "source": [
    "#load STATES DB with teh data from the DF\n",
    "new_test_region_df.to_sql(name='states', con=engine, if_exists='append', index=False)"
   ]
  },
  {
   "cell_type": "code",
   "execution_count": null,
   "metadata": {},
   "outputs": [],
   "source": [
    "#check if the DF is goof to load\n",
    "new_test_quarter_df.head()"
   ]
  },
  {
   "cell_type": "code",
   "execution_count": null,
   "metadata": {},
   "outputs": [],
   "source": [
    "#load STATES DB with teh data from the DF\n",
    "new_test_quarter_df.to_sql(name='quarters', con=engine, if_exists='append', index=False)"
   ]
  },
  {
   "cell_type": "markdown",
   "metadata": {
    "id": "RtNAtC23wKw0"
   },
   "source": [
    "### Confirm data has been added by querying\n",
    "* NOTE: can also check using pgAdmin"
   ]
  },
  {
   "cell_type": "code",
   "execution_count": null,
   "metadata": {
    "id": "E47VNCk_wKw0",
    "outputId": "94e18ced-e2b6-4003-9eb5-b5db3870475d"
   },
   "outputs": [],
   "source": [
    "#TEST States DB to see if the dada loaded\n",
    "pd.read_sql_query('select * from states', con=engine).head()"
   ]
  },
  {
   "cell_type": "code",
   "execution_count": null,
   "metadata": {},
   "outputs": [],
   "source": [
    "#TEST States DB to see if the dada loaded\n",
    "pd.read_sql_query('select * from quarters', con=engine).head()"
   ]
  },
  {
   "cell_type": "markdown",
   "metadata": {
    "id": "dkuGpRCiwKw1"
   },
   "source": [
    "### Confirm data has been added by querying "
   ]
  },
  {
   "cell_type": "code",
   "execution_count": null,
   "metadata": {
    "id": "OABAo2g_wKw1",
    "outputId": "3ac5fa12-edf6-450e-d9ae-7c0e4d1873db",
    "scrolled": true
   },
   "outputs": [],
   "source": [
    "pd.read_sql_query('select * from states', con=engine).head()"
   ]
  },
  {
   "cell_type": "code",
   "execution_count": null,
   "metadata": {
    "id": "gLfJoCVxwKw1"
   },
   "outputs": [],
   "source": []
  }
 ],
 "metadata": {
  "colab": {
   "provenance": []
  },
  "kernelspec": {
   "display_name": "Python 3 (ipykernel)",
   "language": "python",
   "name": "python3"
  },
  "language_info": {
   "codemirror_mode": {
    "name": "ipython",
    "version": 3
   },
   "file_extension": ".py",
   "mimetype": "text/x-python",
   "name": "python",
   "nbconvert_exporter": "python",
   "pygments_lexer": "ipython3",
   "version": "3.9.12"
  },
  "nteract": {
   "version": "0.12.3"
  }
 },
 "nbformat": 4,
 "nbformat_minor": 1
}
